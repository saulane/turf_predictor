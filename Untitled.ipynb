{
 "cells": [
  {
   "cell_type": "code",
   "execution_count": 80,
   "id": "837fcc91",
   "metadata": {},
   "outputs": [],
   "source": [
    "using MLDatasets\n",
    "using LinearAlgebra"
   ]
  },
  {
   "cell_type": "code",
   "execution_count": 13,
   "id": "3000c85b",
   "metadata": {},
   "outputs": [
    {
     "ename": "LoadError",
     "evalue": "MethodError: objects of type Module are not callable",
     "output_type": "error",
     "traceback": [
      "MethodError: objects of type Module are not callable",
      "",
      "Stacktrace:",
      " [1] top-level scope",
      "   @ In[13]:1",
      " [2] eval",
      "   @ .\\boot.jl:368 [inlined]",
      " [3] include_string(mapexpr::typeof(REPL.softscope), mod::Module, code::String, filename::String)",
      "   @ Base .\\loading.jl:1428"
     ]
    }
   ],
   "source": [
    "iris = Iris()"
   ]
  },
  {
   "cell_type": "code",
   "execution_count": 16,
   "id": "35ecad55",
   "metadata": {
    "scrolled": true
   },
   "outputs": [
    {
     "data": {
      "text/plain": [
       "100-element Vector{Int64}:\n",
       " 0\n",
       " 0\n",
       " 0\n",
       " 0\n",
       " 0\n",
       " 0\n",
       " 1\n",
       " 0\n",
       " 1\n",
       " 0\n",
       " 0\n",
       " 1\n",
       " 0\n",
       " ⋮\n",
       " 0\n",
       " 1\n",
       " 1\n",
       " 1\n",
       " 1\n",
       " 1\n",
       " 1\n",
       " 0\n",
       " 0\n",
       " 0\n",
       " 0\n",
       " 0"
      ]
     },
     "execution_count": 16,
     "metadata": {},
     "output_type": "execute_result"
    }
   ],
   "source": [
    "X = rand(1:9, (100,3))\n",
    "y = rand(0:1, 100)"
   ]
  },
  {
   "cell_type": "code",
   "execution_count": 59,
   "id": "6128d848",
   "metadata": {},
   "outputs": [
    {
     "data": {
      "text/plain": [
       "softmax (generic function with 1 method)"
      ]
     },
     "execution_count": 59,
     "metadata": {},
     "output_type": "execute_result"
    }
   ],
   "source": [
    "function softmax(z)\n",
    "    s = zeros(size(z))\n",
    "    for i in 1:size(z,1)\n",
    "        s[i,:] = exp.(z[i,:])/sum(exp.(z[i,:]))\n",
    "    end\n",
    "    return s\n",
    "end"
   ]
  },
  {
   "cell_type": "code",
   "execution_count": null,
   "id": "f919a731",
   "metadata": {},
   "outputs": [],
   "source": [
    "function loss(x,y,w):\n",
    "    n,m = size(x)\n",
    "    Z = -dot(x,w)\n",
    "    \n",
    "    return 1/n * ( tr( dot(x,W,) ) )\n",
    "    "
   ]
  },
  {
   "cell_type": "code",
   "execution_count": 77,
   "id": "2bcfec5a",
   "metadata": {},
   "outputs": [
    {
     "data": {
      "text/plain": [
       "3×3 Matrix{Float64}:\n",
       " 0.1  0.2  0.4\n",
       " 0.1  0.1  0.3\n",
       " 0.1  0.1  0.3"
      ]
     },
     "execution_count": 77,
     "metadata": {},
     "output_type": "execute_result"
    }
   ],
   "source": [
    "z = [0.1 0.2 0.4; 0.1 0.1 0.3; 0.1 0.1 0.3]"
   ]
  },
  {
   "cell_type": "code",
   "execution_count": 73,
   "id": "fd07c84f",
   "metadata": {},
   "outputs": [
    {
     "name": "stdout",
     "output_type": "stream",
     "text": [
      "  0.000010 seconds (11 allocations: 912 bytes)\n"
     ]
    },
    {
     "data": {
      "text/plain": [
       "2×3 Matrix{Float64}:\n",
       " 0.289433  0.319873  0.390694\n",
       " 0.310424  0.310424  0.379152"
      ]
     },
     "execution_count": 73,
     "metadata": {},
     "output_type": "execute_result"
    }
   ],
   "source": [
    "@time softmax(z)"
   ]
  },
  {
   "cell_type": "code",
   "execution_count": 74,
   "id": "bea56b7c",
   "metadata": {},
   "outputs": [
    {
     "data": {
      "text/plain": [
       "1.0"
      ]
     },
     "execution_count": 74,
     "metadata": {},
     "output_type": "execute_result"
    }
   ],
   "source": [
    "z2 = sum(softmax(z)[1,:])"
   ]
  },
  {
   "cell_type": "code",
   "execution_count": 75,
   "id": "8c4b3ff3",
   "metadata": {},
   "outputs": [
    {
     "data": {
      "text/plain": [
       "(2, 3)"
      ]
     },
     "execution_count": 75,
     "metadata": {},
     "output_type": "execute_result"
    }
   ],
   "source": [
    "n,m = size(z)"
   ]
  },
  {
   "cell_type": "code",
   "execution_count": 83,
   "id": "e75396f8",
   "metadata": {},
   "outputs": [
    {
     "data": {
      "text/plain": [
       "3×3 transpose(::Matrix{Float64}) with eltype Float64:\n",
       " 0.1  0.1  0.1\n",
       " 0.2  0.1  0.1\n",
       " 0.4  0.3  0.3"
      ]
     },
     "execution_count": 83,
     "metadata": {},
     "output_type": "execute_result"
    }
   ],
   "source": [
    "transpose(z)"
   ]
  },
  {
   "cell_type": "code",
   "execution_count": null,
   "id": "8eb7ae7f",
   "metadata": {},
   "outputs": [],
   "source": []
  }
 ],
 "metadata": {
  "kernelspec": {
   "display_name": "Julia 1.8.3",
   "language": "julia",
   "name": "julia-1.8"
  },
  "language_info": {
   "file_extension": ".jl",
   "mimetype": "application/julia",
   "name": "julia",
   "version": "1.8.3"
  }
 },
 "nbformat": 4,
 "nbformat_minor": 5
}
