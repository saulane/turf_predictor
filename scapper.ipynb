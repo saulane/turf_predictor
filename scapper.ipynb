{
 "cells": [
  {
   "cell_type": "code",
   "execution_count": 2,
   "id": "9605c911-d493-4d2b-afa2-324ecb136bfe",
   "metadata": {},
   "outputs": [],
   "source": [
    "import io\n",
    "import json\n",
    "import os\n",
    "import sys\n",
    "import pandas as pd\n",
    "from bs4 import BeautifulSoup as bs\n",
    "import requests"
   ]
  },
  {
   "cell_type": "code",
   "execution_count": 9,
   "id": "d22e080c-b7bb-4c65-bcdf-f766a7a85b23",
   "metadata": {},
   "outputs": [],
   "source": [
    "headers = {\n",
    "    'Accept-Encoding': 'gzip, deflate, sdch',\n",
    "    'Accept-Language': 'en-US,en;q=0.8',\n",
    "    'Upgrade-Insecure-Requests': '1',\n",
    "    'User-Agent': 'Mozilla/5.0 (X11; Linux x86_64) AppleWebKit/537.36 (KHTML, like Gecko) Chrome/56.0.2924.87 Safari/537.36',\n",
    "    'Accept': 'text/html,application/xhtml+xml,application/xml;q=0.9,image/webp,*/*;q=0.8',\n",
    "    'Cache-Control': 'max-age=0',\n",
    "    'Connection': 'keep-alive',\n",
    "}"
   ]
  },
  {
   "cell_type": "code",
   "execution_count": 10,
   "id": "cdb5f43a-07ce-4602-ac8f-39112b9cb42b",
   "metadata": {},
   "outputs": [],
   "source": [
    "r = requests.get(\"https://www.letrot.com/fr/courses/calendrier-resultats\", headers=headers)"
   ]
  },
  {
   "cell_type": "code",
   "execution_count": 12,
   "id": "82c32376-56d0-4848-bd39-3183bd88ea0a",
   "metadata": {},
   "outputs": [],
   "source": [
    "soup = bs(r.text, \"html.parser\")"
   ]
  },
  {
   "cell_type": "code",
   "execution_count": 18,
   "id": "b6bde38a-d459-4021-8272-900c6447f119",
   "metadata": {},
   "outputs": [],
   "source": [
    "courses = soup.find_all(\"a\", {\"class\": \"racesHippodrome\"})"
   ]
  },
  {
   "cell_type": "code",
   "execution_count": 30,
   "id": "82515ffb-859b-4498-afa0-05df31386577",
   "metadata": {
    "tags": []
   },
   "outputs": [
    {
     "data": {
      "text/plain": [
       "'VINCENNES'"
      ]
     },
     "execution_count": 30,
     "metadata": {},
     "output_type": "execute_result"
    }
   ],
   "source": [
    "courses[0].text[2:].replace(\" \", \"\")"
   ]
  },
  {
   "cell_type": "code",
   "execution_count": 31,
   "id": "c49ba099-53ef-4aa4-9cca-8ba9e909e558",
   "metadata": {},
   "outputs": [
    {
     "data": {
      "text/plain": [
       "'/stats/courses/programme/2022-11-03/7500'"
      ]
     },
     "execution_count": 31,
     "metadata": {},
     "output_type": "execute_result"
    }
   ],
   "source": [
    "courses[0].get(\"href\")"
   ]
  },
  {
   "cell_type": "code",
   "execution_count": 38,
   "id": "8020f3ca-9119-4428-bbcc-6e8cc2d15c22",
   "metadata": {},
   "outputs": [],
   "source": [
    "def courses(debut, fin):\n",
    "    courses_dict = []\n",
    "    url = f\"https://www.letrot.com/fr/courses/calendrier-resultats?publish_up={debut}&publish_down={fin}\"\n",
    "    r = requests.get(url, headers=headers)\n",
    "    soup = bs(r.text, \"html.parser\")\n",
    "    courses_raw = soup.find_all(\"a\", {\"class\": \"racesHippodrome\"})\n",
    "    \n",
    "    for c in courses_raw:\n",
    "        date = c.get(\"href\").split(\"/\")[-2]\n",
    "        courses_dict.append({\"date\": date, \"Hyppodrome\": c.text[2:].replace(\" \", \"\"), \"lien\": c.get(\"href\")})\n",
    "    \n",
    "    return pd.DataFrame(courses_dict)"
   ]
  },
  {
   "cell_type": "code",
   "execution_count": 40,
   "id": "f7bbd1b0-59b6-4e20-8586-d88104c525b9",
   "metadata": {},
   "outputs": [
    {
     "data": {
      "text/html": [
       "<div>\n",
       "<style scoped>\n",
       "    .dataframe tbody tr th:only-of-type {\n",
       "        vertical-align: middle;\n",
       "    }\n",
       "\n",
       "    .dataframe tbody tr th {\n",
       "        vertical-align: top;\n",
       "    }\n",
       "\n",
       "    .dataframe thead th {\n",
       "        text-align: right;\n",
       "    }\n",
       "</style>\n",
       "<table border=\"1\" class=\"dataframe\">\n",
       "  <thead>\n",
       "    <tr style=\"text-align: right;\">\n",
       "      <th></th>\n",
       "      <th>date</th>\n",
       "      <th>Hyppodrome</th>\n",
       "      <th>lien</th>\n",
       "    </tr>\n",
       "  </thead>\n",
       "  <tbody>\n",
       "    <tr>\n",
       "      <th>0</th>\n",
       "      <td>2021-11-01</td>\n",
       "      <td>LAVAL</td>\n",
       "      <td>/stats/courses/programme/2021-11-01/5305</td>\n",
       "    </tr>\n",
       "    <tr>\n",
       "      <th>1</th>\n",
       "      <td>2021-11-01</td>\n",
       "      <td>LECROISE-LAROCHE</td>\n",
       "      <td>/stats/courses/programme/2021-11-01/5901</td>\n",
       "    </tr>\n",
       "    <tr>\n",
       "      <th>2</th>\n",
       "      <td>2021-11-01</td>\n",
       "      <td>ANGOULEME</td>\n",
       "      <td>/stats/courses/programme/2021-11-01/1601</td>\n",
       "    </tr>\n",
       "    <tr>\n",
       "      <th>3</th>\n",
       "      <td>2021-11-01</td>\n",
       "      <td>BEAUMONTDELOMAGNE</td>\n",
       "      <td>/stats/courses/programme/2021-11-01/8201</td>\n",
       "    </tr>\n",
       "    <tr>\n",
       "      <th>4</th>\n",
       "      <td>2021-11-01</td>\n",
       "      <td>CHERBOURG</td>\n",
       "      <td>/stats/courses/programme/2021-11-01/5006</td>\n",
       "    </tr>\n",
       "    <tr>\n",
       "      <th>...</th>\n",
       "      <td>...</td>\n",
       "      <td>...</td>\n",
       "      <td>...</td>\n",
       "    </tr>\n",
       "    <tr>\n",
       "      <th>1522</th>\n",
       "      <td>2022-11-02</td>\n",
       "      <td>MARSEILLE(AVIVAUX)</td>\n",
       "      <td>/stats/courses/programme/2022-11-02/1302</td>\n",
       "    </tr>\n",
       "    <tr>\n",
       "      <th>1523</th>\n",
       "      <td>2022-11-02</td>\n",
       "      <td>TOULOUSE</td>\n",
       "      <td>/stats/courses/programme/2022-11-02/3103</td>\n",
       "    </tr>\n",
       "    <tr>\n",
       "      <th>1524</th>\n",
       "      <td>2022-11-03</td>\n",
       "      <td>VINCENNES</td>\n",
       "      <td>/stats/courses/programme/2022-11-03/7500</td>\n",
       "    </tr>\n",
       "    <tr>\n",
       "      <th>1525</th>\n",
       "      <td>2022-11-04</td>\n",
       "      <td>LECROISE-LAROCHE</td>\n",
       "      <td>/stats/courses/programme/2022-11-04/5901</td>\n",
       "    </tr>\n",
       "    <tr>\n",
       "      <th>1526</th>\n",
       "      <td>2022-11-04</td>\n",
       "      <td>VINCENNES</td>\n",
       "      <td>/stats/courses/programme/2022-11-04/7500</td>\n",
       "    </tr>\n",
       "  </tbody>\n",
       "</table>\n",
       "<p>1527 rows × 3 columns</p>\n",
       "</div>"
      ],
      "text/plain": [
       "            date          Hyppodrome                                      lien\n",
       "0     2021-11-01               LAVAL  /stats/courses/programme/2021-11-01/5305\n",
       "1     2021-11-01    LECROISE-LAROCHE  /stats/courses/programme/2021-11-01/5901\n",
       "2     2021-11-01           ANGOULEME  /stats/courses/programme/2021-11-01/1601\n",
       "3     2021-11-01   BEAUMONTDELOMAGNE  /stats/courses/programme/2021-11-01/8201\n",
       "4     2021-11-01           CHERBOURG  /stats/courses/programme/2021-11-01/5006\n",
       "...          ...                 ...                                       ...\n",
       "1522  2022-11-02  MARSEILLE(AVIVAUX)  /stats/courses/programme/2022-11-02/1302\n",
       "1523  2022-11-02            TOULOUSE  /stats/courses/programme/2022-11-02/3103\n",
       "1524  2022-11-03           VINCENNES  /stats/courses/programme/2022-11-03/7500\n",
       "1525  2022-11-04    LECROISE-LAROCHE  /stats/courses/programme/2022-11-04/5901\n",
       "1526  2022-11-04           VINCENNES  /stats/courses/programme/2022-11-04/7500\n",
       "\n",
       "[1527 rows x 3 columns]"
      ]
     },
     "execution_count": 40,
     "metadata": {},
     "output_type": "execute_result"
    }
   ],
   "source": [
    "courses(\"01-11-2021\", \"04-11-2022\")"
   ]
  }
 ],
 "metadata": {
  "kernelspec": {
   "display_name": "Python 3",
   "language": "python",
   "name": "python3"
  },
  "language_info": {
   "codemirror_mode": {
    "name": "ipython",
    "version": 3
   },
   "file_extension": ".py",
   "mimetype": "text/x-python",
   "name": "python",
   "nbconvert_exporter": "python",
   "pygments_lexer": "ipython3",
   "version": "3.8.8"
  }
 },
 "nbformat": 4,
 "nbformat_minor": 5
}
