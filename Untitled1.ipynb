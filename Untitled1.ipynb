{
 "cells": [
  {
   "cell_type": "code",
   "execution_count": 1,
   "id": "b54cbe73",
   "metadata": {},
   "outputs": [],
   "source": [
    "import xlogit"
   ]
  },
  {
   "cell_type": "code",
   "execution_count": 2,
   "id": "90b108c7",
   "metadata": {},
   "outputs": [],
   "source": [
    "model = xlogit.mixed_logit.MixedLogit()"
   ]
  },
  {
   "cell_type": "code",
   "execution_count": 3,
   "id": "d8c27e66",
   "metadata": {},
   "outputs": [
    {
     "name": "stdout",
     "output_type": "stream",
     "text": [
      "1 GPU device(s) available. xlogit will use GPU processing\n"
     ]
    },
    {
     "data": {
      "text/plain": [
       "True"
      ]
     },
     "execution_count": 3,
     "metadata": {},
     "output_type": "execute_result"
    }
   ],
   "source": [
    "model.check_if_gpu_available()"
   ]
  },
  {
   "cell_type": "code",
   "execution_count": 5,
   "id": "4ceefb51",
   "metadata": {},
   "outputs": [
    {
     "name": "stdout",
     "output_type": "stream",
     "text": [
      "Collecting cupy-cuda11x\n",
      "  Downloading cupy_cuda11x-11.3.0-cp38-cp38-win_amd64.whl (72.1 MB)\n",
      "     --------------------------------------- 72.1/72.1 MB 31.2 MB/s eta 0:00:00\n",
      "Requirement already satisfied: numpy<1.26,>=1.20 in c:\\users\\raves\\anaconda3\\lib\\site-packages (from cupy-cuda11x) (1.20.1)\n",
      "Collecting fastrlock>=0.5\n",
      "  Downloading fastrlock-0.8.1-cp38-cp38-win_amd64.whl (34 kB)\n",
      "Installing collected packages: fastrlock, cupy-cuda11x\n",
      "Successfully installed cupy-cuda11x-11.3.0 fastrlock-0.8.1\n",
      "Note: you may need to restart the kernel to use updated packages.\n"
     ]
    }
   ],
   "source": [
    "pip install cupy-cuda11x"
   ]
  }
 ],
 "metadata": {
  "kernelspec": {
   "display_name": "Python 3",
   "language": "python",
   "name": "python3"
  },
  "language_info": {
   "codemirror_mode": {
    "name": "ipython",
    "version": 3
   },
   "file_extension": ".py",
   "mimetype": "text/x-python",
   "name": "python",
   "nbconvert_exporter": "python",
   "pygments_lexer": "ipython3",
   "version": "3.8.8"
  }
 },
 "nbformat": 4,
 "nbformat_minor": 5
}
