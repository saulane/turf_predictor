{
 "cells": [
  {
   "cell_type": "code",
   "execution_count": 569,
   "id": "837fcc91",
   "metadata": {},
   "outputs": [
    {
     "ename": "LoadError",
     "evalue": "ArgumentError: Package Dataframe not found in current path.\n- Run `import Pkg; Pkg.add(\"Dataframe\")` to install the Dataframe package.",
     "output_type": "error",
     "traceback": [
      "ArgumentError: Package Dataframe not found in current path.\n- Run `import Pkg; Pkg.add(\"Dataframe\")` to install the Dataframe package.",
      "",
      "Stacktrace:",
      " [1] macro expansion",
      "   @ .\\loading.jl:1163 [inlined]",
      " [2] macro expansion",
      "   @ .\\lock.jl:223 [inlined]",
      " [3] require(into::Module, mod::Symbol)",
      "   @ Base .\\loading.jl:1144",
      " [4] eval",
      "   @ .\\boot.jl:368 [inlined]",
      " [5] include_string(mapexpr::typeof(REPL.softscope), mod::Module, code::String, filename::String)",
      "   @ Base .\\loading.jl:1428"
     ]
    }
   ],
   "source": [
    "using LinearAlgebra\n",
    "using Optim, NLSolversBase, Random\n",
    "using Statistics\n",
    "using Dataframe"
   ]
  },
  {
   "cell_type": "code",
   "execution_count": 425,
   "id": "e3ff542e",
   "metadata": {},
   "outputs": [
    {
     "data": {
      "text/plain": [
       "onehotencoder (generic function with 1 method)"
      ]
     },
     "execution_count": 425,
     "metadata": {},
     "output_type": "execute_result"
    }
   ],
   "source": [
    "function onehotencoder(y::Vector{Int64})\n",
    "    n = size(y,1)\n",
    "    unique_val = unique(y)\n",
    "\n",
    "    m = size(unique_val, 1)\n",
    "    \n",
    "    y_onehot = zeros(Int64, n,m)\n",
    "    for i in 1:m\n",
    "        loc = findall(x -> x==unique_val[i],y)\n",
    "        y_onehot[loc, i] .= 1\n",
    "    end\n",
    "    return y_onehot\n",
    "end"
   ]
  },
  {
   "cell_type": "code",
   "execution_count": 384,
   "id": "ce923cf9",
   "metadata": {},
   "outputs": [
    {
     "data": {
      "text/plain": [
       "5"
      ]
     },
     "execution_count": 384,
     "metadata": {},
     "output_type": "execute_result"
    }
   ],
   "source": [
    "y = rand(1:3,50);\n",
    "t = zeros(50,5);\n",
    "t[1,2] = 5"
   ]
  },
  {
   "cell_type": "code",
   "execution_count": 439,
   "id": "6128d848",
   "metadata": {},
   "outputs": [
    {
     "data": {
      "text/plain": [
       "softmax (generic function with 1 method)"
      ]
     },
     "execution_count": 439,
     "metadata": {},
     "output_type": "execute_result"
    }
   ],
   "source": [
    "function softmax(z)\n",
    "    s = zeros(size(z))\n",
    "    for i in 1:size(z,1)\n",
    "        s[i,:] = exp.(z[i,:])/sum(exp.(z[i,:]))\n",
    "    end\n",
    "    return s\n",
    "end"
   ]
  },
  {
   "cell_type": "code",
   "execution_count": 406,
   "id": "2488edfb",
   "metadata": {},
   "outputs": [
    {
     "name": "stdout",
     "output_type": "stream",
     "text": [
      "[4 5; 8 4]\n"
     ]
    },
    {
     "data": {
      "text/plain": [
       "5.25"
      ]
     },
     "execution_count": 406,
     "metadata": {},
     "output_type": "execute_result"
    }
   ],
   "source": [
    "p = rand(1:9,2,2)\n",
    "println(p)\n",
    "mean(p)"
   ]
  },
  {
   "cell_type": "code",
   "execution_count": 553,
   "id": "d5fa4e86",
   "metadata": {},
   "outputs": [
    {
     "data": {
      "text/plain": [
       "3×3 Matrix{Float64}:\n",
       " -0.0393785   0.0744798   0.240438\n",
       "  0.141237   -0.00721509  0.088684\n",
       "  0.113323    0.127044    0.213803"
      ]
     },
     "execution_count": 553,
     "metadata": {},
     "output_type": "execute_result"
    }
   ],
   "source": [
    "x = rand(500,3)\n",
    "w = rand(3,3)\n",
    "\n",
    "y = rand(1:3,500)\n",
    "likelihood_gradient(x,y,w,0.1)\n",
    "# x*w"
   ]
  },
  {
   "cell_type": "code",
   "execution_count": 505,
   "id": "f919a731",
   "metadata": {},
   "outputs": [
    {
     "data": {
      "text/plain": [
       "likelihood (generic function with 2 methods)"
      ]
     },
     "execution_count": 505,
     "metadata": {},
     "output_type": "execute_result"
    }
   ],
   "source": [
    "function likelihood(x,y::Vector{Int64},w, μ)\n",
    "    y_onehot = onehotencoder(y)\n",
    "    n,m = size(x)\n",
    "    Z = -x*w\n",
    "    p = softmax(Z)    \n",
    "    \n",
    "    return 1/n * ( tr( (x * w * transpose(y_onehot)) ) + sum(log(sum(exp.(Z))))) + μ*norm(w)^2\n",
    "end"
   ]
  },
  {
   "cell_type": "code",
   "execution_count": 560,
   "id": "01395d68",
   "metadata": {},
   "outputs": [
    {
     "data": {
      "text/plain": [
       "likelihood_gradient (generic function with 1 method)"
      ]
     },
     "execution_count": 560,
     "metadata": {},
     "output_type": "execute_result"
    }
   ],
   "source": [
    "function likelihood_gradient(X,Y,W,μ)\n",
    "    n,m = size(x)\n",
    "    P = softmax(-X*W)\n",
    "    Y_oh = onehotencoder(Y)\n",
    "    grad = 1/n * ( transpose(X) *( Y_oh - P ) ) + 2*μ*W\n",
    "end"
   ]
  },
  {
   "cell_type": "code",
   "execution_count": null,
   "id": "2ce4ead0",
   "metadata": {},
   "outputs": [],
   "source": []
  },
  {
   "cell_type": "code",
   "execution_count": 566,
   "id": "b5d434ee",
   "metadata": {},
   "outputs": [
    {
     "data": {
      "text/plain": [
       " * Status: success (objective increased between iterations)\n",
       "\n",
       " * Candidate solution\n",
       "    Final objective value:     1.179180e-02\n",
       "\n",
       " * Found with\n",
       "    Algorithm:     BFGS\n",
       "\n",
       " * Convergence measures\n",
       "    |x - x'|               = 2.29e-07 ≰ 0.0e+00\n",
       "    |x - x'|/|x'|          = 4.05e-06 ≰ 0.0e+00\n",
       "    |f(x) - f(x')|         = 2.59e-09 ≰ 0.0e+00\n",
       "    |f(x) - f(x')|/|f(x')| = 2.20e-07 ≰ 0.0e+00\n",
       "    |g(x)|                 = 1.20e-11 ≤ 1.0e-08\n",
       "\n",
       " * Work counters\n",
       "    Seconds run:   3  (vs limit Inf)\n",
       "    Iterations:    36\n",
       "    f(x) calls:    1687\n",
       "    ∇f(x) calls:   1687\n"
      ]
     },
     "execution_count": 566,
     "metadata": {},
     "output_type": "execute_result"
    }
   ],
   "source": [
    "res = optimize(var -> likelihood(x,y,var,0.1),var -> likelihood_gradient(x,y,var,0.1), zeros(3,3), BFGS(); inplace = false)"
   ]
  },
  {
   "cell_type": "code",
   "execution_count": 567,
   "id": "522db2e2",
   "metadata": {},
   "outputs": [
    {
     "data": {
      "text/plain": [
       "3×3 Matrix{Float64}:\n",
       " 0.0564475  -0.0418635   -0.0145841\n",
       " 0.0354878  -0.00544324  -0.0300446\n",
       " 0.0157258   0.0229508   -0.0386766"
      ]
     },
     "execution_count": 567,
     "metadata": {},
     "output_type": "execute_result"
    }
   ],
   "source": [
    "w_res = Optim.minimizer(res)"
   ]
  },
  {
   "cell_type": "code",
   "execution_count": 568,
   "id": "ef843934",
   "metadata": {},
   "outputs": [
    {
     "data": {
      "text/plain": [
       "500×3 Matrix{Float64}:\n",
       " 0.351655  0.332214  0.316131\n",
       " 0.347145  0.3265    0.326355\n",
       " 0.358637  0.322947  0.318416\n",
       " 0.357288  0.323458  0.319254\n",
       " 0.364301  0.32046   0.315239\n",
       " 0.344981  0.331136  0.323883\n",
       " 0.338195  0.337443  0.324362\n",
       " 0.357492  0.329589  0.312918\n",
       " 0.359891  0.324974  0.315134\n",
       " 0.367779  0.324761  0.307461\n",
       " 0.347909  0.337047  0.315045\n",
       " 0.350973  0.335442  0.313585\n",
       " 0.355839  0.327534  0.316628\n",
       " ⋮                   \n",
       " 0.356351  0.331139  0.31251\n",
       " 0.361972  0.325472  0.312555\n",
       " 0.35978   0.329728  0.310492\n",
       " 0.35193   0.32929   0.31878\n",
       " 0.360149  0.324423  0.315429\n",
       " 0.355383  0.323218  0.321399\n",
       " 0.348904  0.335452  0.315643\n",
       " 0.351762  0.322033  0.326205\n",
       " 0.365328  0.319043  0.315629\n",
       " 0.348759  0.33227   0.318972\n",
       " 0.354613  0.329458  0.315929\n",
       " 0.351205  0.322535  0.32626"
      ]
     },
     "execution_count": 568,
     "metadata": {},
     "output_type": "execute_result"
    }
   ],
   "source": [
    "softmax(x * w_res)"
   ]
  },
  {
   "cell_type": "code",
   "execution_count": 77,
   "id": "2bcfec5a",
   "metadata": {},
   "outputs": [
    {
     "data": {
      "text/plain": [
       "3×3 Matrix{Float64}:\n",
       " 0.1  0.2  0.4\n",
       " 0.1  0.1  0.3\n",
       " 0.1  0.1  0.3"
      ]
     },
     "execution_count": 77,
     "metadata": {},
     "output_type": "execute_result"
    }
   ],
   "source": [
    "z = [0.1 0.2 0.4; 0.1 0.1 0.3; 0.1 0.1 0.3]"
   ]
  },
  {
   "cell_type": "code",
   "execution_count": 73,
   "id": "fd07c84f",
   "metadata": {},
   "outputs": [
    {
     "name": "stdout",
     "output_type": "stream",
     "text": [
      "  0.000010 seconds (11 allocations: 912 bytes)\n"
     ]
    },
    {
     "data": {
      "text/plain": [
       "2×3 Matrix{Float64}:\n",
       " 0.289433  0.319873  0.390694\n",
       " 0.310424  0.310424  0.379152"
      ]
     },
     "execution_count": 73,
     "metadata": {},
     "output_type": "execute_result"
    }
   ],
   "source": [
    "@time softmax(z)"
   ]
  },
  {
   "cell_type": "code",
   "execution_count": 74,
   "id": "bea56b7c",
   "metadata": {},
   "outputs": [
    {
     "data": {
      "text/plain": [
       "1.0"
      ]
     },
     "execution_count": 74,
     "metadata": {},
     "output_type": "execute_result"
    }
   ],
   "source": [
    "z2 = sum(softmax(z)[1,:])"
   ]
  },
  {
   "cell_type": "code",
   "execution_count": 75,
   "id": "8c4b3ff3",
   "metadata": {},
   "outputs": [
    {
     "data": {
      "text/plain": [
       "(2, 3)"
      ]
     },
     "execution_count": 75,
     "metadata": {},
     "output_type": "execute_result"
    }
   ],
   "source": [
    "n,m = size(z)"
   ]
  },
  {
   "cell_type": "code",
   "execution_count": 83,
   "id": "e75396f8",
   "metadata": {},
   "outputs": [
    {
     "data": {
      "text/plain": [
       "3×3 transpose(::Matrix{Float64}) with eltype Float64:\n",
       " 0.1  0.1  0.1\n",
       " 0.2  0.1  0.1\n",
       " 0.4  0.3  0.3"
      ]
     },
     "execution_count": 83,
     "metadata": {},
     "output_type": "execute_result"
    }
   ],
   "source": [
    "transpose(z)"
   ]
  },
  {
   "cell_type": "code",
   "execution_count": 1,
   "id": "8eb7ae7f",
   "metadata": {},
   "outputs": [],
   "source": [
    "using Pkg"
   ]
  },
  {
   "cell_type": "code",
   "execution_count": 3,
   "id": "50f09686",
   "metadata": {},
   "outputs": [],
   "source": [
    "using Optim"
   ]
  },
  {
   "cell_type": "code",
   "execution_count": 4,
   "id": "c6fdced5",
   "metadata": {},
   "outputs": [
    {
     "data": {
      "text/plain": [
       "rosenbrock (generic function with 1 method)"
      ]
     },
     "execution_count": 4,
     "metadata": {},
     "output_type": "execute_result"
    }
   ],
   "source": [
    "rosenbrock(x) =  (1.0 - x[1])^2 + 100.0 * (x[2] - x[1]^2)^2"
   ]
  },
  {
   "cell_type": "code",
   "execution_count": 13,
   "id": "f4b9705c",
   "metadata": {},
   "outputs": [
    {
     "data": {
      "text/plain": [
       "401.0"
      ]
     },
     "execution_count": 13,
     "metadata": {},
     "output_type": "execute_result"
    }
   ],
   "source": [
    "rosenbrock(ones(2)*2)"
   ]
  },
  {
   "cell_type": "code",
   "execution_count": 30,
   "id": "83acc874",
   "metadata": {},
   "outputs": [
    {
     "data": {
      "text/plain": [
       " * Status: success\n",
       "\n",
       " * Candidate solution\n",
       "    Final objective value:     5.471433e-17\n",
       "\n",
       " * Found with\n",
       "    Algorithm:     BFGS\n",
       "\n",
       " * Convergence measures\n",
       "    |x - x'|               = 3.47e-07 ≰ 0.0e+00\n",
       "    |x - x'|/|x'|          = 3.47e-07 ≰ 0.0e+00\n",
       "    |f(x) - f(x')|         = 6.59e-14 ≰ 0.0e+00\n",
       "    |f(x) - f(x')|/|f(x')| = 1.20e+03 ≰ 0.0e+00\n",
       "    |g(x)|                 = 2.33e-09 ≤ 1.0e-08\n",
       "\n",
       " * Work counters\n",
       "    Seconds run:   0  (vs limit Inf)\n",
       "    Iterations:    16\n",
       "    f(x) calls:    53\n",
       "    ∇f(x) calls:   53\n"
      ]
     },
     "execution_count": 30,
     "metadata": {},
     "output_type": "execute_result"
    }
   ],
   "source": [
    "result = optimize(rosenbrock, zeros(2), BFGS())"
   ]
  },
  {
   "cell_type": "code",
   "execution_count": 31,
   "id": "1c1f0864",
   "metadata": {},
   "outputs": [
    {
     "data": {
      "text/plain": [
       "2-element Vector{Float64}:\n",
       " 0.9999999926033423\n",
       " 0.9999999852005355"
      ]
     },
     "execution_count": 31,
     "metadata": {},
     "output_type": "execute_result"
    }
   ],
   "source": [
    "Optim.minimizer(result)"
   ]
  },
  {
   "cell_type": "code",
   "execution_count": 241,
   "id": "ec734248",
   "metadata": {},
   "outputs": [],
   "source": [
    "\n",
    "Random.seed!(0);     "
   ]
  },
  {
   "cell_type": "code",
   "execution_count": 161,
   "id": "fabe9d83",
   "metadata": {},
   "outputs": [
    {
     "data": {
      "text/plain": [
       "sigmoid (generic function with 2 methods)"
      ]
     },
     "execution_count": 161,
     "metadata": {},
     "output_type": "execute_result"
    }
   ],
   "source": [
    "function sigmoid(z)\n",
    "    return 1 ./ (1+exp(-z))\n",
    "end"
   ]
  },
  {
   "cell_type": "code",
   "execution_count": 290,
   "id": "6a561863",
   "metadata": {},
   "outputs": [
    {
     "data": {
      "text/plain": [
       "Log_Likelihood (generic function with 4 methods)"
      ]
     },
     "execution_count": 290,
     "metadata": {},
     "output_type": "execute_result"
    }
   ],
   "source": [
    "function Log_Likelihood(X::Matrix{Float64}, Y::Vector{Float64}, B::Vector{Float64})\n",
    "    p = sigmoid.(X*B)\n",
    "    ll = - dot(Y , log.(p)) - dot((1 .- Y) , log.(1 .- p))\n",
    "end"
   ]
  },
  {
   "cell_type": "code",
   "execution_count": 291,
   "id": "c0bea456",
   "metadata": {},
   "outputs": [],
   "source": [
    "n = 500                             # Number of observations\n",
    "nvar = 2                            # Number of variables\n",
    "B = ones(nvar) * 3.0                # True coefficients\n",
    "x = [ones(n) randn(n, nvar - 1)]    # X matrix of explanatory variables plus constant\n",
    "ε = randn(n) * 0.5                  # Error variance\n",
    "y = convert.(Float64, (x * B) .> 2.9);                # Generate Data"
   ]
  },
  {
   "cell_type": "code",
   "execution_count": 292,
   "id": "af3c16ce",
   "metadata": {},
   "outputs": [
    {
     "data": {
      "text/plain": [
       "500-element Vector{Float64}:\n",
       " 1.0\n",
       " 1.0\n",
       " 0.0\n",
       " 1.0\n",
       " 0.0\n",
       " 1.0\n",
       " 1.0\n",
       " 1.0\n",
       " 1.0\n",
       " 1.0\n",
       " 1.0\n",
       " 0.0\n",
       " 1.0\n",
       " ⋮\n",
       " 1.0\n",
       " 0.0\n",
       " 0.0\n",
       " 1.0\n",
       " 1.0\n",
       " 1.0\n",
       " 1.0\n",
       " 0.0\n",
       " 1.0\n",
       " 0.0\n",
       " 1.0\n",
       " 1.0"
      ]
     },
     "execution_count": 292,
     "metadata": {},
     "output_type": "execute_result"
    }
   ],
   "source": [
    "y"
   ]
  },
  {
   "cell_type": "code",
   "execution_count": 294,
   "id": "1867d741",
   "metadata": {
    "scrolled": true
   },
   "outputs": [
    {
     "data": {
      "text/plain": [
       "350.9469009334777"
      ]
     },
     "execution_count": 294,
     "metadata": {},
     "output_type": "execute_result"
    }
   ],
   "source": [
    "Log_Likelihood(x,y,B)"
   ]
  },
  {
   "cell_type": "code",
   "execution_count": 295,
   "id": "c2d57973",
   "metadata": {},
   "outputs": [],
   "source": [
    "func = TwiceDifferentiable(vars -> Log_Likelihood(x, y, vars[1:nvar]), ones(nvar+1); autodiff=:forward);"
   ]
  },
  {
   "cell_type": "code",
   "execution_count": 303,
   "id": "0c8e2b15",
   "metadata": {},
   "outputs": [
    {
     "data": {
      "text/plain": [
       " * Status: success\n",
       "\n",
       " * Candidate solution\n",
       "    Final objective value:     2.740536e+01\n",
       "\n",
       " * Found with\n",
       "    Algorithm:     BFGS\n",
       "\n",
       " * Convergence measures\n",
       "    |x - x'|               = 0.00e+00 ≤ 0.0e+00\n",
       "    |x - x'|/|x'|          = 0.00e+00 ≤ 0.0e+00\n",
       "    |f(x) - f(x')|         = 0.00e+00 ≤ 0.0e+00\n",
       "    |f(x) - f(x')|/|f(x')| = 0.00e+00 ≤ 0.0e+00\n",
       "    |g(x)|                 = 2.20e+00 ≰ 1.0e-08\n",
       "\n",
       " * Work counters\n",
       "    Seconds run:   0  (vs limit Inf)\n",
       "    Iterations:    6\n",
       "    f(x) calls:    238\n",
       "    ∇f(x) calls:   238\n"
      ]
     },
     "execution_count": 303,
     "metadata": {},
     "output_type": "execute_result"
    }
   ],
   "source": [
    "opt = optimize(vars -> Log_Likelihood(x, y, vars[1:nvar]), ones(nvar+1), BFGS())"
   ]
  },
  {
   "cell_type": "code",
   "execution_count": 298,
   "id": "30b000e1",
   "metadata": {},
   "outputs": [
    {
     "data": {
      "text/plain": [
       "3-element Vector{Float64}:\n",
       "  0.14201085204025768\n",
       " 12.451546421304174\n",
       " -8.084890187123765"
      ]
     },
     "execution_count": 298,
     "metadata": {},
     "output_type": "execute_result"
    }
   ],
   "source": [
    "parameters = Optim.minimizer(opt)"
   ]
  },
  {
   "cell_type": "code",
   "execution_count": 299,
   "id": "5844536a",
   "metadata": {},
   "outputs": [
    {
     "data": {
      "text/plain": [
       "0.99"
      ]
     },
     "execution_count": 299,
     "metadata": {},
     "output_type": "execute_result"
    }
   ],
   "source": [
    "sum((sigmoid.(x*parameters[1:nvar]) .> 0.5) .== y) / size(y,1)"
   ]
  }
 ],
 "metadata": {
  "kernelspec": {
   "display_name": "Julia 1.8.3",
   "language": "julia",
   "name": "julia-1.8"
  },
  "language_info": {
   "file_extension": ".jl",
   "mimetype": "application/julia",
   "name": "julia",
   "version": "1.8.3"
  }
 },
 "nbformat": 4,
 "nbformat_minor": 5
}
