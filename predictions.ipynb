{
 "cells": [
  {
   "cell_type": "code",
   "execution_count": 2,
   "id": "d0882e50-e596-4f8b-8627-c0afbe6004ee",
   "metadata": {},
   "outputs": [],
   "source": [
    "import pandas as pd\n",
    "import matplotlib.pyplot as plt\n",
    "import numpy as np\n",
    "import json\n",
    "\n",
    "from sklearn.linear_model import LogisticRegression\n",
    "from sklearn import preprocessing\n",
    "from sklearn.pipeline import make_pipeline\n",
    "from sklearn.model_selection import train_test_split\n",
    "from sklearn.model_selection import GroupShuffleSplit\n",
    "from sklearn.metrics import log_loss, accuracy_score\n",
    "from sklearn.model_selection import StratifiedKFold\n",
    "\n",
    "import optuna\n",
    "\n",
    "import lightgbm as lgb"
   ]
  },
  {
   "cell_type": "code",
   "execution_count": 2,
   "id": "649e9946-2f36-47de-8477-11e9020f2823",
   "metadata": {},
   "outputs": [
    {
     "name": "stderr",
     "output_type": "stream",
     "text": [
      "C:\\Users\\raves\\anaconda3\\lib\\site-packages\\IPython\\core\\interactiveshell.py:3165: DtypeWarning: Columns (98) have mixed types.Specify dtype option on import or set low_memory=False.\n",
      "  has_raised = await self.run_ast_nodes(code_ast.body, cell_name,\n",
      "C:\\Users\\raves\\anaconda3\\lib\\site-packages\\IPython\\core\\interactiveshell.py:3165: DtypeWarning: Columns (95,96,98) have mixed types.Specify dtype option on import or set low_memory=False.\n",
      "  has_raised = await self.run_ast_nodes(code_ast.body, cell_name,\n",
      "C:\\Users\\raves\\anaconda3\\lib\\site-packages\\IPython\\core\\interactiveshell.py:3165: DtypeWarning: Columns (33,34,44,45,48,95) have mixed types.Specify dtype option on import or set low_memory=False.\n",
      "  has_raised = await self.run_ast_nodes(code_ast.body, cell_name,\n"
     ]
    }
   ],
   "source": [
    "df = pd.DataFrame()\n",
    "\n",
    "l = [\"data-2015.csv\",\"data-2016.csv\",\"data-2017.csv\",\"data-2018.csv\",\"data-2019.csv\",\"data-2020.csv\",\"data-2021.csv\"]\n",
    "for data in l:\n",
    "    df_csv = pd.read_csv(f\"data/{data}\")\n",
    "    df = pd.concat([df, df_csv])\n",
    "df.index = np.arange(len(df))"
   ]
  },
  {
   "cell_type": "code",
   "execution_count": 277,
   "id": "deffef04-1dd5-4581-868b-00f8b211070b",
   "metadata": {
    "collapsed": true,
    "jupyter": {
     "outputs_hidden": true,
     "source_hidden": true
    },
    "tags": []
   },
   "outputs": [
    {
     "data": {
      "text/plain": [
       "['num',\n",
       " 'nom',\n",
       " 'classement',\n",
       " 'id',\n",
       " 'date',\n",
       " 'url',\n",
       " 'tpsLastRace',\n",
       " 'last_race_dist',\n",
       " 'fer',\n",
       " 'firstTimeFer',\n",
       " 'sex',\n",
       " 'age_x',\n",
       " 'dist',\n",
       " 'driver_x',\n",
       " 'trainer',\n",
       " 'avisTrainer',\n",
       " 'music',\n",
       " 'nbArrivé',\n",
       " 'lastPerf',\n",
       " 'meanPerf',\n",
       " 'medianPerf',\n",
       " 'modePerf',\n",
       " 'recordAbs',\n",
       " 'gain',\n",
       " 'numPmu',\n",
       " 'age_y',\n",
       " 'sexe',\n",
       " 'race',\n",
       " 'statut',\n",
       " 'oeilleres',\n",
       " 'proprietaire',\n",
       " 'entraineur',\n",
       " 'driver_y',\n",
       " 'driverChange',\n",
       " 'indicateurInedit',\n",
       " 'musique',\n",
       " 'nombreCourses',\n",
       " 'nombreVictoires',\n",
       " 'nombrePlaces',\n",
       " 'nombrePlacesSecond',\n",
       " 'nombrePlacesTroisieme',\n",
       " 'nomPere',\n",
       " 'nomMere',\n",
       " 'ordreArrivee',\n",
       " 'jumentPleine',\n",
       " 'engagement',\n",
       " 'supplement',\n",
       " 'handicapDistance',\n",
       " 'poidsConditionMonteChange',\n",
       " 'tempsObtenu',\n",
       " 'reductionKilometrique',\n",
       " 'urlCasaque',\n",
       " 'eleveur',\n",
       " 'allure',\n",
       " 'robe_code',\n",
       " 'robe_libelleCourt',\n",
       " 'robe_libelleLong',\n",
       " 'gainsParticipant_gainsCarriere',\n",
       " 'gainsParticipant_gainsVictoires',\n",
       " 'gainsParticipant_gainsPlace',\n",
       " 'gainsParticipant_gainsAnneeEnCours',\n",
       " 'gainsParticipant_gainsAnneePrecedente',\n",
       " 'dernierRapportDirect_typePari',\n",
       " 'dernierRapportDirect_rapport',\n",
       " 'dernierRapportDirect_typeRapport',\n",
       " 'dernierRapportDirect_indicateurTendance',\n",
       " 'dernierRapportDirect_nombreIndicateurTendance',\n",
       " 'dernierRapportDirect_dateRapport',\n",
       " 'dernierRapportDirect_permutation',\n",
       " 'dernierRapportDirect_favoris',\n",
       " 'dernierRapportDirect_numPmu1',\n",
       " 'dernierRapportDirect_grossePrise',\n",
       " 'dernierRapportReference_typePari',\n",
       " 'dernierRapportReference_rapport',\n",
       " 'dernierRapportReference_typeRapport',\n",
       " 'dernierRapportReference_indicateurTendance',\n",
       " 'dernierRapportReference_nombreIndicateurTendance',\n",
       " 'dernierRapportReference_dateRapport',\n",
       " 'dernierRapportReference_permutation',\n",
       " 'dernierRapportReference_favoris',\n",
       " 'dernierRapportReference_numPmu1',\n",
       " 'dernierRapportReference_grossePrise',\n",
       " 'incident',\n",
       " 'deferre',\n",
       " 'numReunion',\n",
       " 'nbCourseCouple',\n",
       " 'nbVictoiresCouple',\n",
       " 'nb2emeCouple',\n",
       " 'nb3emeCouple',\n",
       " 'txReussiteCouple',\n",
       " 'nonPartant',\n",
       " 'ecurie',\n",
       " 'placeCorde',\n",
       " 'nomPereMere',\n",
       " 'tauxReclamation',\n",
       " 'distanceChevalPrecedent_libelleCourt',\n",
       " 'distanceChevalPrecedent_libelleLong',\n",
       " 'distanceChevalPrecedent_code',\n",
       " 'distanceChevalPrecedent_identifiant',\n",
       " 'poidsConditionMonte',\n",
       " 'handicapValeur']"
      ]
     },
     "execution_count": 277,
     "metadata": {},
     "output_type": "execute_result"
    }
   ],
   "source": [
    "list(df)"
   ]
  },
  {
   "cell_type": "code",
   "execution_count": 171,
   "id": "9e9c890b-cd75-4cd1-ae30-2dedd0d672ef",
   "metadata": {
    "collapsed": true,
    "jupyter": {
     "outputs_hidden": true
    },
    "tags": []
   },
   "outputs": [
    {
     "data": {
      "text/plain": [
       "['num',\n",
       " 'nom',\n",
       " 'classement',\n",
       " 'id',\n",
       " 'date',\n",
       " 'url',\n",
       " 'tpsLastRace',\n",
       " 'last_race_dist',\n",
       " 'fer',\n",
       " 'firstTimeFer',\n",
       " 'sex',\n",
       " 'age_x',\n",
       " 'dist',\n",
       " 'driver_x',\n",
       " 'trainer',\n",
       " 'avisTrainer',\n",
       " 'music',\n",
       " 'nbArrivé',\n",
       " 'lastPerf',\n",
       " 'meanPerf',\n",
       " 'medianPerf',\n",
       " 'modePerf',\n",
       " 'recordAbs',\n",
       " 'gain',\n",
       " 'numPmu',\n",
       " 'age_y',\n",
       " 'sexe',\n",
       " 'race',\n",
       " 'statut',\n",
       " 'oeilleres',\n",
       " 'proprietaire',\n",
       " 'entraineur',\n",
       " 'deferre',\n",
       " 'driver_y',\n",
       " 'driverChange',\n",
       " 'indicateurInedit',\n",
       " 'musique',\n",
       " 'nombreCourses',\n",
       " 'nombreVictoires',\n",
       " 'nombrePlaces',\n",
       " 'nomPere',\n",
       " 'nomMere',\n",
       " 'jumentPleine',\n",
       " 'engagement',\n",
       " 'supplement',\n",
       " 'handicapDistance',\n",
       " 'poidsConditionMonteChange',\n",
       " 'urlCasaque',\n",
       " 'allure',\n",
       " 'robe_code',\n",
       " 'robe_libelleCourt',\n",
       " 'robe_libelleLong',\n",
       " 'gainsParticipant_gainsCarriere',\n",
       " 'gainsParticipant_gainsVictoires',\n",
       " 'gainsParticipant_gainsPlace',\n",
       " 'gainsParticipant_gainsAnneeEnCours',\n",
       " 'gainsParticipant_gainsAnneePrecedente',\n",
       " 'dernierRapportDirect_typePari',\n",
       " 'dernierRapportDirect_rapport',\n",
       " 'dernierRapportDirect_typeRapport',\n",
       " 'dernierRapportDirect_indicateurTendance',\n",
       " 'dernierRapportDirect_nombreIndicateurTendance',\n",
       " 'dernierRapportDirect_dateRapport',\n",
       " 'dernierRapportDirect_permutation',\n",
       " 'dernierRapportDirect_favoris',\n",
       " 'dernierRapportDirect_numPmu1',\n",
       " 'dernierRapportDirect_grossePrise',\n",
       " 'dernierRapportReference_typePari',\n",
       " 'dernierRapportReference_rapport',\n",
       " 'dernierRapportReference_typeRapport',\n",
       " 'dernierRapportReference_indicateurTendance',\n",
       " 'dernierRapportReference_nombreIndicateurTendance',\n",
       " 'dernierRapportReference_dateRapport',\n",
       " 'dernierRapportReference_permutation',\n",
       " 'dernierRapportReference_favoris',\n",
       " 'dernierRapportReference_numPmu1',\n",
       " 'dernierRapportReference_grossePrise',\n",
       " 'incident',\n",
       " 'ordreArrivee',\n",
       " 'tempsObtenu',\n",
       " 'reductionKilometrique',\n",
       " 'numReunion',\n",
       " 'nbCourseCouple',\n",
       " 'nbVictoiresCouple',\n",
       " 'nb2emeCouple',\n",
       " 'nb3emeCouple',\n",
       " 'txReussiteCouple',\n",
       " 'nonPartant',\n",
       " 'ecurie',\n",
       " 'placeCorde',\n",
       " 'nomPereMere',\n",
       " 'tauxReclamation',\n",
       " 'distanceChevalPrecedent_libelleCourt',\n",
       " 'distanceChevalPrecedent_libelleLong',\n",
       " 'distanceChevalPrecedent_code',\n",
       " 'distanceChevalPrecedent_identifiant',\n",
       " 'nombrePlacesSecond',\n",
       " 'nombrePlacesTroisieme',\n",
       " 'eleveur',\n",
       " 'handicapValeur',\n",
       " 'poidsConditionMonte']"
      ]
     },
     "execution_count": 171,
     "metadata": {},
     "output_type": "execute_result"
    }
   ],
   "source": [
    "list(df)"
   ]
  },
  {
   "cell_type": "code",
   "execution_count": 282,
   "id": "1b1af8c3-faef-400b-9945-2e1ff4187e87",
   "metadata": {},
   "outputs": [
    {
     "data": {
      "text/plain": [
       "0        11\n",
       "1         7\n",
       "2        12\n",
       "3        12\n",
       "4        11\n",
       "         ..\n",
       "87686    11\n",
       "87687    12\n",
       "87688    12\n",
       "87689    11\n",
       "87690     8\n",
       "Name: nbArrivé, Length: 87691, dtype: int64"
      ]
     },
     "execution_count": 282,
     "metadata": {},
     "output_type": "execute_result"
    }
   ],
   "source": [
    "df[\"nbArrivé\"]"
   ]
  },
  {
   "cell_type": "code",
   "execution_count": 255,
   "id": "2644a326-ec61-49f2-b518-17dbd674e529",
   "metadata": {},
   "outputs": [],
   "source": [
    "for i in range(1,3):\n",
    "    df[f\"M{i}\"] = pd.to_numeric(df[\"music\"].apply(lambda x: x.strip(\"[]\").split(\", \")[i])).replace(0,10)"
   ]
  },
  {
   "cell_type": "code",
   "execution_count": 257,
   "id": "dddc7144-1e83-4d4d-b3c2-8d90d9edffa7",
   "metadata": {},
   "outputs": [
    {
     "data": {
      "text/plain": [
       "array([ 3,  7,  1,  2, 10,  4,  6,  8,  9,  5], dtype=int64)"
      ]
     },
     "execution_count": 257,
     "metadata": {},
     "output_type": "execute_result"
    }
   ],
   "source": [
    "df[\"M1\"].unique()"
   ]
  },
  {
   "cell_type": "code",
   "execution_count": 3,
   "id": "881bfe81-3601-4627-97bb-31c64527e873",
   "metadata": {
    "tags": []
   },
   "outputs": [],
   "source": [
    "features = ['num',\n",
    " 'classement',\n",
    " 'id',\n",
    " 'tpsLastRace',\n",
    " 'last_race_dist',\n",
    " 'fer',\n",
    " 'firstTimeFer',\n",
    " 'sex',\n",
    " 'age_x',\n",
    " 'dist',\n",
    " 'avisTrainer',\n",
    " 'lastPerf',\n",
    " 'meanPerf',\n",
    " 'medianPerf',\n",
    " 'modePerf',\n",
    " 'recordAbs',\n",
    " 'gain',\n",
    " 'nombreCourses',\n",
    " 'nombreVictoires',\n",
    " 'nombrePlaces',\n",
    " 'nombrePlacesSecond',\n",
    " 'nombrePlacesTroisieme',\n",
    " 'handicapDistance',\n",
    " 'gainsParticipant_gainsPlace',\n",
    " \"dernierRapportDirect_nombreIndicateurTendance\",\n",
    " \"dernierRapportReference_indicateurTendance\",\n",
    " 'gainsParticipant_gainsAnneeEnCours',\n",
    " 'gainsParticipant_gainsAnneePrecedente',\n",
    " 'dernierRapportDirect_rapport',\n",
    " 'dernierRapportReference_rapport',\n",
    " 'nbCourseCouple',\n",
    " 'nbVictoiresCouple',\n",
    " 'nb2emeCouple',\n",
    " 'nb3emeCouple',\n",
    " 'txReussiteCouple']"
   ]
  },
  {
   "cell_type": "code",
   "execution_count": 277,
   "id": "ca83c221-5bad-4aad-b0be-b7b6e4e6a435",
   "metadata": {},
   "outputs": [
    {
     "data": {
      "text/plain": [
       "array([ 1.,  0., -1.])"
      ]
     },
     "execution_count": 277,
     "metadata": {},
     "output_type": "execute_result"
    }
   ],
   "source": [
    "df_train[\"dernierRapportReference_indicateurTendance\"].unique()"
   ]
  },
  {
   "cell_type": "code",
   "execution_count": 4,
   "id": "d9d6a64f-e733-4775-a912-d0a9259766bd",
   "metadata": {},
   "outputs": [],
   "source": [
    "df_train = df.loc[:][features]\n",
    "df_train[\"classement\"].replace(['DA', 'D1', 'A ',\n",
    "       'D7', 'D8', 'H8', 'T ', 'G ', 'D5', 'D6', 'D', 'D3', 'D4', 'D2', 'D ',\n",
    "       'G5', 'D9', 'H9', 'G4', 'R8', 'G6'], 10, inplace=True)\n",
    "\n",
    "df_train[\"classement\"] = (\n",
    "    pd.to_numeric(df_train[\"classement\"],\n",
    "                  errors='coerce')\n",
    "      .fillna(10))\n",
    "\n",
    "\n",
    "\n",
    "df_train[\"dernierRapportReference_indicateurTendance\"] = df_train[\"dernierRapportReference_indicateurTendance\"].replace([\"+\", \" \", \"-\"], [1, 0, -1]).fillna(0)\n",
    "\n",
    "df_train[\"classement\"] = df_train[\"classement\"].replace(0.,10.)"
   ]
  },
  {
   "cell_type": "code",
   "execution_count": 10,
   "id": "12cb971e-6f46-41e7-af9a-17c222cc519d",
   "metadata": {},
   "outputs": [],
   "source": [
    "gss = GroupShuffleSplit(test_size=.40, n_splits=1, random_state = 7).split(df_train, groups=df_train['id'])\n",
    "\n",
    "X_train_inds, X_test_inds = next(gss)\n",
    "\n",
    "train_data= df_train.iloc[X_train_inds]\n",
    "X_train = train_data.loc[:, ~train_data.columns.isin(['id','classement'])]\n",
    "y_train = train_data.loc[:, train_data.columns.isin(['classement'])]\n",
    "\n",
    "groups = train_data.groupby('id').size().to_frame('size')['size'].to_numpy()\n",
    "\n",
    "test_data = df_train.loc[:].iloc[X_test_inds]\n",
    "test_data.apply(pd.to_numeric, errors='ignore')\n",
    "\n",
    "#We need to keep the id for later predictions\n",
    "X_test = test_data.loc[:, ~test_data.columns.isin(['id','classement'])]\n",
    "y_test = test_data.loc[:, test_data.columns.isin(['classement'])]\n",
    "\n",
    "test_groups = test_data.groupby('id').size().to_frame('size')['size'].to_numpy()"
   ]
  },
  {
   "cell_type": "code",
   "execution_count": 37,
   "id": "f3365406-0994-4193-8e1c-be58e8c5467e",
   "metadata": {},
   "outputs": [
    {
     "data": {
      "text/plain": [
       "57721"
      ]
     },
     "execution_count": 37,
     "metadata": {},
     "output_type": "execute_result"
    }
   ],
   "source": [
    "len(y_test)"
   ]
  },
  {
   "cell_type": "markdown",
   "id": "197b062f-b995-4e67-be84-80f66e985e9f",
   "metadata": {},
   "source": [
    "# Hyperparameter"
   ]
  },
  {
   "cell_type": "code",
   "execution_count": 79,
   "id": "21831831-2388-4e02-9025-698ef014ad70",
   "metadata": {
    "tags": []
   },
   "outputs": [],
   "source": [
    "from optuna.integration import LightGBMPruningCallback\n",
    "from scipy import stats\n",
    "import sklearn.metrics\n",
    "\n",
    "def objective(trial):\n",
    "    param_grid = {\n",
    "    #         \"device_type\": trial.suggest_categorical(\"device_type\", ['gpu']),\n",
    "    \"n_estimators\": trial.suggest_int(\"n_estimators\", 100,500,step=100),\n",
    "    \"learning_rate\": trial.suggest_float(\"learning_rate\", 0.01, 0.3),\n",
    "    \"num_leaves\": trial.suggest_int(\"num_leaves\", 20, 3000, step=20),\n",
    "    \"max_depth\": trial.suggest_int(\"max_depth\", -1, 500, 50),\n",
    "    \"min_data_in_leaf\": trial.suggest_int(\"min_data_in_leaf\", 200, 10000, step=100),\n",
    "    }\n",
    "    model = lgb.LGBMRanker(n_jobs=24,objective=\"lambdarank\",boosting_type = \"gbdt\",metric= \"ndcg\", **param_grid)\n",
    "    model.fit(\n",
    "        X_train,\n",
    "        y_train.astype(np.int32),\n",
    "        group = groups,\n",
    "        eval_set=[(X_test, y_test)],\n",
    "        eval_group = [test_groups],\n",
    "        eval_metric=\"ndcg\",\n",
    "        early_stopping_rounds=100,\n",
    "        verbose=False\n",
    "    )\n",
    "    preds = model.predict(X_test)\n",
    "    test_data[\"rank_pred\"] = predictions\n",
    "    test_data['rank_pred'] = test_data.groupby(\"id\")[\"rank_pred\"].rank(\"dense\",ascending=True).astype(int)\n",
    "    test_data['rank_pred'] = test_data.groupby(\"id\")[\"rank_pred\"].rank(\"first\").astype(int)\n",
    "\n",
    "    test_data[\"classement\"] = test_data[\"classement\"].apply(pd.to_numeric)\n",
    "    \n",
    "    return len(test_data.loc[test_data[\"rank_pred\"] == 1].loc[test_data[\"classement\"] == 1]) / len(test_data.groupby(\"id\"))"
   ]
  },
  {
   "cell_type": "code",
   "execution_count": 80,
   "id": "9d129aa0-72f6-4a9b-99e9-a25ea9ed815f",
   "metadata": {
    "collapsed": true,
    "jupyter": {
     "outputs_hidden": true
    },
    "tags": []
   },
   "outputs": [
    {
     "name": "stderr",
     "output_type": "stream",
     "text": [
      "\u001b[32m[I 2022-11-12 23:39:14,123]\u001b[0m A new study created in memory with name: LGBM Ranker\u001b[0m\n",
      "\u001b[32m[I 2022-11-12 23:39:15,494]\u001b[0m Trial 0 finished with value: 0.3278767453057294 and parameters: {'n_estimators': 100, 'learning_rate': 0.1476366795580806, 'num_leaves': 3000, 'max_depth': 499, 'min_data_in_leaf': 9900}. Best is trial 0 with value: 0.3278767453057294.\u001b[0m\n",
      "C:\\Users\\raves\\AppData\\Roaming\\Python\\Python38\\site-packages\\optuna\\distributions.py:683: UserWarning: The distribution is specified by [-1, 500] and step=50, but the range is not divisible by `step`. It will be replaced by [-1, 499].\n",
      "  warnings.warn(\n",
      "C:\\Users\\raves\\anaconda3\\lib\\site-packages\\lightgbm\\sklearn.py:726: UserWarning: 'early_stopping_rounds' argument is deprecated and will be removed in a future release of LightGBM. Pass 'early_stopping()' callback via 'callbacks' argument instead.\n",
      "  _log_warning(\"'early_stopping_rounds' argument is deprecated and will be removed in a future release of LightGBM. \"\n",
      "C:\\Users\\raves\\anaconda3\\lib\\site-packages\\lightgbm\\sklearn.py:736: UserWarning: 'verbose' argument is deprecated and will be removed in a future release of LightGBM. Pass 'log_evaluation()' callback via 'callbacks' argument instead.\n",
      "  _log_warning(\"'verbose' argument is deprecated and will be removed in a future release of LightGBM. \"\n"
     ]
    },
    {
     "name": "stdout",
     "output_type": "stream",
     "text": [
      "[LightGBM] [Warning] min_data_in_leaf is set=6100, min_child_samples=20 will be ignored. Current value: min_data_in_leaf=6100\n"
     ]
    },
    {
     "name": "stderr",
     "output_type": "stream",
     "text": [
      "\u001b[32m[I 2022-11-12 23:39:17,453]\u001b[0m Trial 1 finished with value: 0.3278767453057294 and parameters: {'n_estimators': 300, 'learning_rate': 0.14950265792048356, 'num_leaves': 1320, 'max_depth': 349, 'min_data_in_leaf': 6100}. Best is trial 0 with value: 0.3278767453057294.\u001b[0m\n",
      "C:\\Users\\raves\\AppData\\Roaming\\Python\\Python38\\site-packages\\optuna\\distributions.py:683: UserWarning: The distribution is specified by [-1, 500] and step=50, but the range is not divisible by `step`. It will be replaced by [-1, 499].\n",
      "  warnings.warn(\n",
      "C:\\Users\\raves\\anaconda3\\lib\\site-packages\\lightgbm\\sklearn.py:726: UserWarning: 'early_stopping_rounds' argument is deprecated and will be removed in a future release of LightGBM. Pass 'early_stopping()' callback via 'callbacks' argument instead.\n",
      "  _log_warning(\"'early_stopping_rounds' argument is deprecated and will be removed in a future release of LightGBM. \"\n",
      "C:\\Users\\raves\\anaconda3\\lib\\site-packages\\lightgbm\\sklearn.py:736: UserWarning: 'verbose' argument is deprecated and will be removed in a future release of LightGBM. Pass 'log_evaluation()' callback via 'callbacks' argument instead.\n",
      "  _log_warning(\"'verbose' argument is deprecated and will be removed in a future release of LightGBM. \"\n"
     ]
    },
    {
     "name": "stdout",
     "output_type": "stream",
     "text": [
      "[LightGBM] [Warning] min_data_in_leaf is set=8000, min_child_samples=20 will be ignored. Current value: min_data_in_leaf=8000\n"
     ]
    },
    {
     "name": "stderr",
     "output_type": "stream",
     "text": [
      "\u001b[32m[I 2022-11-12 23:39:19,482]\u001b[0m Trial 2 finished with value: 0.3278767453057294 and parameters: {'n_estimators': 400, 'learning_rate': 0.06098072303795578, 'num_leaves': 580, 'max_depth': 399, 'min_data_in_leaf': 8000}. Best is trial 0 with value: 0.3278767453057294.\u001b[0m\n",
      "C:\\Users\\raves\\AppData\\Roaming\\Python\\Python38\\site-packages\\optuna\\distributions.py:683: UserWarning: The distribution is specified by [-1, 500] and step=50, but the range is not divisible by `step`. It will be replaced by [-1, 499].\n",
      "  warnings.warn(\n",
      "C:\\Users\\raves\\anaconda3\\lib\\site-packages\\lightgbm\\sklearn.py:726: UserWarning: 'early_stopping_rounds' argument is deprecated and will be removed in a future release of LightGBM. Pass 'early_stopping()' callback via 'callbacks' argument instead.\n",
      "  _log_warning(\"'early_stopping_rounds' argument is deprecated and will be removed in a future release of LightGBM. \"\n",
      "C:\\Users\\raves\\anaconda3\\lib\\site-packages\\lightgbm\\sklearn.py:736: UserWarning: 'verbose' argument is deprecated and will be removed in a future release of LightGBM. Pass 'log_evaluation()' callback via 'callbacks' argument instead.\n",
      "  _log_warning(\"'verbose' argument is deprecated and will be removed in a future release of LightGBM. \"\n"
     ]
    },
    {
     "name": "stdout",
     "output_type": "stream",
     "text": [
      "[LightGBM] [Warning] min_data_in_leaf is set=9800, min_child_samples=20 will be ignored. Current value: min_data_in_leaf=9800\n"
     ]
    },
    {
     "name": "stderr",
     "output_type": "stream",
     "text": [
      "\u001b[32m[I 2022-11-12 23:39:22,829]\u001b[0m Trial 3 finished with value: 0.3278767453057294 and parameters: {'n_estimators': 400, 'learning_rate': 0.03542833161614938, 'num_leaves': 2040, 'max_depth': 499, 'min_data_in_leaf': 9800}. Best is trial 0 with value: 0.3278767453057294.\u001b[0m\n",
      "C:\\Users\\raves\\AppData\\Roaming\\Python\\Python38\\site-packages\\optuna\\distributions.py:683: UserWarning: The distribution is specified by [-1, 500] and step=50, but the range is not divisible by `step`. It will be replaced by [-1, 499].\n",
      "  warnings.warn(\n",
      "C:\\Users\\raves\\anaconda3\\lib\\site-packages\\lightgbm\\sklearn.py:726: UserWarning: 'early_stopping_rounds' argument is deprecated and will be removed in a future release of LightGBM. Pass 'early_stopping()' callback via 'callbacks' argument instead.\n",
      "  _log_warning(\"'early_stopping_rounds' argument is deprecated and will be removed in a future release of LightGBM. \"\n",
      "C:\\Users\\raves\\anaconda3\\lib\\site-packages\\lightgbm\\sklearn.py:736: UserWarning: 'verbose' argument is deprecated and will be removed in a future release of LightGBM. Pass 'log_evaluation()' callback via 'callbacks' argument instead.\n",
      "  _log_warning(\"'verbose' argument is deprecated and will be removed in a future release of LightGBM. \"\n"
     ]
    },
    {
     "name": "stdout",
     "output_type": "stream",
     "text": [
      "[LightGBM] [Warning] min_data_in_leaf is set=2600, min_child_samples=20 will be ignored. Current value: min_data_in_leaf=2600\n"
     ]
    },
    {
     "name": "stderr",
     "output_type": "stream",
     "text": [
      "\u001b[32m[I 2022-11-12 23:39:24,983]\u001b[0m Trial 4 finished with value: 0.3278767453057294 and parameters: {'n_estimators': 500, 'learning_rate': 0.1853935200415455, 'num_leaves': 340, 'max_depth': -1, 'min_data_in_leaf': 2600}. Best is trial 0 with value: 0.3278767453057294.\u001b[0m\n",
      "C:\\Users\\raves\\AppData\\Roaming\\Python\\Python38\\site-packages\\optuna\\distributions.py:683: UserWarning: The distribution is specified by [-1, 500] and step=50, but the range is not divisible by `step`. It will be replaced by [-1, 499].\n",
      "  warnings.warn(\n",
      "C:\\Users\\raves\\anaconda3\\lib\\site-packages\\lightgbm\\sklearn.py:726: UserWarning: 'early_stopping_rounds' argument is deprecated and will be removed in a future release of LightGBM. Pass 'early_stopping()' callback via 'callbacks' argument instead.\n",
      "  _log_warning(\"'early_stopping_rounds' argument is deprecated and will be removed in a future release of LightGBM. \"\n",
      "C:\\Users\\raves\\anaconda3\\lib\\site-packages\\lightgbm\\sklearn.py:736: UserWarning: 'verbose' argument is deprecated and will be removed in a future release of LightGBM. Pass 'log_evaluation()' callback via 'callbacks' argument instead.\n",
      "  _log_warning(\"'verbose' argument is deprecated and will be removed in a future release of LightGBM. \"\n"
     ]
    },
    {
     "name": "stdout",
     "output_type": "stream",
     "text": [
      "[LightGBM] [Warning] min_data_in_leaf is set=600, min_child_samples=20 will be ignored. Current value: min_data_in_leaf=600\n"
     ]
    },
    {
     "name": "stderr",
     "output_type": "stream",
     "text": [
      "\u001b[32m[I 2022-11-12 23:39:28,519]\u001b[0m Trial 5 finished with value: 0.3278767453057294 and parameters: {'n_estimators': 400, 'learning_rate': 0.10291743955571668, 'num_leaves': 1260, 'max_depth': 299, 'min_data_in_leaf': 600}. Best is trial 0 with value: 0.3278767453057294.\u001b[0m\n",
      "C:\\Users\\raves\\AppData\\Roaming\\Python\\Python38\\site-packages\\optuna\\distributions.py:683: UserWarning: The distribution is specified by [-1, 500] and step=50, but the range is not divisible by `step`. It will be replaced by [-1, 499].\n",
      "  warnings.warn(\n",
      "C:\\Users\\raves\\anaconda3\\lib\\site-packages\\lightgbm\\sklearn.py:726: UserWarning: 'early_stopping_rounds' argument is deprecated and will be removed in a future release of LightGBM. Pass 'early_stopping()' callback via 'callbacks' argument instead.\n",
      "  _log_warning(\"'early_stopping_rounds' argument is deprecated and will be removed in a future release of LightGBM. \"\n",
      "C:\\Users\\raves\\anaconda3\\lib\\site-packages\\lightgbm\\sklearn.py:736: UserWarning: 'verbose' argument is deprecated and will be removed in a future release of LightGBM. Pass 'log_evaluation()' callback via 'callbacks' argument instead.\n",
      "  _log_warning(\"'verbose' argument is deprecated and will be removed in a future release of LightGBM. \"\n"
     ]
    },
    {
     "name": "stdout",
     "output_type": "stream",
     "text": [
      "[LightGBM] [Warning] min_data_in_leaf is set=8300, min_child_samples=20 will be ignored. Current value: min_data_in_leaf=8300\n"
     ]
    },
    {
     "name": "stderr",
     "output_type": "stream",
     "text": [
      "\u001b[32m[I 2022-11-12 23:39:30,778]\u001b[0m Trial 6 finished with value: 0.3278767453057294 and parameters: {'n_estimators': 500, 'learning_rate': 0.0840722341913762, 'num_leaves': 1980, 'max_depth': 299, 'min_data_in_leaf': 8300}. Best is trial 0 with value: 0.3278767453057294.\u001b[0m\n",
      "C:\\Users\\raves\\AppData\\Roaming\\Python\\Python38\\site-packages\\optuna\\distributions.py:683: UserWarning: The distribution is specified by [-1, 500] and step=50, but the range is not divisible by `step`. It will be replaced by [-1, 499].\n",
      "  warnings.warn(\n",
      "C:\\Users\\raves\\anaconda3\\lib\\site-packages\\lightgbm\\sklearn.py:726: UserWarning: 'early_stopping_rounds' argument is deprecated and will be removed in a future release of LightGBM. Pass 'early_stopping()' callback via 'callbacks' argument instead.\n",
      "  _log_warning(\"'early_stopping_rounds' argument is deprecated and will be removed in a future release of LightGBM. \"\n",
      "C:\\Users\\raves\\anaconda3\\lib\\site-packages\\lightgbm\\sklearn.py:736: UserWarning: 'verbose' argument is deprecated and will be removed in a future release of LightGBM. Pass 'log_evaluation()' callback via 'callbacks' argument instead.\n",
      "  _log_warning(\"'verbose' argument is deprecated and will be removed in a future release of LightGBM. \"\n"
     ]
    },
    {
     "name": "stdout",
     "output_type": "stream",
     "text": [
      "[LightGBM] [Warning] min_data_in_leaf is set=4000, min_child_samples=20 will be ignored. Current value: min_data_in_leaf=4000\n"
     ]
    },
    {
     "name": "stderr",
     "output_type": "stream",
     "text": [
      "\u001b[32m[I 2022-11-12 23:39:32,762]\u001b[0m Trial 7 finished with value: 0.3278767453057294 and parameters: {'n_estimators': 300, 'learning_rate': 0.11114505085644799, 'num_leaves': 2820, 'max_depth': 399, 'min_data_in_leaf': 4000}. Best is trial 0 with value: 0.3278767453057294.\u001b[0m\n",
      "C:\\Users\\raves\\AppData\\Roaming\\Python\\Python38\\site-packages\\optuna\\distributions.py:683: UserWarning: The distribution is specified by [-1, 500] and step=50, but the range is not divisible by `step`. It will be replaced by [-1, 499].\n",
      "  warnings.warn(\n",
      "C:\\Users\\raves\\anaconda3\\lib\\site-packages\\lightgbm\\sklearn.py:726: UserWarning: 'early_stopping_rounds' argument is deprecated and will be removed in a future release of LightGBM. Pass 'early_stopping()' callback via 'callbacks' argument instead.\n",
      "  _log_warning(\"'early_stopping_rounds' argument is deprecated and will be removed in a future release of LightGBM. \"\n",
      "C:\\Users\\raves\\anaconda3\\lib\\site-packages\\lightgbm\\sklearn.py:736: UserWarning: 'verbose' argument is deprecated and will be removed in a future release of LightGBM. Pass 'log_evaluation()' callback via 'callbacks' argument instead.\n",
      "  _log_warning(\"'verbose' argument is deprecated and will be removed in a future release of LightGBM. \"\n"
     ]
    },
    {
     "name": "stdout",
     "output_type": "stream",
     "text": [
      "[LightGBM] [Warning] min_data_in_leaf is set=7300, min_child_samples=20 will be ignored. Current value: min_data_in_leaf=7300\n"
     ]
    },
    {
     "name": "stderr",
     "output_type": "stream",
     "text": [
      "\u001b[32m[I 2022-11-12 23:39:34,478]\u001b[0m Trial 8 finished with value: 0.3278767453057294 and parameters: {'n_estimators': 300, 'learning_rate': 0.15649812549913525, 'num_leaves': 720, 'max_depth': 299, 'min_data_in_leaf': 7300}. Best is trial 0 with value: 0.3278767453057294.\u001b[0m\n",
      "C:\\Users\\raves\\AppData\\Roaming\\Python\\Python38\\site-packages\\optuna\\distributions.py:683: UserWarning: The distribution is specified by [-1, 500] and step=50, but the range is not divisible by `step`. It will be replaced by [-1, 499].\n",
      "  warnings.warn(\n",
      "C:\\Users\\raves\\anaconda3\\lib\\site-packages\\lightgbm\\sklearn.py:726: UserWarning: 'early_stopping_rounds' argument is deprecated and will be removed in a future release of LightGBM. Pass 'early_stopping()' callback via 'callbacks' argument instead.\n",
      "  _log_warning(\"'early_stopping_rounds' argument is deprecated and will be removed in a future release of LightGBM. \"\n",
      "C:\\Users\\raves\\anaconda3\\lib\\site-packages\\lightgbm\\sklearn.py:736: UserWarning: 'verbose' argument is deprecated and will be removed in a future release of LightGBM. Pass 'log_evaluation()' callback via 'callbacks' argument instead.\n",
      "  _log_warning(\"'verbose' argument is deprecated and will be removed in a future release of LightGBM. \"\n"
     ]
    },
    {
     "name": "stdout",
     "output_type": "stream",
     "text": [
      "[LightGBM] [Warning] min_data_in_leaf is set=2800, min_child_samples=20 will be ignored. Current value: min_data_in_leaf=2800\n"
     ]
    },
    {
     "name": "stderr",
     "output_type": "stream",
     "text": [
      "\u001b[32m[I 2022-11-12 23:39:36,141]\u001b[0m Trial 9 finished with value: 0.3278767453057294 and parameters: {'n_estimators': 100, 'learning_rate': 0.1354328961486179, 'num_leaves': 960, 'max_depth': 99, 'min_data_in_leaf': 2800}. Best is trial 0 with value: 0.3278767453057294.\u001b[0m\n",
      "C:\\Users\\raves\\AppData\\Roaming\\Python\\Python38\\site-packages\\optuna\\distributions.py:683: UserWarning: The distribution is specified by [-1, 500] and step=50, but the range is not divisible by `step`. It will be replaced by [-1, 499].\n",
      "  warnings.warn(\n",
      "C:\\Users\\raves\\anaconda3\\lib\\site-packages\\lightgbm\\sklearn.py:726: UserWarning: 'early_stopping_rounds' argument is deprecated and will be removed in a future release of LightGBM. Pass 'early_stopping()' callback via 'callbacks' argument instead.\n",
      "  _log_warning(\"'early_stopping_rounds' argument is deprecated and will be removed in a future release of LightGBM. \"\n",
      "C:\\Users\\raves\\anaconda3\\lib\\site-packages\\lightgbm\\sklearn.py:736: UserWarning: 'verbose' argument is deprecated and will be removed in a future release of LightGBM. Pass 'log_evaluation()' callback via 'callbacks' argument instead.\n",
      "  _log_warning(\"'verbose' argument is deprecated and will be removed in a future release of LightGBM. \"\n"
     ]
    },
    {
     "name": "stdout",
     "output_type": "stream",
     "text": [
      "[LightGBM] [Warning] min_data_in_leaf is set=10000, min_child_samples=20 will be ignored. Current value: min_data_in_leaf=10000\n"
     ]
    },
    {
     "name": "stderr",
     "output_type": "stream",
     "text": [
      "\u001b[32m[I 2022-11-12 23:39:37,533]\u001b[0m Trial 10 finished with value: 0.3278767453057294 and parameters: {'n_estimators': 100, 'learning_rate': 0.2732165315267, 'num_leaves': 2820, 'max_depth': 149, 'min_data_in_leaf': 10000}. Best is trial 0 with value: 0.3278767453057294.\u001b[0m\n",
      "C:\\Users\\raves\\AppData\\Roaming\\Python\\Python38\\site-packages\\optuna\\distributions.py:683: UserWarning: The distribution is specified by [-1, 500] and step=50, but the range is not divisible by `step`. It will be replaced by [-1, 499].\n",
      "  warnings.warn(\n",
      "C:\\Users\\raves\\anaconda3\\lib\\site-packages\\lightgbm\\sklearn.py:726: UserWarning: 'early_stopping_rounds' argument is deprecated and will be removed in a future release of LightGBM. Pass 'early_stopping()' callback via 'callbacks' argument instead.\n",
      "  _log_warning(\"'early_stopping_rounds' argument is deprecated and will be removed in a future release of LightGBM. \"\n",
      "C:\\Users\\raves\\anaconda3\\lib\\site-packages\\lightgbm\\sklearn.py:736: UserWarning: 'verbose' argument is deprecated and will be removed in a future release of LightGBM. Pass 'log_evaluation()' callback via 'callbacks' argument instead.\n",
      "  _log_warning(\"'verbose' argument is deprecated and will be removed in a future release of LightGBM. \"\n"
     ]
    },
    {
     "name": "stdout",
     "output_type": "stream",
     "text": [
      "[LightGBM] [Warning] min_data_in_leaf is set=6100, min_child_samples=20 will be ignored. Current value: min_data_in_leaf=6100\n"
     ]
    },
    {
     "name": "stderr",
     "output_type": "stream",
     "text": [
      "\u001b[32m[I 2022-11-12 23:39:39,545]\u001b[0m Trial 11 finished with value: 0.3278767453057294 and parameters: {'n_estimators': 200, 'learning_rate': 0.2152550814587728, 'num_leaves': 1800, 'max_depth': 499, 'min_data_in_leaf': 6100}. Best is trial 0 with value: 0.3278767453057294.\u001b[0m\n",
      "C:\\Users\\raves\\AppData\\Roaming\\Python\\Python38\\site-packages\\optuna\\distributions.py:683: UserWarning: The distribution is specified by [-1, 500] and step=50, but the range is not divisible by `step`. It will be replaced by [-1, 499].\n",
      "  warnings.warn(\n",
      "C:\\Users\\raves\\anaconda3\\lib\\site-packages\\lightgbm\\sklearn.py:726: UserWarning: 'early_stopping_rounds' argument is deprecated and will be removed in a future release of LightGBM. Pass 'early_stopping()' callback via 'callbacks' argument instead.\n",
      "  _log_warning(\"'early_stopping_rounds' argument is deprecated and will be removed in a future release of LightGBM. \"\n",
      "C:\\Users\\raves\\anaconda3\\lib\\site-packages\\lightgbm\\sklearn.py:736: UserWarning: 'verbose' argument is deprecated and will be removed in a future release of LightGBM. Pass 'log_evaluation()' callback via 'callbacks' argument instead.\n",
      "  _log_warning(\"'verbose' argument is deprecated and will be removed in a future release of LightGBM. \"\n"
     ]
    },
    {
     "name": "stdout",
     "output_type": "stream",
     "text": [
      "[LightGBM] [Warning] min_data_in_leaf is set=5400, min_child_samples=20 will be ignored. Current value: min_data_in_leaf=5400\n"
     ]
    },
    {
     "name": "stderr",
     "output_type": "stream",
     "text": [
      "\u001b[32m[I 2022-11-12 23:39:41,221]\u001b[0m Trial 12 finished with value: 0.3278767453057294 and parameters: {'n_estimators': 200, 'learning_rate': 0.23049441581322153, 'num_leaves': 2380, 'max_depth': 399, 'min_data_in_leaf': 5400}. Best is trial 0 with value: 0.3278767453057294.\u001b[0m\n",
      "C:\\Users\\raves\\AppData\\Roaming\\Python\\Python38\\site-packages\\optuna\\distributions.py:683: UserWarning: The distribution is specified by [-1, 500] and step=50, but the range is not divisible by `step`. It will be replaced by [-1, 499].\n",
      "  warnings.warn(\n",
      "C:\\Users\\raves\\anaconda3\\lib\\site-packages\\lightgbm\\sklearn.py:726: UserWarning: 'early_stopping_rounds' argument is deprecated and will be removed in a future release of LightGBM. Pass 'early_stopping()' callback via 'callbacks' argument instead.\n",
      "  _log_warning(\"'early_stopping_rounds' argument is deprecated and will be removed in a future release of LightGBM. \"\n",
      "C:\\Users\\raves\\anaconda3\\lib\\site-packages\\lightgbm\\sklearn.py:736: UserWarning: 'verbose' argument is deprecated and will be removed in a future release of LightGBM. Pass 'log_evaluation()' callback via 'callbacks' argument instead.\n",
      "  _log_warning(\"'verbose' argument is deprecated and will be removed in a future release of LightGBM. \"\n"
     ]
    },
    {
     "name": "stdout",
     "output_type": "stream",
     "text": [
      "[LightGBM] [Warning] min_data_in_leaf is set=6600, min_child_samples=20 will be ignored. Current value: min_data_in_leaf=6600\n"
     ]
    },
    {
     "name": "stderr",
     "output_type": "stream",
     "text": [
      "\u001b[32m[I 2022-11-12 23:39:42,868]\u001b[0m Trial 13 finished with value: 0.3278767453057294 and parameters: {'n_estimators': 200, 'learning_rate': 0.15927223673012975, 'num_leaves': 1400, 'max_depth': 449, 'min_data_in_leaf': 6600}. Best is trial 0 with value: 0.3278767453057294.\u001b[0m\n",
      "C:\\Users\\raves\\AppData\\Roaming\\Python\\Python38\\site-packages\\optuna\\distributions.py:683: UserWarning: The distribution is specified by [-1, 500] and step=50, but the range is not divisible by `step`. It will be replaced by [-1, 499].\n",
      "  warnings.warn(\n",
      "C:\\Users\\raves\\anaconda3\\lib\\site-packages\\lightgbm\\sklearn.py:726: UserWarning: 'early_stopping_rounds' argument is deprecated and will be removed in a future release of LightGBM. Pass 'early_stopping()' callback via 'callbacks' argument instead.\n",
      "  _log_warning(\"'early_stopping_rounds' argument is deprecated and will be removed in a future release of LightGBM. \"\n",
      "C:\\Users\\raves\\anaconda3\\lib\\site-packages\\lightgbm\\sklearn.py:736: UserWarning: 'verbose' argument is deprecated and will be removed in a future release of LightGBM. Pass 'log_evaluation()' callback via 'callbacks' argument instead.\n",
      "  _log_warning(\"'verbose' argument is deprecated and will be removed in a future release of LightGBM. \"\n"
     ]
    },
    {
     "name": "stdout",
     "output_type": "stream",
     "text": [
      "[LightGBM] [Warning] min_data_in_leaf is set=4400, min_child_samples=20 will be ignored. Current value: min_data_in_leaf=4400\n"
     ]
    },
    {
     "name": "stderr",
     "output_type": "stream",
     "text": [
      "\u001b[32m[I 2022-11-12 23:39:44,354]\u001b[0m Trial 14 finished with value: 0.3278767453057294 and parameters: {'n_estimators': 100, 'learning_rate': 0.2088774036453553, 'num_leaves': 40, 'max_depth': 249, 'min_data_in_leaf': 4400}. Best is trial 0 with value: 0.3278767453057294.\u001b[0m\n",
      "C:\\Users\\raves\\AppData\\Roaming\\Python\\Python38\\site-packages\\optuna\\distributions.py:683: UserWarning: The distribution is specified by [-1, 500] and step=50, but the range is not divisible by `step`. It will be replaced by [-1, 499].\n",
      "  warnings.warn(\n",
      "C:\\Users\\raves\\anaconda3\\lib\\site-packages\\lightgbm\\sklearn.py:726: UserWarning: 'early_stopping_rounds' argument is deprecated and will be removed in a future release of LightGBM. Pass 'early_stopping()' callback via 'callbacks' argument instead.\n",
      "  _log_warning(\"'early_stopping_rounds' argument is deprecated and will be removed in a future release of LightGBM. \"\n",
      "C:\\Users\\raves\\anaconda3\\lib\\site-packages\\lightgbm\\sklearn.py:736: UserWarning: 'verbose' argument is deprecated and will be removed in a future release of LightGBM. Pass 'log_evaluation()' callback via 'callbacks' argument instead.\n",
      "  _log_warning(\"'verbose' argument is deprecated and will be removed in a future release of LightGBM. \"\n"
     ]
    },
    {
     "name": "stdout",
     "output_type": "stream",
     "text": [
      "[LightGBM] [Warning] min_data_in_leaf is set=9000, min_child_samples=20 will be ignored. Current value: min_data_in_leaf=9000\n"
     ]
    },
    {
     "name": "stderr",
     "output_type": "stream",
     "text": [
      "\u001b[32m[I 2022-11-12 23:39:46,121]\u001b[0m Trial 15 finished with value: 0.3278767453057294 and parameters: {'n_estimators': 200, 'learning_rate': 0.26550949321832096, 'num_leaves': 2320, 'max_depth': 199, 'min_data_in_leaf': 9000}. Best is trial 0 with value: 0.3278767453057294.\u001b[0m\n",
      "C:\\Users\\raves\\AppData\\Roaming\\Python\\Python38\\site-packages\\optuna\\distributions.py:683: UserWarning: The distribution is specified by [-1, 500] and step=50, but the range is not divisible by `step`. It will be replaced by [-1, 499].\n",
      "  warnings.warn(\n",
      "C:\\Users\\raves\\anaconda3\\lib\\site-packages\\lightgbm\\sklearn.py:726: UserWarning: 'early_stopping_rounds' argument is deprecated and will be removed in a future release of LightGBM. Pass 'early_stopping()' callback via 'callbacks' argument instead.\n",
      "  _log_warning(\"'early_stopping_rounds' argument is deprecated and will be removed in a future release of LightGBM. \"\n",
      "C:\\Users\\raves\\anaconda3\\lib\\site-packages\\lightgbm\\sklearn.py:736: UserWarning: 'verbose' argument is deprecated and will be removed in a future release of LightGBM. Pass 'log_evaluation()' callback via 'callbacks' argument instead.\n",
      "  _log_warning(\"'verbose' argument is deprecated and will be removed in a future release of LightGBM. \"\n"
     ]
    },
    {
     "name": "stdout",
     "output_type": "stream",
     "text": [
      "[LightGBM] [Warning] min_data_in_leaf is set=200, min_child_samples=20 will be ignored. Current value: min_data_in_leaf=200\n"
     ]
    },
    {
     "name": "stderr",
     "output_type": "stream",
     "text": [
      "\u001b[32m[I 2022-11-12 23:39:52,236]\u001b[0m Trial 16 finished with value: 0.3278767453057294 and parameters: {'n_estimators': 300, 'learning_rate': 0.13885280394232624, 'num_leaves': 1560, 'max_depth': 349, 'min_data_in_leaf': 200}. Best is trial 0 with value: 0.3278767453057294.\u001b[0m\n",
      "C:\\Users\\raves\\AppData\\Roaming\\Python\\Python38\\site-packages\\optuna\\distributions.py:683: UserWarning: The distribution is specified by [-1, 500] and step=50, but the range is not divisible by `step`. It will be replaced by [-1, 499].\n",
      "  warnings.warn(\n",
      "C:\\Users\\raves\\anaconda3\\lib\\site-packages\\lightgbm\\sklearn.py:726: UserWarning: 'early_stopping_rounds' argument is deprecated and will be removed in a future release of LightGBM. Pass 'early_stopping()' callback via 'callbacks' argument instead.\n",
      "  _log_warning(\"'early_stopping_rounds' argument is deprecated and will be removed in a future release of LightGBM. \"\n",
      "C:\\Users\\raves\\anaconda3\\lib\\site-packages\\lightgbm\\sklearn.py:736: UserWarning: 'verbose' argument is deprecated and will be removed in a future release of LightGBM. Pass 'log_evaluation()' callback via 'callbacks' argument instead.\n",
      "  _log_warning(\"'verbose' argument is deprecated and will be removed in a future release of LightGBM. \"\n"
     ]
    },
    {
     "name": "stdout",
     "output_type": "stream",
     "text": [
      "[LightGBM] [Warning] min_data_in_leaf is set=4400, min_child_samples=20 will be ignored. Current value: min_data_in_leaf=4400\n"
     ]
    },
    {
     "name": "stderr",
     "output_type": "stream",
     "text": [
      "\u001b[32m[I 2022-11-12 23:39:53,650]\u001b[0m Trial 17 finished with value: 0.3278767453057294 and parameters: {'n_estimators': 100, 'learning_rate': 0.20475291785118374, 'num_leaves': 180, 'max_depth': 199, 'min_data_in_leaf': 4400}. Best is trial 0 with value: 0.3278767453057294.\u001b[0m\n",
      "C:\\Users\\raves\\AppData\\Roaming\\Python\\Python38\\site-packages\\optuna\\distributions.py:683: UserWarning: The distribution is specified by [-1, 500] and step=50, but the range is not divisible by `step`. It will be replaced by [-1, 499].\n",
      "  warnings.warn(\n",
      "C:\\Users\\raves\\anaconda3\\lib\\site-packages\\lightgbm\\sklearn.py:726: UserWarning: 'early_stopping_rounds' argument is deprecated and will be removed in a future release of LightGBM. Pass 'early_stopping()' callback via 'callbacks' argument instead.\n",
      "  _log_warning(\"'early_stopping_rounds' argument is deprecated and will be removed in a future release of LightGBM. \"\n",
      "C:\\Users\\raves\\anaconda3\\lib\\site-packages\\lightgbm\\sklearn.py:736: UserWarning: 'verbose' argument is deprecated and will be removed in a future release of LightGBM. Pass 'log_evaluation()' callback via 'callbacks' argument instead.\n",
      "  _log_warning(\"'verbose' argument is deprecated and will be removed in a future release of LightGBM. \"\n"
     ]
    },
    {
     "name": "stdout",
     "output_type": "stream",
     "text": [
      "[LightGBM] [Warning] min_data_in_leaf is set=9100, min_child_samples=20 will be ignored. Current value: min_data_in_leaf=9100\n"
     ]
    },
    {
     "name": "stderr",
     "output_type": "stream",
     "text": [
      "\u001b[32m[I 2022-11-12 23:39:55,493]\u001b[0m Trial 18 finished with value: 0.3278767453057294 and parameters: {'n_estimators': 200, 'learning_rate': 0.2786288336658377, 'num_leaves': 2480, 'max_depth': 49, 'min_data_in_leaf': 9100}. Best is trial 0 with value: 0.3278767453057294.\u001b[0m\n",
      "C:\\Users\\raves\\AppData\\Roaming\\Python\\Python38\\site-packages\\optuna\\distributions.py:683: UserWarning: The distribution is specified by [-1, 500] and step=50, but the range is not divisible by `step`. It will be replaced by [-1, 499].\n",
      "  warnings.warn(\n",
      "C:\\Users\\raves\\anaconda3\\lib\\site-packages\\lightgbm\\sklearn.py:726: UserWarning: 'early_stopping_rounds' argument is deprecated and will be removed in a future release of LightGBM. Pass 'early_stopping()' callback via 'callbacks' argument instead.\n",
      "  _log_warning(\"'early_stopping_rounds' argument is deprecated and will be removed in a future release of LightGBM. \"\n",
      "C:\\Users\\raves\\anaconda3\\lib\\site-packages\\lightgbm\\sklearn.py:736: UserWarning: 'verbose' argument is deprecated and will be removed in a future release of LightGBM. Pass 'log_evaluation()' callback via 'callbacks' argument instead.\n",
      "  _log_warning(\"'verbose' argument is deprecated and will be removed in a future release of LightGBM. \"\n"
     ]
    },
    {
     "name": "stdout",
     "output_type": "stream",
     "text": [
      "[LightGBM] [Warning] min_data_in_leaf is set=1000, min_child_samples=20 will be ignored. Current value: min_data_in_leaf=1000\n"
     ]
    },
    {
     "name": "stderr",
     "output_type": "stream",
     "text": [
      "\u001b[32m[I 2022-11-12 23:39:58,731]\u001b[0m Trial 19 finished with value: 0.3278767453057294 and parameters: {'n_estimators': 400, 'learning_rate': 0.1190815547801759, 'num_leaves': 2980, 'max_depth': 449, 'min_data_in_leaf': 1000}. Best is trial 0 with value: 0.3278767453057294.\u001b[0m\n",
      "C:\\Users\\raves\\AppData\\Roaming\\Python\\Python38\\site-packages\\optuna\\distributions.py:683: UserWarning: The distribution is specified by [-1, 500] and step=50, but the range is not divisible by `step`. It will be replaced by [-1, 499].\n",
      "  warnings.warn(\n",
      "C:\\Users\\raves\\anaconda3\\lib\\site-packages\\lightgbm\\sklearn.py:726: UserWarning: 'early_stopping_rounds' argument is deprecated and will be removed in a future release of LightGBM. Pass 'early_stopping()' callback via 'callbacks' argument instead.\n",
      "  _log_warning(\"'early_stopping_rounds' argument is deprecated and will be removed in a future release of LightGBM. \"\n",
      "C:\\Users\\raves\\anaconda3\\lib\\site-packages\\lightgbm\\sklearn.py:736: UserWarning: 'verbose' argument is deprecated and will be removed in a future release of LightGBM. Pass 'log_evaluation()' callback via 'callbacks' argument instead.\n",
      "  _log_warning(\"'verbose' argument is deprecated and will be removed in a future release of LightGBM. \"\n"
     ]
    },
    {
     "name": "stdout",
     "output_type": "stream",
     "text": [
      "[LightGBM] [Warning] min_data_in_leaf is set=3100, min_child_samples=20 will be ignored. Current value: min_data_in_leaf=3100\n"
     ]
    },
    {
     "name": "stderr",
     "output_type": "stream",
     "text": [
      "\u001b[32m[I 2022-11-12 23:40:00,216]\u001b[0m Trial 20 finished with value: 0.3278767453057294 and parameters: {'n_estimators': 100, 'learning_rate': 0.19779205332556227, 'num_leaves': 20, 'max_depth': 199, 'min_data_in_leaf': 3100}. Best is trial 0 with value: 0.3278767453057294.\u001b[0m\n",
      "C:\\Users\\raves\\AppData\\Roaming\\Python\\Python38\\site-packages\\optuna\\distributions.py:683: UserWarning: The distribution is specified by [-1, 500] and step=50, but the range is not divisible by `step`. It will be replaced by [-1, 499].\n",
      "  warnings.warn(\n",
      "C:\\Users\\raves\\anaconda3\\lib\\site-packages\\lightgbm\\sklearn.py:726: UserWarning: 'early_stopping_rounds' argument is deprecated and will be removed in a future release of LightGBM. Pass 'early_stopping()' callback via 'callbacks' argument instead.\n",
      "  _log_warning(\"'early_stopping_rounds' argument is deprecated and will be removed in a future release of LightGBM. \"\n",
      "C:\\Users\\raves\\anaconda3\\lib\\site-packages\\lightgbm\\sklearn.py:736: UserWarning: 'verbose' argument is deprecated and will be removed in a future release of LightGBM. Pass 'log_evaluation()' callback via 'callbacks' argument instead.\n",
      "  _log_warning(\"'verbose' argument is deprecated and will be removed in a future release of LightGBM. \"\n"
     ]
    },
    {
     "name": "stdout",
     "output_type": "stream",
     "text": [
      "[LightGBM] [Warning] min_data_in_leaf is set=9000, min_child_samples=20 will be ignored. Current value: min_data_in_leaf=9000\n"
     ]
    },
    {
     "name": "stderr",
     "output_type": "stream",
     "text": [
      "\u001b[32m[I 2022-11-12 23:40:01,571]\u001b[0m Trial 21 finished with value: 0.3278767453057294 and parameters: {'n_estimators': 100, 'learning_rate': 0.2445723812046241, 'num_leaves': 2480, 'max_depth': -1, 'min_data_in_leaf': 9000}. Best is trial 0 with value: 0.3278767453057294.\u001b[0m\n",
      "C:\\Users\\raves\\AppData\\Roaming\\Python\\Python38\\site-packages\\optuna\\distributions.py:683: UserWarning: The distribution is specified by [-1, 500] and step=50, but the range is not divisible by `step`. It will be replaced by [-1, 499].\n",
      "  warnings.warn(\n",
      "C:\\Users\\raves\\anaconda3\\lib\\site-packages\\lightgbm\\sklearn.py:726: UserWarning: 'early_stopping_rounds' argument is deprecated and will be removed in a future release of LightGBM. Pass 'early_stopping()' callback via 'callbacks' argument instead.\n",
      "  _log_warning(\"'early_stopping_rounds' argument is deprecated and will be removed in a future release of LightGBM. \"\n",
      "C:\\Users\\raves\\anaconda3\\lib\\site-packages\\lightgbm\\sklearn.py:736: UserWarning: 'verbose' argument is deprecated and will be removed in a future release of LightGBM. Pass 'log_evaluation()' callback via 'callbacks' argument instead.\n",
      "  _log_warning(\"'verbose' argument is deprecated and will be removed in a future release of LightGBM. \"\n"
     ]
    },
    {
     "name": "stdout",
     "output_type": "stream",
     "text": [
      "[LightGBM] [Warning] min_data_in_leaf is set=1300, min_child_samples=20 will be ignored. Current value: min_data_in_leaf=1300\n"
     ]
    },
    {
     "name": "stderr",
     "output_type": "stream",
     "text": [
      "\u001b[32m[I 2022-11-12 23:40:05,021]\u001b[0m Trial 22 finished with value: 0.3278767453057294 and parameters: {'n_estimators': 200, 'learning_rate': 0.013017586998734593, 'num_leaves': 3000, 'max_depth': 49, 'min_data_in_leaf': 1300}. Best is trial 0 with value: 0.3278767453057294.\u001b[0m\n",
      "C:\\Users\\raves\\AppData\\Roaming\\Python\\Python38\\site-packages\\optuna\\distributions.py:683: UserWarning: The distribution is specified by [-1, 500] and step=50, but the range is not divisible by `step`. It will be replaced by [-1, 499].\n",
      "  warnings.warn(\n",
      "C:\\Users\\raves\\anaconda3\\lib\\site-packages\\lightgbm\\sklearn.py:726: UserWarning: 'early_stopping_rounds' argument is deprecated and will be removed in a future release of LightGBM. Pass 'early_stopping()' callback via 'callbacks' argument instead.\n",
      "  _log_warning(\"'early_stopping_rounds' argument is deprecated and will be removed in a future release of LightGBM. \"\n",
      "C:\\Users\\raves\\anaconda3\\lib\\site-packages\\lightgbm\\sklearn.py:736: UserWarning: 'verbose' argument is deprecated and will be removed in a future release of LightGBM. Pass 'log_evaluation()' callback via 'callbacks' argument instead.\n",
      "  _log_warning(\"'verbose' argument is deprecated and will be removed in a future release of LightGBM. \"\n"
     ]
    },
    {
     "name": "stdout",
     "output_type": "stream",
     "text": [
      "[LightGBM] [Warning] min_data_in_leaf is set=2100, min_child_samples=20 will be ignored. Current value: min_data_in_leaf=2100\n"
     ]
    },
    {
     "name": "stderr",
     "output_type": "stream",
     "text": [
      "\u001b[32m[I 2022-11-12 23:40:07,172]\u001b[0m Trial 23 finished with value: 0.3278767453057294 and parameters: {'n_estimators': 400, 'learning_rate': 0.18418142515515545, 'num_leaves': 2980, 'max_depth': 499, 'min_data_in_leaf': 2100}. Best is trial 0 with value: 0.3278767453057294.\u001b[0m\n",
      "C:\\Users\\raves\\AppData\\Roaming\\Python\\Python38\\site-packages\\optuna\\distributions.py:683: UserWarning: The distribution is specified by [-1, 500] and step=50, but the range is not divisible by `step`. It will be replaced by [-1, 499].\n",
      "  warnings.warn(\n",
      "C:\\Users\\raves\\anaconda3\\lib\\site-packages\\lightgbm\\sklearn.py:726: UserWarning: 'early_stopping_rounds' argument is deprecated and will be removed in a future release of LightGBM. Pass 'early_stopping()' callback via 'callbacks' argument instead.\n",
      "  _log_warning(\"'early_stopping_rounds' argument is deprecated and will be removed in a future release of LightGBM. \"\n",
      "C:\\Users\\raves\\anaconda3\\lib\\site-packages\\lightgbm\\sklearn.py:736: UserWarning: 'verbose' argument is deprecated and will be removed in a future release of LightGBM. Pass 'log_evaluation()' callback via 'callbacks' argument instead.\n",
      "  _log_warning(\"'verbose' argument is deprecated and will be removed in a future release of LightGBM. \"\n"
     ]
    },
    {
     "name": "stdout",
     "output_type": "stream",
     "text": [
      "[LightGBM] [Warning] min_data_in_leaf is set=3600, min_child_samples=20 will be ignored. Current value: min_data_in_leaf=3600\n"
     ]
    },
    {
     "name": "stderr",
     "output_type": "stream",
     "text": [
      "\u001b[32m[I 2022-11-12 23:40:08,775]\u001b[0m Trial 24 finished with value: 0.3278767453057294 and parameters: {'n_estimators': 100, 'learning_rate': 0.24353086981782407, 'num_leaves': 2640, 'max_depth': -1, 'min_data_in_leaf': 3600}. Best is trial 0 with value: 0.3278767453057294.\u001b[0m\n",
      "C:\\Users\\raves\\AppData\\Roaming\\Python\\Python38\\site-packages\\optuna\\distributions.py:683: UserWarning: The distribution is specified by [-1, 500] and step=50, but the range is not divisible by `step`. It will be replaced by [-1, 499].\n",
      "  warnings.warn(\n",
      "C:\\Users\\raves\\anaconda3\\lib\\site-packages\\lightgbm\\sklearn.py:726: UserWarning: 'early_stopping_rounds' argument is deprecated and will be removed in a future release of LightGBM. Pass 'early_stopping()' callback via 'callbacks' argument instead.\n",
      "  _log_warning(\"'early_stopping_rounds' argument is deprecated and will be removed in a future release of LightGBM. \"\n",
      "C:\\Users\\raves\\anaconda3\\lib\\site-packages\\lightgbm\\sklearn.py:736: UserWarning: 'verbose' argument is deprecated and will be removed in a future release of LightGBM. Pass 'log_evaluation()' callback via 'callbacks' argument instead.\n",
      "  _log_warning(\"'verbose' argument is deprecated and will be removed in a future release of LightGBM. \"\n"
     ]
    },
    {
     "name": "stdout",
     "output_type": "stream",
     "text": [
      "[LightGBM] [Warning] min_data_in_leaf is set=1700, min_child_samples=20 will be ignored. Current value: min_data_in_leaf=1700\n"
     ]
    },
    {
     "name": "stderr",
     "output_type": "stream",
     "text": [
      "\u001b[32m[I 2022-11-12 23:40:10,956]\u001b[0m Trial 25 finished with value: 0.3278767453057294 and parameters: {'n_estimators': 200, 'learning_rate': 0.29946751289148543, 'num_leaves': 2620, 'max_depth': 99, 'min_data_in_leaf': 1700}. Best is trial 0 with value: 0.3278767453057294.\u001b[0m\n",
      "C:\\Users\\raves\\AppData\\Roaming\\Python\\Python38\\site-packages\\optuna\\distributions.py:683: UserWarning: The distribution is specified by [-1, 500] and step=50, but the range is not divisible by `step`. It will be replaced by [-1, 499].\n",
      "  warnings.warn(\n",
      "C:\\Users\\raves\\anaconda3\\lib\\site-packages\\lightgbm\\sklearn.py:726: UserWarning: 'early_stopping_rounds' argument is deprecated and will be removed in a future release of LightGBM. Pass 'early_stopping()' callback via 'callbacks' argument instead.\n",
      "  _log_warning(\"'early_stopping_rounds' argument is deprecated and will be removed in a future release of LightGBM. \"\n",
      "C:\\Users\\raves\\anaconda3\\lib\\site-packages\\lightgbm\\sklearn.py:736: UserWarning: 'verbose' argument is deprecated and will be removed in a future release of LightGBM. Pass 'log_evaluation()' callback via 'callbacks' argument instead.\n",
      "  _log_warning(\"'verbose' argument is deprecated and will be removed in a future release of LightGBM. \"\n"
     ]
    },
    {
     "name": "stdout",
     "output_type": "stream",
     "text": [
      "[LightGBM] [Warning] min_data_in_leaf is set=1700, min_child_samples=20 will be ignored. Current value: min_data_in_leaf=1700\n"
     ]
    },
    {
     "name": "stderr",
     "output_type": "stream",
     "text": [
      "\u001b[32m[I 2022-11-12 23:40:15,935]\u001b[0m Trial 26 finished with value: 0.3278767453057294 and parameters: {'n_estimators': 500, 'learning_rate': 0.02450952027506681, 'num_leaves': 2960, 'max_depth': 499, 'min_data_in_leaf': 1700}. Best is trial 0 with value: 0.3278767453057294.\u001b[0m\n",
      "C:\\Users\\raves\\AppData\\Roaming\\Python\\Python38\\site-packages\\optuna\\distributions.py:683: UserWarning: The distribution is specified by [-1, 500] and step=50, but the range is not divisible by `step`. It will be replaced by [-1, 499].\n",
      "  warnings.warn(\n",
      "C:\\Users\\raves\\anaconda3\\lib\\site-packages\\lightgbm\\sklearn.py:726: UserWarning: 'early_stopping_rounds' argument is deprecated and will be removed in a future release of LightGBM. Pass 'early_stopping()' callback via 'callbacks' argument instead.\n",
      "  _log_warning(\"'early_stopping_rounds' argument is deprecated and will be removed in a future release of LightGBM. \"\n",
      "C:\\Users\\raves\\anaconda3\\lib\\site-packages\\lightgbm\\sklearn.py:736: UserWarning: 'verbose' argument is deprecated and will be removed in a future release of LightGBM. Pass 'log_evaluation()' callback via 'callbacks' argument instead.\n",
      "  _log_warning(\"'verbose' argument is deprecated and will be removed in a future release of LightGBM. \"\n"
     ]
    },
    {
     "name": "stdout",
     "output_type": "stream",
     "text": [
      "[LightGBM] [Warning] min_data_in_leaf is set=3400, min_child_samples=20 will be ignored. Current value: min_data_in_leaf=3400\n"
     ]
    },
    {
     "name": "stderr",
     "output_type": "stream",
     "text": [
      "\u001b[32m[I 2022-11-12 23:40:17,721]\u001b[0m Trial 27 finished with value: 0.3278767453057294 and parameters: {'n_estimators': 400, 'learning_rate': 0.17845532692835492, 'num_leaves': 2700, 'max_depth': 449, 'min_data_in_leaf': 3400}. Best is trial 0 with value: 0.3278767453057294.\u001b[0m\n",
      "C:\\Users\\raves\\AppData\\Roaming\\Python\\Python38\\site-packages\\optuna\\distributions.py:683: UserWarning: The distribution is specified by [-1, 500] and step=50, but the range is not divisible by `step`. It will be replaced by [-1, 499].\n",
      "  warnings.warn(\n",
      "C:\\Users\\raves\\anaconda3\\lib\\site-packages\\lightgbm\\sklearn.py:726: UserWarning: 'early_stopping_rounds' argument is deprecated and will be removed in a future release of LightGBM. Pass 'early_stopping()' callback via 'callbacks' argument instead.\n",
      "  _log_warning(\"'early_stopping_rounds' argument is deprecated and will be removed in a future release of LightGBM. \"\n",
      "C:\\Users\\raves\\anaconda3\\lib\\site-packages\\lightgbm\\sklearn.py:736: UserWarning: 'verbose' argument is deprecated and will be removed in a future release of LightGBM. Pass 'log_evaluation()' callback via 'callbacks' argument instead.\n",
      "  _log_warning(\"'verbose' argument is deprecated and will be removed in a future release of LightGBM. \"\n"
     ]
    },
    {
     "name": "stdout",
     "output_type": "stream",
     "text": [
      "[LightGBM] [Warning] min_data_in_leaf is set=3900, min_child_samples=20 will be ignored. Current value: min_data_in_leaf=3900\n"
     ]
    },
    {
     "name": "stderr",
     "output_type": "stream",
     "text": [
      "\u001b[32m[I 2022-11-12 23:40:19,268]\u001b[0m Trial 28 finished with value: 0.3278767453057294 and parameters: {'n_estimators': 100, 'learning_rate': 0.2510670230431427, 'num_leaves': 2200, 'max_depth': 99, 'min_data_in_leaf': 3900}. Best is trial 0 with value: 0.3278767453057294.\u001b[0m\n",
      "C:\\Users\\raves\\AppData\\Roaming\\Python\\Python38\\site-packages\\optuna\\distributions.py:683: UserWarning: The distribution is specified by [-1, 500] and step=50, but the range is not divisible by `step`. It will be replaced by [-1, 499].\n",
      "  warnings.warn(\n",
      "C:\\Users\\raves\\anaconda3\\lib\\site-packages\\lightgbm\\sklearn.py:726: UserWarning: 'early_stopping_rounds' argument is deprecated and will be removed in a future release of LightGBM. Pass 'early_stopping()' callback via 'callbacks' argument instead.\n",
      "  _log_warning(\"'early_stopping_rounds' argument is deprecated and will be removed in a future release of LightGBM. \"\n",
      "C:\\Users\\raves\\anaconda3\\lib\\site-packages\\lightgbm\\sklearn.py:736: UserWarning: 'verbose' argument is deprecated and will be removed in a future release of LightGBM. Pass 'log_evaluation()' callback via 'callbacks' argument instead.\n",
      "  _log_warning(\"'verbose' argument is deprecated and will be removed in a future release of LightGBM. \"\n"
     ]
    },
    {
     "name": "stdout",
     "output_type": "stream",
     "text": [
      "[LightGBM] [Warning] min_data_in_leaf is set=2300, min_child_samples=20 will be ignored. Current value: min_data_in_leaf=2300\n"
     ]
    },
    {
     "name": "stderr",
     "output_type": "stream",
     "text": [
      "\u001b[32m[I 2022-11-12 23:40:21,968]\u001b[0m Trial 29 finished with value: 0.3278767453057294 and parameters: {'n_estimators': 500, 'learning_rate': 0.0695395643720847, 'num_leaves': 2680, 'max_depth': 349, 'min_data_in_leaf': 2300}. Best is trial 0 with value: 0.3278767453057294.\u001b[0m\n",
      "C:\\Users\\raves\\AppData\\Roaming\\Python\\Python38\\site-packages\\optuna\\distributions.py:683: UserWarning: The distribution is specified by [-1, 500] and step=50, but the range is not divisible by `step`. It will be replaced by [-1, 499].\n",
      "  warnings.warn(\n",
      "C:\\Users\\raves\\anaconda3\\lib\\site-packages\\lightgbm\\sklearn.py:726: UserWarning: 'early_stopping_rounds' argument is deprecated and will be removed in a future release of LightGBM. Pass 'early_stopping()' callback via 'callbacks' argument instead.\n",
      "  _log_warning(\"'early_stopping_rounds' argument is deprecated and will be removed in a future release of LightGBM. \"\n",
      "C:\\Users\\raves\\anaconda3\\lib\\site-packages\\lightgbm\\sklearn.py:736: UserWarning: 'verbose' argument is deprecated and will be removed in a future release of LightGBM. Pass 'log_evaluation()' callback via 'callbacks' argument instead.\n",
      "  _log_warning(\"'verbose' argument is deprecated and will be removed in a future release of LightGBM. \"\n"
     ]
    },
    {
     "name": "stdout",
     "output_type": "stream",
     "text": [
      "[LightGBM] [Warning] min_data_in_leaf is set=5300, min_child_samples=20 will be ignored. Current value: min_data_in_leaf=5300\n"
     ]
    },
    {
     "name": "stderr",
     "output_type": "stream",
     "text": [
      "\u001b[32m[I 2022-11-12 23:40:24,040]\u001b[0m Trial 30 finished with value: 0.3278767453057294 and parameters: {'n_estimators': 500, 'learning_rate': 0.16735993317683215, 'num_leaves': 1760, 'max_depth': 449, 'min_data_in_leaf': 5300}. Best is trial 0 with value: 0.3278767453057294.\u001b[0m\n",
      "C:\\Users\\raves\\AppData\\Roaming\\Python\\Python38\\site-packages\\optuna\\distributions.py:683: UserWarning: The distribution is specified by [-1, 500] and step=50, but the range is not divisible by `step`. It will be replaced by [-1, 499].\n",
      "  warnings.warn(\n",
      "C:\\Users\\raves\\anaconda3\\lib\\site-packages\\lightgbm\\sklearn.py:726: UserWarning: 'early_stopping_rounds' argument is deprecated and will be removed in a future release of LightGBM. Pass 'early_stopping()' callback via 'callbacks' argument instead.\n",
      "  _log_warning(\"'early_stopping_rounds' argument is deprecated and will be removed in a future release of LightGBM. \"\n",
      "C:\\Users\\raves\\anaconda3\\lib\\site-packages\\lightgbm\\sklearn.py:736: UserWarning: 'verbose' argument is deprecated and will be removed in a future release of LightGBM. Pass 'log_evaluation()' callback via 'callbacks' argument instead.\n",
      "  _log_warning(\"'verbose' argument is deprecated and will be removed in a future release of LightGBM. \"\n"
     ]
    },
    {
     "name": "stdout",
     "output_type": "stream",
     "text": [
      "[LightGBM] [Warning] min_data_in_leaf is set=3500, min_child_samples=20 will be ignored. Current value: min_data_in_leaf=3500\n"
     ]
    },
    {
     "name": "stderr",
     "output_type": "stream",
     "text": [
      "\u001b[32m[I 2022-11-12 23:40:28,363]\u001b[0m Trial 31 finished with value: 0.3278767453057294 and parameters: {'n_estimators': 500, 'learning_rate': 0.030740611916467833, 'num_leaves': 2180, 'max_depth': 499, 'min_data_in_leaf': 3500}. Best is trial 0 with value: 0.3278767453057294.\u001b[0m\n",
      "C:\\Users\\raves\\AppData\\Roaming\\Python\\Python38\\site-packages\\optuna\\distributions.py:683: UserWarning: The distribution is specified by [-1, 500] and step=50, but the range is not divisible by `step`. It will be replaced by [-1, 499].\n",
      "  warnings.warn(\n",
      "C:\\Users\\raves\\anaconda3\\lib\\site-packages\\lightgbm\\sklearn.py:726: UserWarning: 'early_stopping_rounds' argument is deprecated and will be removed in a future release of LightGBM. Pass 'early_stopping()' callback via 'callbacks' argument instead.\n",
      "  _log_warning(\"'early_stopping_rounds' argument is deprecated and will be removed in a future release of LightGBM. \"\n",
      "C:\\Users\\raves\\anaconda3\\lib\\site-packages\\lightgbm\\sklearn.py:736: UserWarning: 'verbose' argument is deprecated and will be removed in a future release of LightGBM. Pass 'log_evaluation()' callback via 'callbacks' argument instead.\n",
      "  _log_warning(\"'verbose' argument is deprecated and will be removed in a future release of LightGBM. \"\n"
     ]
    },
    {
     "name": "stdout",
     "output_type": "stream",
     "text": [
      "[LightGBM] [Warning] min_data_in_leaf is set=4900, min_child_samples=20 will be ignored. Current value: min_data_in_leaf=4900\n"
     ]
    },
    {
     "name": "stderr",
     "output_type": "stream",
     "text": [
      "\u001b[32m[I 2022-11-12 23:40:31,028]\u001b[0m Trial 32 finished with value: 0.3278767453057294 and parameters: {'n_estimators': 400, 'learning_rate': 0.05537880615107756, 'num_leaves': 2680, 'max_depth': 349, 'min_data_in_leaf': 4900}. Best is trial 0 with value: 0.3278767453057294.\u001b[0m\n",
      "C:\\Users\\raves\\AppData\\Roaming\\Python\\Python38\\site-packages\\optuna\\distributions.py:683: UserWarning: The distribution is specified by [-1, 500] and step=50, but the range is not divisible by `step`. It will be replaced by [-1, 499].\n",
      "  warnings.warn(\n",
      "C:\\Users\\raves\\anaconda3\\lib\\site-packages\\lightgbm\\sklearn.py:726: UserWarning: 'early_stopping_rounds' argument is deprecated and will be removed in a future release of LightGBM. Pass 'early_stopping()' callback via 'callbacks' argument instead.\n",
      "  _log_warning(\"'early_stopping_rounds' argument is deprecated and will be removed in a future release of LightGBM. \"\n",
      "C:\\Users\\raves\\anaconda3\\lib\\site-packages\\lightgbm\\sklearn.py:736: UserWarning: 'verbose' argument is deprecated and will be removed in a future release of LightGBM. Pass 'log_evaluation()' callback via 'callbacks' argument instead.\n",
      "  _log_warning(\"'verbose' argument is deprecated and will be removed in a future release of LightGBM. \"\n"
     ]
    },
    {
     "name": "stdout",
     "output_type": "stream",
     "text": [
      "[LightGBM] [Warning] min_data_in_leaf is set=5400, min_child_samples=20 will be ignored. Current value: min_data_in_leaf=5400\n"
     ]
    },
    {
     "name": "stderr",
     "output_type": "stream",
     "text": [
      "\u001b[32m[I 2022-11-12 23:40:33,672]\u001b[0m Trial 33 finished with value: 0.3278767453057294 and parameters: {'n_estimators': 500, 'learning_rate': 0.06104834712636594, 'num_leaves': 1780, 'max_depth': 399, 'min_data_in_leaf': 5400}. Best is trial 0 with value: 0.3278767453057294.\u001b[0m\n",
      "C:\\Users\\raves\\AppData\\Roaming\\Python\\Python38\\site-packages\\optuna\\distributions.py:683: UserWarning: The distribution is specified by [-1, 500] and step=50, but the range is not divisible by `step`. It will be replaced by [-1, 499].\n",
      "  warnings.warn(\n",
      "C:\\Users\\raves\\anaconda3\\lib\\site-packages\\lightgbm\\sklearn.py:726: UserWarning: 'early_stopping_rounds' argument is deprecated and will be removed in a future release of LightGBM. Pass 'early_stopping()' callback via 'callbacks' argument instead.\n",
      "  _log_warning(\"'early_stopping_rounds' argument is deprecated and will be removed in a future release of LightGBM. \"\n",
      "C:\\Users\\raves\\anaconda3\\lib\\site-packages\\lightgbm\\sklearn.py:736: UserWarning: 'verbose' argument is deprecated and will be removed in a future release of LightGBM. Pass 'log_evaluation()' callback via 'callbacks' argument instead.\n",
      "  _log_warning(\"'verbose' argument is deprecated and will be removed in a future release of LightGBM. \"\n"
     ]
    },
    {
     "name": "stdout",
     "output_type": "stream",
     "text": [
      "[LightGBM] [Warning] min_data_in_leaf is set=2300, min_child_samples=20 will be ignored. Current value: min_data_in_leaf=2300\n"
     ]
    },
    {
     "name": "stderr",
     "output_type": "stream",
     "text": [
      "\u001b[32m[I 2022-11-12 23:40:36,342]\u001b[0m Trial 34 finished with value: 0.3278767453057294 and parameters: {'n_estimators': 500, 'learning_rate': 0.08074770498624634, 'num_leaves': 1880, 'max_depth': 449, 'min_data_in_leaf': 2300}. Best is trial 0 with value: 0.3278767453057294.\u001b[0m\n",
      "C:\\Users\\raves\\AppData\\Roaming\\Python\\Python38\\site-packages\\optuna\\distributions.py:683: UserWarning: The distribution is specified by [-1, 500] and step=50, but the range is not divisible by `step`. It will be replaced by [-1, 499].\n",
      "  warnings.warn(\n",
      "C:\\Users\\raves\\anaconda3\\lib\\site-packages\\lightgbm\\sklearn.py:726: UserWarning: 'early_stopping_rounds' argument is deprecated and will be removed in a future release of LightGBM. Pass 'early_stopping()' callback via 'callbacks' argument instead.\n",
      "  _log_warning(\"'early_stopping_rounds' argument is deprecated and will be removed in a future release of LightGBM. \"\n",
      "C:\\Users\\raves\\anaconda3\\lib\\site-packages\\lightgbm\\sklearn.py:736: UserWarning: 'verbose' argument is deprecated and will be removed in a future release of LightGBM. Pass 'log_evaluation()' callback via 'callbacks' argument instead.\n",
      "  _log_warning(\"'verbose' argument is deprecated and will be removed in a future release of LightGBM. \"\n"
     ]
    },
    {
     "name": "stdout",
     "output_type": "stream",
     "text": [
      "[LightGBM] [Warning] min_data_in_leaf is set=8700, min_child_samples=20 will be ignored. Current value: min_data_in_leaf=8700\n"
     ]
    },
    {
     "name": "stderr",
     "output_type": "stream",
     "text": [
      "\u001b[32m[I 2022-11-12 23:40:37,696]\u001b[0m Trial 35 finished with value: 0.3278767453057294 and parameters: {'n_estimators': 100, 'learning_rate': 0.11836383754964927, 'num_leaves': 1080, 'max_depth': 249, 'min_data_in_leaf': 8700}. Best is trial 0 with value: 0.3278767453057294.\u001b[0m\n",
      "C:\\Users\\raves\\AppData\\Roaming\\Python\\Python38\\site-packages\\optuna\\distributions.py:683: UserWarning: The distribution is specified by [-1, 500] and step=50, but the range is not divisible by `step`. It will be replaced by [-1, 499].\n",
      "  warnings.warn(\n",
      "C:\\Users\\raves\\anaconda3\\lib\\site-packages\\lightgbm\\sklearn.py:726: UserWarning: 'early_stopping_rounds' argument is deprecated and will be removed in a future release of LightGBM. Pass 'early_stopping()' callback via 'callbacks' argument instead.\n",
      "  _log_warning(\"'early_stopping_rounds' argument is deprecated and will be removed in a future release of LightGBM. \"\n",
      "C:\\Users\\raves\\anaconda3\\lib\\site-packages\\lightgbm\\sklearn.py:736: UserWarning: 'verbose' argument is deprecated and will be removed in a future release of LightGBM. Pass 'log_evaluation()' callback via 'callbacks' argument instead.\n",
      "  _log_warning(\"'verbose' argument is deprecated and will be removed in a future release of LightGBM. \"\n"
     ]
    },
    {
     "name": "stdout",
     "output_type": "stream",
     "text": [
      "[LightGBM] [Warning] min_data_in_leaf is set=7500, min_child_samples=20 will be ignored. Current value: min_data_in_leaf=7500\n"
     ]
    },
    {
     "name": "stderr",
     "output_type": "stream",
     "text": [
      "\u001b[32m[I 2022-11-12 23:40:38,966]\u001b[0m Trial 36 finished with value: 0.3278767453057294 and parameters: {'n_estimators': 100, 'learning_rate': 0.19868507521636278, 'num_leaves': 440, 'max_depth': 49, 'min_data_in_leaf': 7500}. Best is trial 0 with value: 0.3278767453057294.\u001b[0m\n",
      "C:\\Users\\raves\\AppData\\Roaming\\Python\\Python38\\site-packages\\optuna\\distributions.py:683: UserWarning: The distribution is specified by [-1, 500] and step=50, but the range is not divisible by `step`. It will be replaced by [-1, 499].\n",
      "  warnings.warn(\n",
      "C:\\Users\\raves\\anaconda3\\lib\\site-packages\\lightgbm\\sklearn.py:726: UserWarning: 'early_stopping_rounds' argument is deprecated and will be removed in a future release of LightGBM. Pass 'early_stopping()' callback via 'callbacks' argument instead.\n",
      "  _log_warning(\"'early_stopping_rounds' argument is deprecated and will be removed in a future release of LightGBM. \"\n",
      "C:\\Users\\raves\\anaconda3\\lib\\site-packages\\lightgbm\\sklearn.py:736: UserWarning: 'verbose' argument is deprecated and will be removed in a future release of LightGBM. Pass 'log_evaluation()' callback via 'callbacks' argument instead.\n",
      "  _log_warning(\"'verbose' argument is deprecated and will be removed in a future release of LightGBM. \"\n"
     ]
    },
    {
     "name": "stdout",
     "output_type": "stream",
     "text": [
      "[LightGBM] [Warning] min_data_in_leaf is set=9500, min_child_samples=20 will be ignored. Current value: min_data_in_leaf=9500\n"
     ]
    },
    {
     "name": "stderr",
     "output_type": "stream",
     "text": [
      "\u001b[32m[I 2022-11-12 23:40:40,973]\u001b[0m Trial 37 finished with value: 0.3278767453057294 and parameters: {'n_estimators': 200, 'learning_rate': 0.2293260645625298, 'num_leaves': 2480, 'max_depth': -1, 'min_data_in_leaf': 9500}. Best is trial 0 with value: 0.3278767453057294.\u001b[0m\n",
      "C:\\Users\\raves\\AppData\\Roaming\\Python\\Python38\\site-packages\\optuna\\distributions.py:683: UserWarning: The distribution is specified by [-1, 500] and step=50, but the range is not divisible by `step`. It will be replaced by [-1, 499].\n",
      "  warnings.warn(\n",
      "C:\\Users\\raves\\anaconda3\\lib\\site-packages\\lightgbm\\sklearn.py:726: UserWarning: 'early_stopping_rounds' argument is deprecated and will be removed in a future release of LightGBM. Pass 'early_stopping()' callback via 'callbacks' argument instead.\n",
      "  _log_warning(\"'early_stopping_rounds' argument is deprecated and will be removed in a future release of LightGBM. \"\n",
      "C:\\Users\\raves\\anaconda3\\lib\\site-packages\\lightgbm\\sklearn.py:736: UserWarning: 'verbose' argument is deprecated and will be removed in a future release of LightGBM. Pass 'log_evaluation()' callback via 'callbacks' argument instead.\n",
      "  _log_warning(\"'verbose' argument is deprecated and will be removed in a future release of LightGBM. \"\n"
     ]
    },
    {
     "name": "stdout",
     "output_type": "stream",
     "text": [
      "[LightGBM] [Warning] min_data_in_leaf is set=8200, min_child_samples=20 will be ignored. Current value: min_data_in_leaf=8200\n"
     ]
    },
    {
     "name": "stderr",
     "output_type": "stream",
     "text": [
      "\u001b[32m[I 2022-11-12 23:40:42,768]\u001b[0m Trial 38 finished with value: 0.3278767453057294 and parameters: {'n_estimators': 300, 'learning_rate': 0.18313053689296444, 'num_leaves': 3000, 'max_depth': 49, 'min_data_in_leaf': 8200}. Best is trial 0 with value: 0.3278767453057294.\u001b[0m\n",
      "C:\\Users\\raves\\AppData\\Roaming\\Python\\Python38\\site-packages\\optuna\\distributions.py:683: UserWarning: The distribution is specified by [-1, 500] and step=50, but the range is not divisible by `step`. It will be replaced by [-1, 499].\n",
      "  warnings.warn(\n",
      "C:\\Users\\raves\\anaconda3\\lib\\site-packages\\lightgbm\\sklearn.py:726: UserWarning: 'early_stopping_rounds' argument is deprecated and will be removed in a future release of LightGBM. Pass 'early_stopping()' callback via 'callbacks' argument instead.\n",
      "  _log_warning(\"'early_stopping_rounds' argument is deprecated and will be removed in a future release of LightGBM. \"\n",
      "C:\\Users\\raves\\anaconda3\\lib\\site-packages\\lightgbm\\sklearn.py:736: UserWarning: 'verbose' argument is deprecated and will be removed in a future release of LightGBM. Pass 'log_evaluation()' callback via 'callbacks' argument instead.\n",
      "  _log_warning(\"'verbose' argument is deprecated and will be removed in a future release of LightGBM. \"\n"
     ]
    },
    {
     "name": "stdout",
     "output_type": "stream",
     "text": [
      "[LightGBM] [Warning] min_data_in_leaf is set=1300, min_child_samples=20 will be ignored. Current value: min_data_in_leaf=1300\n"
     ]
    },
    {
     "name": "stderr",
     "output_type": "stream",
     "text": [
      "\u001b[32m[I 2022-11-12 23:40:45,917]\u001b[0m Trial 39 finished with value: 0.3278767453057294 and parameters: {'n_estimators': 300, 'learning_rate': 0.09914436012075976, 'num_leaves': 2840, 'max_depth': -1, 'min_data_in_leaf': 1300}. Best is trial 0 with value: 0.3278767453057294.\u001b[0m\n",
      "C:\\Users\\raves\\AppData\\Roaming\\Python\\Python38\\site-packages\\optuna\\distributions.py:683: UserWarning: The distribution is specified by [-1, 500] and step=50, but the range is not divisible by `step`. It will be replaced by [-1, 499].\n",
      "  warnings.warn(\n",
      "C:\\Users\\raves\\anaconda3\\lib\\site-packages\\lightgbm\\sklearn.py:726: UserWarning: 'early_stopping_rounds' argument is deprecated and will be removed in a future release of LightGBM. Pass 'early_stopping()' callback via 'callbacks' argument instead.\n",
      "  _log_warning(\"'early_stopping_rounds' argument is deprecated and will be removed in a future release of LightGBM. \"\n",
      "C:\\Users\\raves\\anaconda3\\lib\\site-packages\\lightgbm\\sklearn.py:736: UserWarning: 'verbose' argument is deprecated and will be removed in a future release of LightGBM. Pass 'log_evaluation()' callback via 'callbacks' argument instead.\n",
      "  _log_warning(\"'verbose' argument is deprecated and will be removed in a future release of LightGBM. \"\n"
     ]
    },
    {
     "name": "stdout",
     "output_type": "stream",
     "text": [
      "[LightGBM] [Warning] min_data_in_leaf is set=1800, min_child_samples=20 will be ignored. Current value: min_data_in_leaf=1800\n"
     ]
    },
    {
     "name": "stderr",
     "output_type": "stream",
     "text": [
      "\u001b[32m[I 2022-11-12 23:40:49,503]\u001b[0m Trial 40 finished with value: 0.3278767453057294 and parameters: {'n_estimators': 300, 'learning_rate': 0.04630730463876534, 'num_leaves': 2840, 'max_depth': 49, 'min_data_in_leaf': 1800}. Best is trial 0 with value: 0.3278767453057294.\u001b[0m\n",
      "C:\\Users\\raves\\AppData\\Roaming\\Python\\Python38\\site-packages\\optuna\\distributions.py:683: UserWarning: The distribution is specified by [-1, 500] and step=50, but the range is not divisible by `step`. It will be replaced by [-1, 499].\n",
      "  warnings.warn(\n",
      "C:\\Users\\raves\\anaconda3\\lib\\site-packages\\lightgbm\\sklearn.py:726: UserWarning: 'early_stopping_rounds' argument is deprecated and will be removed in a future release of LightGBM. Pass 'early_stopping()' callback via 'callbacks' argument instead.\n",
      "  _log_warning(\"'early_stopping_rounds' argument is deprecated and will be removed in a future release of LightGBM. \"\n",
      "C:\\Users\\raves\\anaconda3\\lib\\site-packages\\lightgbm\\sklearn.py:736: UserWarning: 'verbose' argument is deprecated and will be removed in a future release of LightGBM. Pass 'log_evaluation()' callback via 'callbacks' argument instead.\n",
      "  _log_warning(\"'verbose' argument is deprecated and will be removed in a future release of LightGBM. \"\n"
     ]
    },
    {
     "name": "stdout",
     "output_type": "stream",
     "text": [
      "[LightGBM] [Warning] min_data_in_leaf is set=1900, min_child_samples=20 will be ignored. Current value: min_data_in_leaf=1900\n"
     ]
    },
    {
     "name": "stderr",
     "output_type": "stream",
     "text": [
      "\u001b[32m[I 2022-11-12 23:40:51,629]\u001b[0m Trial 41 finished with value: 0.3278767453057294 and parameters: {'n_estimators': 200, 'learning_rate': 0.25844306680240287, 'num_leaves': 2640, 'max_depth': 99, 'min_data_in_leaf': 1900}. Best is trial 0 with value: 0.3278767453057294.\u001b[0m\n",
      "C:\\Users\\raves\\AppData\\Roaming\\Python\\Python38\\site-packages\\optuna\\distributions.py:683: UserWarning: The distribution is specified by [-1, 500] and step=50, but the range is not divisible by `step`. It will be replaced by [-1, 499].\n",
      "  warnings.warn(\n",
      "C:\\Users\\raves\\anaconda3\\lib\\site-packages\\lightgbm\\sklearn.py:726: UserWarning: 'early_stopping_rounds' argument is deprecated and will be removed in a future release of LightGBM. Pass 'early_stopping()' callback via 'callbacks' argument instead.\n",
      "  _log_warning(\"'early_stopping_rounds' argument is deprecated and will be removed in a future release of LightGBM. \"\n",
      "C:\\Users\\raves\\anaconda3\\lib\\site-packages\\lightgbm\\sklearn.py:736: UserWarning: 'verbose' argument is deprecated and will be removed in a future release of LightGBM. Pass 'log_evaluation()' callback via 'callbacks' argument instead.\n",
      "  _log_warning(\"'verbose' argument is deprecated and will be removed in a future release of LightGBM. \"\n"
     ]
    },
    {
     "name": "stdout",
     "output_type": "stream",
     "text": [
      "[LightGBM] [Warning] min_data_in_leaf is set=1800, min_child_samples=20 will be ignored. Current value: min_data_in_leaf=1800\n"
     ]
    },
    {
     "name": "stderr",
     "output_type": "stream",
     "text": [
      "\u001b[32m[I 2022-11-12 23:40:53,646]\u001b[0m Trial 42 finished with value: 0.3278767453057294 and parameters: {'n_estimators': 400, 'learning_rate': 0.29898111197693905, 'num_leaves': 2580, 'max_depth': 499, 'min_data_in_leaf': 1800}. Best is trial 0 with value: 0.3278767453057294.\u001b[0m\n",
      "C:\\Users\\raves\\AppData\\Roaming\\Python\\Python38\\site-packages\\optuna\\distributions.py:683: UserWarning: The distribution is specified by [-1, 500] and step=50, but the range is not divisible by `step`. It will be replaced by [-1, 499].\n",
      "  warnings.warn(\n",
      "C:\\Users\\raves\\anaconda3\\lib\\site-packages\\lightgbm\\sklearn.py:726: UserWarning: 'early_stopping_rounds' argument is deprecated and will be removed in a future release of LightGBM. Pass 'early_stopping()' callback via 'callbacks' argument instead.\n",
      "  _log_warning(\"'early_stopping_rounds' argument is deprecated and will be removed in a future release of LightGBM. \"\n",
      "C:\\Users\\raves\\anaconda3\\lib\\site-packages\\lightgbm\\sklearn.py:736: UserWarning: 'verbose' argument is deprecated and will be removed in a future release of LightGBM. Pass 'log_evaluation()' callback via 'callbacks' argument instead.\n",
      "  _log_warning(\"'verbose' argument is deprecated and will be removed in a future release of LightGBM. \"\n"
     ]
    },
    {
     "name": "stdout",
     "output_type": "stream",
     "text": [
      "[LightGBM] [Warning] min_data_in_leaf is set=700, min_child_samples=20 will be ignored. Current value: min_data_in_leaf=700\n"
     ]
    },
    {
     "name": "stderr",
     "output_type": "stream",
     "text": [
      "\u001b[32m[I 2022-11-12 23:40:56,381]\u001b[0m Trial 43 finished with value: 0.3278767453057294 and parameters: {'n_estimators': 400, 'learning_rate': 0.28522245701565785, 'num_leaves': 2860, 'max_depth': 499, 'min_data_in_leaf': 700}. Best is trial 0 with value: 0.3278767453057294.\u001b[0m\n",
      "C:\\Users\\raves\\AppData\\Roaming\\Python\\Python38\\site-packages\\optuna\\distributions.py:683: UserWarning: The distribution is specified by [-1, 500] and step=50, but the range is not divisible by `step`. It will be replaced by [-1, 499].\n",
      "  warnings.warn(\n",
      "C:\\Users\\raves\\anaconda3\\lib\\site-packages\\lightgbm\\sklearn.py:726: UserWarning: 'early_stopping_rounds' argument is deprecated and will be removed in a future release of LightGBM. Pass 'early_stopping()' callback via 'callbacks' argument instead.\n",
      "  _log_warning(\"'early_stopping_rounds' argument is deprecated and will be removed in a future release of LightGBM. \"\n",
      "C:\\Users\\raves\\anaconda3\\lib\\site-packages\\lightgbm\\sklearn.py:736: UserWarning: 'verbose' argument is deprecated and will be removed in a future release of LightGBM. Pass 'log_evaluation()' callback via 'callbacks' argument instead.\n",
      "  _log_warning(\"'verbose' argument is deprecated and will be removed in a future release of LightGBM. \"\n"
     ]
    },
    {
     "name": "stdout",
     "output_type": "stream",
     "text": [
      "[LightGBM] [Warning] min_data_in_leaf is set=2900, min_child_samples=20 will be ignored. Current value: min_data_in_leaf=2900\n"
     ]
    },
    {
     "name": "stderr",
     "output_type": "stream",
     "text": [
      "\u001b[32m[I 2022-11-12 23:40:58,031]\u001b[0m Trial 44 finished with value: 0.3278767453057294 and parameters: {'n_estimators': 100, 'learning_rate': 0.29664865047531214, 'num_leaves': 2220, 'max_depth': 449, 'min_data_in_leaf': 2900}. Best is trial 0 with value: 0.3278767453057294.\u001b[0m\n",
      "C:\\Users\\raves\\AppData\\Roaming\\Python\\Python38\\site-packages\\optuna\\distributions.py:683: UserWarning: The distribution is specified by [-1, 500] and step=50, but the range is not divisible by `step`. It will be replaced by [-1, 499].\n",
      "  warnings.warn(\n",
      "C:\\Users\\raves\\anaconda3\\lib\\site-packages\\lightgbm\\sklearn.py:726: UserWarning: 'early_stopping_rounds' argument is deprecated and will be removed in a future release of LightGBM. Pass 'early_stopping()' callback via 'callbacks' argument instead.\n",
      "  _log_warning(\"'early_stopping_rounds' argument is deprecated and will be removed in a future release of LightGBM. \"\n",
      "C:\\Users\\raves\\anaconda3\\lib\\site-packages\\lightgbm\\sklearn.py:736: UserWarning: 'verbose' argument is deprecated and will be removed in a future release of LightGBM. Pass 'log_evaluation()' callback via 'callbacks' argument instead.\n",
      "  _log_warning(\"'verbose' argument is deprecated and will be removed in a future release of LightGBM. \"\n"
     ]
    },
    {
     "name": "stdout",
     "output_type": "stream",
     "text": [
      "[LightGBM] [Warning] min_data_in_leaf is set=3300, min_child_samples=20 will be ignored. Current value: min_data_in_leaf=3300\n"
     ]
    },
    {
     "name": "stderr",
     "output_type": "stream",
     "text": [
      "\u001b[32m[I 2022-11-12 23:41:00,150]\u001b[0m Trial 45 finished with value: 0.3278767453057294 and parameters: {'n_estimators': 400, 'learning_rate': 0.23326809995502723, 'num_leaves': 2740, 'max_depth': 149, 'min_data_in_leaf': 3300}. Best is trial 0 with value: 0.3278767453057294.\u001b[0m\n",
      "C:\\Users\\raves\\AppData\\Roaming\\Python\\Python38\\site-packages\\optuna\\distributions.py:683: UserWarning: The distribution is specified by [-1, 500] and step=50, but the range is not divisible by `step`. It will be replaced by [-1, 499].\n",
      "  warnings.warn(\n",
      "C:\\Users\\raves\\anaconda3\\lib\\site-packages\\lightgbm\\sklearn.py:726: UserWarning: 'early_stopping_rounds' argument is deprecated and will be removed in a future release of LightGBM. Pass 'early_stopping()' callback via 'callbacks' argument instead.\n",
      "  _log_warning(\"'early_stopping_rounds' argument is deprecated and will be removed in a future release of LightGBM. \"\n",
      "C:\\Users\\raves\\anaconda3\\lib\\site-packages\\lightgbm\\sklearn.py:736: UserWarning: 'verbose' argument is deprecated and will be removed in a future release of LightGBM. Pass 'log_evaluation()' callback via 'callbacks' argument instead.\n",
      "  _log_warning(\"'verbose' argument is deprecated and will be removed in a future release of LightGBM. \"\n"
     ]
    },
    {
     "name": "stdout",
     "output_type": "stream",
     "text": [
      "[LightGBM] [Warning] min_data_in_leaf is set=3900, min_child_samples=20 will be ignored. Current value: min_data_in_leaf=3900\n"
     ]
    },
    {
     "name": "stderr",
     "output_type": "stream",
     "text": [
      "\u001b[32m[I 2022-11-12 23:41:01,864]\u001b[0m Trial 46 finished with value: 0.3278767453057294 and parameters: {'n_estimators': 200, 'learning_rate': 0.25376645684508686, 'num_leaves': 2020, 'max_depth': 149, 'min_data_in_leaf': 3900}. Best is trial 0 with value: 0.3278767453057294.\u001b[0m\n",
      "C:\\Users\\raves\\AppData\\Roaming\\Python\\Python38\\site-packages\\optuna\\distributions.py:683: UserWarning: The distribution is specified by [-1, 500] and step=50, but the range is not divisible by `step`. It will be replaced by [-1, 499].\n",
      "  warnings.warn(\n",
      "C:\\Users\\raves\\anaconda3\\lib\\site-packages\\lightgbm\\sklearn.py:726: UserWarning: 'early_stopping_rounds' argument is deprecated and will be removed in a future release of LightGBM. Pass 'early_stopping()' callback via 'callbacks' argument instead.\n",
      "  _log_warning(\"'early_stopping_rounds' argument is deprecated and will be removed in a future release of LightGBM. \"\n",
      "C:\\Users\\raves\\anaconda3\\lib\\site-packages\\lightgbm\\sklearn.py:736: UserWarning: 'verbose' argument is deprecated and will be removed in a future release of LightGBM. Pass 'log_evaluation()' callback via 'callbacks' argument instead.\n",
      "  _log_warning(\"'verbose' argument is deprecated and will be removed in a future release of LightGBM. \"\n"
     ]
    },
    {
     "name": "stdout",
     "output_type": "stream",
     "text": [
      "[LightGBM] [Warning] min_data_in_leaf is set=5900, min_child_samples=20 will be ignored. Current value: min_data_in_leaf=5900\n"
     ]
    },
    {
     "name": "stderr",
     "output_type": "stream",
     "text": [
      "\u001b[32m[I 2022-11-12 23:41:03,288]\u001b[0m Trial 47 finished with value: 0.3278767453057294 and parameters: {'n_estimators': 100, 'learning_rate': 0.17081100546034642, 'num_leaves': 2200, 'max_depth': 99, 'min_data_in_leaf': 5900}. Best is trial 0 with value: 0.3278767453057294.\u001b[0m\n",
      "C:\\Users\\raves\\AppData\\Roaming\\Python\\Python38\\site-packages\\optuna\\distributions.py:683: UserWarning: The distribution is specified by [-1, 500] and step=50, but the range is not divisible by `step`. It will be replaced by [-1, 499].\n",
      "  warnings.warn(\n",
      "C:\\Users\\raves\\anaconda3\\lib\\site-packages\\lightgbm\\sklearn.py:726: UserWarning: 'early_stopping_rounds' argument is deprecated and will be removed in a future release of LightGBM. Pass 'early_stopping()' callback via 'callbacks' argument instead.\n",
      "  _log_warning(\"'early_stopping_rounds' argument is deprecated and will be removed in a future release of LightGBM. \"\n",
      "C:\\Users\\raves\\anaconda3\\lib\\site-packages\\lightgbm\\sklearn.py:736: UserWarning: 'verbose' argument is deprecated and will be removed in a future release of LightGBM. Pass 'log_evaluation()' callback via 'callbacks' argument instead.\n",
      "  _log_warning(\"'verbose' argument is deprecated and will be removed in a future release of LightGBM. \"\n"
     ]
    },
    {
     "name": "stdout",
     "output_type": "stream",
     "text": [
      "[LightGBM] [Warning] min_data_in_leaf is set=2500, min_child_samples=20 will be ignored. Current value: min_data_in_leaf=2500\n"
     ]
    },
    {
     "name": "stderr",
     "output_type": "stream",
     "text": [
      "\u001b[32m[I 2022-11-12 23:41:06,283]\u001b[0m Trial 48 finished with value: 0.3278767453057294 and parameters: {'n_estimators': 500, 'learning_rate': 0.07471823408585171, 'num_leaves': 2300, 'max_depth': 399, 'min_data_in_leaf': 2500}. Best is trial 0 with value: 0.3278767453057294.\u001b[0m\n",
      "C:\\Users\\raves\\AppData\\Roaming\\Python\\Python38\\site-packages\\optuna\\distributions.py:683: UserWarning: The distribution is specified by [-1, 500] and step=50, but the range is not divisible by `step`. It will be replaced by [-1, 499].\n",
      "  warnings.warn(\n",
      "C:\\Users\\raves\\anaconda3\\lib\\site-packages\\lightgbm\\sklearn.py:726: UserWarning: 'early_stopping_rounds' argument is deprecated and will be removed in a future release of LightGBM. Pass 'early_stopping()' callback via 'callbacks' argument instead.\n",
      "  _log_warning(\"'early_stopping_rounds' argument is deprecated and will be removed in a future release of LightGBM. \"\n",
      "C:\\Users\\raves\\anaconda3\\lib\\site-packages\\lightgbm\\sklearn.py:736: UserWarning: 'verbose' argument is deprecated and will be removed in a future release of LightGBM. Pass 'log_evaluation()' callback via 'callbacks' argument instead.\n",
      "  _log_warning(\"'verbose' argument is deprecated and will be removed in a future release of LightGBM. \"\n"
     ]
    },
    {
     "name": "stdout",
     "output_type": "stream",
     "text": [
      "[LightGBM] [Warning] min_data_in_leaf is set=4500, min_child_samples=20 will be ignored. Current value: min_data_in_leaf=4500\n"
     ]
    },
    {
     "name": "stderr",
     "output_type": "stream",
     "text": [
      "\u001b[32m[I 2022-11-12 23:41:08,161]\u001b[0m Trial 49 finished with value: 0.3278767453057294 and parameters: {'n_estimators': 500, 'learning_rate': 0.14235886242886547, 'num_leaves': 2760, 'max_depth': 349, 'min_data_in_leaf': 4500}. Best is trial 0 with value: 0.3278767453057294.\u001b[0m\n"
     ]
    }
   ],
   "source": [
    "study = optuna.create_study(direction=\"maximize\", study_name=\"LGBM Ranker\")\n",
    "func = lambda trial: objective(trial)\n",
    "study.optimize(func, n_trials=50)"
   ]
  },
  {
   "cell_type": "code",
   "execution_count": 81,
   "id": "ea16ba22-f9d7-4de5-9876-ddfefaea64ad",
   "metadata": {},
   "outputs": [
    {
     "name": "stdout",
     "output_type": "stream",
     "text": [
      "Number of finished trials: 50\n",
      "Best Correlation 0.3278767453057294\n",
      "Best trial: {'n_estimators': 100, 'learning_rate': 0.1476366795580806, 'num_leaves': 3000, 'max_depth': 499, 'min_data_in_leaf': 9900}\n"
     ]
    }
   ],
   "source": [
    "print('Number of finished trials:', len(study.trials))\n",
    "print('Best Correlation', study.best_value)\n",
    "print('Best trial:', study.best_trial.params)"
   ]
  },
  {
   "cell_type": "code",
   "execution_count": 74,
   "id": "9e0b3dc6-4040-4da4-b0bb-f0a2368a26b7",
   "metadata": {
    "collapsed": true,
    "jupyter": {
     "outputs_hidden": true
    },
    "tags": []
   },
   "outputs": [
    {
     "ename": "ValueError",
     "evalue": "No trials are completed yet.",
     "output_type": "error",
     "traceback": [
      "\u001b[1;31m---------------------------------------------------------------------------\u001b[0m",
      "\u001b[1;31mValueError\u001b[0m                                Traceback (most recent call last)",
      "\u001b[1;32m<ipython-input-74-7b16d86d0a93>\u001b[0m in \u001b[0;36m<module>\u001b[1;34m\u001b[0m\n\u001b[0;32m      3\u001b[0m                     \u001b[0mimportance_type\u001b[0m \u001b[1;33m=\u001b[0m \u001b[1;34m\"split\"\u001b[0m\u001b[1;33m,\u001b[0m\u001b[1;33m\u001b[0m\u001b[1;33m\u001b[0m\u001b[0m\n\u001b[0;32m      4\u001b[0m                     \u001b[0mmetric\u001b[0m\u001b[1;33m=\u001b[0m \u001b[1;34m\"ndcg\"\u001b[0m\u001b[1;33m,\u001b[0m\u001b[1;33m\u001b[0m\u001b[1;33m\u001b[0m\u001b[0m\n\u001b[1;32m----> 5\u001b[1;33m                     **study.best_trial.params)\n\u001b[0m",
      "\u001b[1;32m~\\AppData\\Roaming\\Python\\Python38\\site-packages\\optuna\\study\\study.py\u001b[0m in \u001b[0;36mbest_trial\u001b[1;34m(self)\u001b[0m\n\u001b[0;32m    152\u001b[0m             )\n\u001b[0;32m    153\u001b[0m \u001b[1;33m\u001b[0m\u001b[0m\n\u001b[1;32m--> 154\u001b[1;33m         \u001b[1;32mreturn\u001b[0m \u001b[0mcopy\u001b[0m\u001b[1;33m.\u001b[0m\u001b[0mdeepcopy\u001b[0m\u001b[1;33m(\u001b[0m\u001b[0mself\u001b[0m\u001b[1;33m.\u001b[0m\u001b[0m_storage\u001b[0m\u001b[1;33m.\u001b[0m\u001b[0mget_best_trial\u001b[0m\u001b[1;33m(\u001b[0m\u001b[0mself\u001b[0m\u001b[1;33m.\u001b[0m\u001b[0m_study_id\u001b[0m\u001b[1;33m)\u001b[0m\u001b[1;33m)\u001b[0m\u001b[1;33m\u001b[0m\u001b[1;33m\u001b[0m\u001b[0m\n\u001b[0m\u001b[0;32m    155\u001b[0m \u001b[1;33m\u001b[0m\u001b[0m\n\u001b[0;32m    156\u001b[0m     \u001b[1;33m@\u001b[0m\u001b[0mproperty\u001b[0m\u001b[1;33m\u001b[0m\u001b[1;33m\u001b[0m\u001b[0m\n",
      "\u001b[1;32m~\\AppData\\Roaming\\Python\\Python38\\site-packages\\optuna\\storages\\_in_memory.py\u001b[0m in \u001b[0;36mget_best_trial\u001b[1;34m(self, study_id)\u001b[0m\n\u001b[0;32m    260\u001b[0m             \u001b[0mbest_trial_id\u001b[0m \u001b[1;33m=\u001b[0m \u001b[0mself\u001b[0m\u001b[1;33m.\u001b[0m\u001b[0m_studies\u001b[0m\u001b[1;33m[\u001b[0m\u001b[0mstudy_id\u001b[0m\u001b[1;33m]\u001b[0m\u001b[1;33m.\u001b[0m\u001b[0mbest_trial_id\u001b[0m\u001b[1;33m\u001b[0m\u001b[1;33m\u001b[0m\u001b[0m\n\u001b[0;32m    261\u001b[0m             \u001b[1;32mif\u001b[0m \u001b[0mbest_trial_id\u001b[0m \u001b[1;32mis\u001b[0m \u001b[1;32mNone\u001b[0m\u001b[1;33m:\u001b[0m\u001b[1;33m\u001b[0m\u001b[1;33m\u001b[0m\u001b[0m\n\u001b[1;32m--> 262\u001b[1;33m                 \u001b[1;32mraise\u001b[0m \u001b[0mValueError\u001b[0m\u001b[1;33m(\u001b[0m\u001b[1;34m\"No trials are completed yet.\"\u001b[0m\u001b[1;33m)\u001b[0m\u001b[1;33m\u001b[0m\u001b[1;33m\u001b[0m\u001b[0m\n\u001b[0m\u001b[0;32m    263\u001b[0m             \u001b[1;32melif\u001b[0m \u001b[0mlen\u001b[0m\u001b[1;33m(\u001b[0m\u001b[0mself\u001b[0m\u001b[1;33m.\u001b[0m\u001b[0m_studies\u001b[0m\u001b[1;33m[\u001b[0m\u001b[0mstudy_id\u001b[0m\u001b[1;33m]\u001b[0m\u001b[1;33m.\u001b[0m\u001b[0mdirections\u001b[0m\u001b[1;33m)\u001b[0m \u001b[1;33m>\u001b[0m \u001b[1;36m1\u001b[0m\u001b[1;33m:\u001b[0m\u001b[1;33m\u001b[0m\u001b[1;33m\u001b[0m\u001b[0m\n\u001b[0;32m    264\u001b[0m                 raise RuntimeError(\n",
      "\u001b[1;31mValueError\u001b[0m: No trials are completed yet."
     ]
    }
   ],
   "source": [
    "gbm = lgb.LGBMRanker(objective=\"lambdarank\",\n",
    "                    boosting_type = \"gbdt\",\n",
    "                    importance_type = \"split\",\n",
    "                    metric= \"ndcg\",\n",
    "                    **study.best_trial.params)"
   ]
  },
  {
   "cell_type": "code",
   "execution_count": 65,
   "id": "3a6fcd75-16ea-48b2-9fe1-45f59fd627be",
   "metadata": {},
   "outputs": [
    {
     "name": "stdout",
     "output_type": "stream",
     "text": [
      "[LightGBM] [Warning] feature_fraction is set=0.9, colsample_bytree=1.0 will be ignored. Current value: feature_fraction=0.9\n",
      "[LightGBM] [Warning] min_data_in_leaf is set=900, min_child_samples=20 will be ignored. Current value: min_data_in_leaf=900\n",
      "[LightGBM] [Warning] min_gain_to_split is set=0.2823013796121562, min_split_gain=0.0 will be ignored. Current value: min_gain_to_split=0.2823013796121562\n",
      "[LightGBM] [Warning] lambda_l1 is set=0, reg_alpha=0.0 will be ignored. Current value: lambda_l1=0\n",
      "[LightGBM] [Warning] bagging_fraction is set=0.9, subsample=1.0 will be ignored. Current value: bagging_fraction=0.9\n",
      "[LightGBM] [Warning] lambda_l2 is set=40, reg_lambda=0.0 will be ignored. Current value: lambda_l2=40\n",
      "[LightGBM] [Warning] bagging_freq is set=1, subsample_freq=0 will be ignored. Current value: bagging_freq=1\n"
     ]
    },
    {
     "data": {
      "text/plain": [
       "LGBMRanker(bagging_fraction=0.9, bagging_freq=1, feature_fraction=0.9,\n",
       "           lambda_l1=0, lambda_l2=40, learning_rate=0.06509791773699271,\n",
       "           max_bin=223, metric='ndcg', min_data_in_leaf=900,\n",
       "           min_gain_to_split=0.2823013796121562, n_estimators=200,\n",
       "           num_leaves=1280, objective='lambdarank')"
      ]
     },
     "execution_count": 65,
     "metadata": {},
     "output_type": "execute_result"
    }
   ],
   "source": [
    "gbm.fit(X_train, y_train.astype(np.int32), group=groups)"
   ]
  },
  {
   "cell_type": "code",
   "execution_count": 43,
   "id": "9c275a1a-9bda-4337-a220-922981f7fc39",
   "metadata": {},
   "outputs": [
    {
     "ename": "NameError",
     "evalue": "name 'X_test' is not defined",
     "output_type": "error",
     "traceback": [
      "\u001b[1;31m---------------------------------------------------------------------------\u001b[0m",
      "\u001b[1;31mNameError\u001b[0m                                 Traceback (most recent call last)",
      "\u001b[1;32m<ipython-input-43-14c9ea6c7566>\u001b[0m in \u001b[0;36m<module>\u001b[1;34m\u001b[0m\n\u001b[1;32m----> 1\u001b[1;33m \u001b[0mpredictions\u001b[0m \u001b[1;33m=\u001b[0m \u001b[0mloaded_model\u001b[0m\u001b[1;33m.\u001b[0m\u001b[0mpredict\u001b[0m\u001b[1;33m(\u001b[0m\u001b[0mX_test\u001b[0m\u001b[1;33m)\u001b[0m\u001b[1;33m\u001b[0m\u001b[1;33m\u001b[0m\u001b[0m\n\u001b[0m\u001b[0;32m      2\u001b[0m \u001b[0mtest_data\u001b[0m\u001b[1;33m[\u001b[0m\u001b[1;34m\"rank_pred\"\u001b[0m\u001b[1;33m]\u001b[0m \u001b[1;33m=\u001b[0m \u001b[0mpredictions\u001b[0m\u001b[1;33m\u001b[0m\u001b[1;33m\u001b[0m\u001b[0m\n\u001b[0;32m      3\u001b[0m \u001b[0mtest_data\u001b[0m\u001b[1;33m[\u001b[0m\u001b[1;34m'rank_pred'\u001b[0m\u001b[1;33m]\u001b[0m \u001b[1;33m=\u001b[0m \u001b[0mtest_data\u001b[0m\u001b[1;33m.\u001b[0m\u001b[0mgroupby\u001b[0m\u001b[1;33m(\u001b[0m\u001b[1;34m\"id\"\u001b[0m\u001b[1;33m)\u001b[0m\u001b[1;33m[\u001b[0m\u001b[1;34m\"rank_pred\"\u001b[0m\u001b[1;33m]\u001b[0m\u001b[1;33m.\u001b[0m\u001b[0mrank\u001b[0m\u001b[1;33m(\u001b[0m\u001b[1;34m\"dense\"\u001b[0m\u001b[1;33m,\u001b[0m\u001b[0mascending\u001b[0m\u001b[1;33m=\u001b[0m\u001b[1;32mTrue\u001b[0m\u001b[1;33m)\u001b[0m\u001b[1;33m.\u001b[0m\u001b[0mastype\u001b[0m\u001b[1;33m(\u001b[0m\u001b[0mint\u001b[0m\u001b[1;33m)\u001b[0m\u001b[1;33m\u001b[0m\u001b[1;33m\u001b[0m\u001b[0m\n\u001b[0;32m      4\u001b[0m \u001b[0mtest_data\u001b[0m\u001b[1;33m[\u001b[0m\u001b[1;34m'rank_pred'\u001b[0m\u001b[1;33m]\u001b[0m \u001b[1;33m=\u001b[0m \u001b[0mtest_data\u001b[0m\u001b[1;33m.\u001b[0m\u001b[0mgroupby\u001b[0m\u001b[1;33m(\u001b[0m\u001b[1;34m\"id\"\u001b[0m\u001b[1;33m)\u001b[0m\u001b[1;33m[\u001b[0m\u001b[1;34m\"rank_pred\"\u001b[0m\u001b[1;33m]\u001b[0m\u001b[1;33m.\u001b[0m\u001b[0mrank\u001b[0m\u001b[1;33m(\u001b[0m\u001b[1;34m\"first\"\u001b[0m\u001b[1;33m)\u001b[0m\u001b[1;33m.\u001b[0m\u001b[0mastype\u001b[0m\u001b[1;33m(\u001b[0m\u001b[0mint\u001b[0m\u001b[1;33m)\u001b[0m\u001b[1;33m\u001b[0m\u001b[1;33m\u001b[0m\u001b[0m\n\u001b[0;32m      5\u001b[0m \u001b[1;33m\u001b[0m\u001b[0m\n",
      "\u001b[1;31mNameError\u001b[0m: name 'X_test' is not defined"
     ]
    }
   ],
   "source": [
    "predictions = loaded_model.predict(X_test)\n",
    "test_data[\"rank_pred\"] = predictions\n",
    "test_data['rank_pred'] = test_data.groupby(\"id\")[\"rank_pred\"].rank(\"dense\",ascending=True).astype(int)\n",
    "test_data['rank_pred'] = test_data.groupby(\"id\")[\"rank_pred\"].rank(\"first\").astype(int)\n",
    "\n",
    "test_data[\"classement\"] = test_data[\"classement\"].apply(pd.to_numeric)"
   ]
  },
  {
   "cell_type": "code",
   "execution_count": 67,
   "id": "259a0167-ea96-43d4-9d52-0e4d786ad790",
   "metadata": {},
   "outputs": [
    {
     "data": {
      "text/plain": [
       "0.551929321773185"
      ]
     },
     "execution_count": 67,
     "metadata": {},
     "output_type": "execute_result"
    }
   ],
   "source": [
    "test_data[[\"classement\", \"rank_pred\"]].corr(method=\"spearman\")[\"classement\"].loc[\"rank_pred\"]"
   ]
  },
  {
   "cell_type": "code",
   "execution_count": 68,
   "id": "7619f972-4fd0-4492-b950-f4d2e63b5fe9",
   "metadata": {},
   "outputs": [
    {
     "data": {
      "text/plain": [
       "0.3278767453057294"
      ]
     },
     "execution_count": 68,
     "metadata": {},
     "output_type": "execute_result"
    }
   ],
   "source": [
    "len(test_data.loc[test_data[\"rank_pred\"] == 1].loc[test_data[\"classement\"] == 1]) / len(test_data.groupby(\"id\"))"
   ]
  },
  {
   "cell_type": "code",
   "execution_count": 264,
   "id": "3fdff61a-b702-444b-a344-7474a062bb36",
   "metadata": {},
   "outputs": [
    {
     "data": {
      "text/plain": [
       "<AxesSubplot:title={'center':'Feature importance'}, xlabel='Feature importance', ylabel='Features'>"
      ]
     },
     "execution_count": 264,
     "metadata": {},
     "output_type": "execute_result"
    },
    {
     "data": {
      "image/png": "[encoded data removed]",
      "text/plain": [
       "<Figure size 864x576 with 1 Axes>"
      ]
     },
     "metadata": {
      "needs_background": "light"
     },
     "output_type": "display_data"
    }
   ],
   "source": [
    "lgb.plot_importance(gbm, figsize = (12,8))"
   ]
  },
  {
   "cell_type": "code",
   "execution_count": 344,
   "id": "53925a99-8dad-40c1-9c62-e06e8606f347",
   "metadata": {},
   "outputs": [
    {
     "data": {
      "text/plain": [
       "<lightgbm.basic.Booster at 0x1e5819af700>"
      ]
     },
     "execution_count": 344,
     "metadata": {},
     "output_type": "execute_result"
    }
   ],
   "source": [
    "gbm.booster_.save_model(\"models/modelv1.txt\")"
   ]
  },
  {
   "cell_type": "code",
   "execution_count": 363,
   "id": "cedd82a1-532c-4347-a522-143af0221432",
   "metadata": {},
   "outputs": [],
   "source": [
    "def get_proba(rapport_min,rapport_max):\n",
    "    p = len(test_data.loc[test_data[\"dernierRapportDirect_rapport\"] <= rapport_max].loc[test_data[\"dernierRapportDirect_rapport\"] >= rapport_min].loc[test_data[\"rank_pred\"] == 1].loc[test_data[\"classement\"]==1]) / len(test_data.loc[test_data[\"dernierRapportDirect_rapport\"] <= rapport_max].loc[test_data[\"dernierRapportDirect_rapport\"] > rapport_min].loc[test_data[\"rank_pred\"] == 1])\n",
    "    return p"
   ]
  },
  {
   "cell_type": "code",
   "execution_count": 364,
   "id": "1c5807ba-2717-408c-83f7-96a13cc6bb5d",
   "metadata": {},
   "outputs": [
    {
     "data": {
      "text/plain": [
       "0.2914798206278027"
      ]
     },
     "execution_count": 364,
     "metadata": {},
     "output_type": "execute_result"
    }
   ],
   "source": [
    "get_proba(20,30)"
   ]
  },
  {
   "cell_type": "code",
   "execution_count": 302,
   "id": "270c147f-df68-4bf6-b04b-1156c90a7229",
   "metadata": {},
   "outputs": [],
   "source": [
    "class_rapport = np.arange(5,50,5)\n",
    "nb_victoire = []\n",
    "for i in class_rapport:\n",
    "    nb_victoire.append( len(test_data.loc[test_data[\"rank_pred\"] == 1].loc[test_data[\"classement\"] == 1].loc[test_data[\"dernierRapportDirect_rapport\"] < i ]) - sum(nb_victoire))"
   ]
  },
  {
   "cell_type": "code",
   "execution_count": 303,
   "id": "0dcabdd1-cbbc-43bc-908e-2523c69219b0",
   "metadata": {},
   "outputs": [
    {
     "data": {
      "image/png": "[encoded data removed]",
      "text/plain": [
       "<Figure size 432x288 with 1 Axes>"
      ]
     },
     "metadata": {
      "needs_background": "light"
     },
     "output_type": "display_data"
    }
   ],
   "source": [
    "plt.bar(class_rapport,nb_victoire)\n",
    "plt.yscale(\"log\")"
   ]
  },
  {
   "cell_type": "code",
   "execution_count": 304,
   "id": "09ccbd7e-7282-43c2-b095-2ecb1fe29443",
   "metadata": {},
   "outputs": [
    {
     "data": {
      "text/plain": [
       "count    1477.000000\n",
       "mean        8.481855\n",
       "std        11.603491\n",
       "min         1.100000\n",
       "25%         2.900000\n",
       "50%         5.000000\n",
       "75%         9.300000\n",
       "max       165.000000\n",
       "Name: dernierRapportDirect_rapport, dtype: float64"
      ]
     },
     "execution_count": 304,
     "metadata": {},
     "output_type": "execute_result"
    }
   ],
   "source": [
    "test_data.loc[test_data[\"rank_pred\"] == 1].loc[test_data[\"classement\"] == 1].dernierRapportDirect_rapport.describe()"
   ]
  },
  {
   "cell_type": "code",
   "execution_count": 370,
   "id": "c0243719-7f4b-49dd-b855-2da29e85c09e",
   "metadata": {
    "tags": []
   },
   "outputs": [
    {
     "name": "stderr",
     "output_type": "stream",
     "text": [
      "<ipython-input-370-209bb6d4ee18>:11: RuntimeWarning: overflow encountered in double_scalars\n",
      "  argent += cote * f_kelly*argent\n",
      "<ipython-input-370-209bb6d4ee18>:14: RuntimeWarning: invalid value encountered in double_scalars\n",
      "  argent -= f_kelly*argent\n"
     ]
    }
   ],
   "source": [
    "argent = 100\n",
    "wins, loses = 0, 0\n",
    "\n",
    "evo = [100]\n",
    "for name,group in test_data.groupby(\"id\"):\n",
    "    cote = group.loc[group[\"rank_pred\"] == 1][\"dernierRapportDirect_rapport\"].values[0]\n",
    "    \n",
    "    if not np.isnan(cote):\n",
    "        f_kelly = kelly(cote, argent, get_proba(cote-5,cote+5))\n",
    "        if group.loc[group[\"rank_pred\"] == 1][\"classement\"].values[0] == 1:\n",
    "            argent += cote * f_kelly*argent\n",
    "            wins+=1\n",
    "        else:\n",
    "            argent -= f_kelly*argent\n",
    "            loses +=1\n",
    "        evo += [argent]"
   ]
  },
  {
   "cell_type": "code",
   "execution_count": 369,
   "id": "576ef007-c5a8-48dc-bf94-bd951406bdc2",
   "metadata": {},
   "outputs": [
    {
     "name": "stdout",
     "output_type": "stream",
     "text": [
      "nan\n"
     ]
    },
    {
     "ename": "LinAlgError",
     "evalue": "SVD did not converge in Linear Least Squares",
     "output_type": "error",
     "traceback": [
      "\u001b[1;31m---------------------------------------------------------------------------\u001b[0m",
      "\u001b[1;31mLinAlgError\u001b[0m                               Traceback (most recent call last)",
      "\u001b[1;32m<ipython-input-369-8d9b9da32ecf>\u001b[0m in \u001b[0;36m<module>\u001b[1;34m\u001b[0m\n\u001b[0;32m      1\u001b[0m \u001b[0mprint\u001b[0m\u001b[1;33m(\u001b[0m\u001b[0margent\u001b[0m\u001b[1;33m)\u001b[0m\u001b[1;33m\u001b[0m\u001b[1;33m\u001b[0m\u001b[0m\n\u001b[0;32m      2\u001b[0m \u001b[0mx\u001b[0m \u001b[1;33m=\u001b[0m \u001b[0mnp\u001b[0m\u001b[1;33m.\u001b[0m\u001b[0marange\u001b[0m\u001b[1;33m(\u001b[0m\u001b[0mlen\u001b[0m\u001b[1;33m(\u001b[0m\u001b[0mevo\u001b[0m\u001b[1;33m)\u001b[0m\u001b[1;33m)\u001b[0m\u001b[1;33m\u001b[0m\u001b[1;33m\u001b[0m\u001b[0m\n\u001b[1;32m----> 3\u001b[1;33m \u001b[0ma\u001b[0m\u001b[1;33m,\u001b[0m\u001b[0mb\u001b[0m \u001b[1;33m=\u001b[0m \u001b[0mnp\u001b[0m\u001b[1;33m.\u001b[0m\u001b[0mpolyfit\u001b[0m\u001b[1;33m(\u001b[0m\u001b[0mx\u001b[0m\u001b[1;33m,\u001b[0m \u001b[0mevo\u001b[0m\u001b[1;33m,\u001b[0m \u001b[1;36m1\u001b[0m\u001b[1;33m)\u001b[0m\u001b[1;33m\u001b[0m\u001b[1;33m\u001b[0m\u001b[0m\n\u001b[0m",
      "\u001b[1;32m<__array_function__ internals>\u001b[0m in \u001b[0;36mpolyfit\u001b[1;34m(*args, **kwargs)\u001b[0m\n",
      "\u001b[1;32m~\\anaconda3\\lib\\site-packages\\numpy\\lib\\polynomial.py\u001b[0m in \u001b[0;36mpolyfit\u001b[1;34m(x, y, deg, rcond, full, w, cov)\u001b[0m\n\u001b[0;32m    658\u001b[0m     \u001b[0mscale\u001b[0m \u001b[1;33m=\u001b[0m \u001b[0mNX\u001b[0m\u001b[1;33m.\u001b[0m\u001b[0msqrt\u001b[0m\u001b[1;33m(\u001b[0m\u001b[1;33m(\u001b[0m\u001b[0mlhs\u001b[0m\u001b[1;33m*\u001b[0m\u001b[0mlhs\u001b[0m\u001b[1;33m)\u001b[0m\u001b[1;33m.\u001b[0m\u001b[0msum\u001b[0m\u001b[1;33m(\u001b[0m\u001b[0maxis\u001b[0m\u001b[1;33m=\u001b[0m\u001b[1;36m0\u001b[0m\u001b[1;33m)\u001b[0m\u001b[1;33m)\u001b[0m\u001b[1;33m\u001b[0m\u001b[1;33m\u001b[0m\u001b[0m\n\u001b[0;32m    659\u001b[0m     \u001b[0mlhs\u001b[0m \u001b[1;33m/=\u001b[0m \u001b[0mscale\u001b[0m\u001b[1;33m\u001b[0m\u001b[1;33m\u001b[0m\u001b[0m\n\u001b[1;32m--> 660\u001b[1;33m     \u001b[0mc\u001b[0m\u001b[1;33m,\u001b[0m \u001b[0mresids\u001b[0m\u001b[1;33m,\u001b[0m \u001b[0mrank\u001b[0m\u001b[1;33m,\u001b[0m \u001b[0ms\u001b[0m \u001b[1;33m=\u001b[0m \u001b[0mlstsq\u001b[0m\u001b[1;33m(\u001b[0m\u001b[0mlhs\u001b[0m\u001b[1;33m,\u001b[0m \u001b[0mrhs\u001b[0m\u001b[1;33m,\u001b[0m \u001b[0mrcond\u001b[0m\u001b[1;33m)\u001b[0m\u001b[1;33m\u001b[0m\u001b[1;33m\u001b[0m\u001b[0m\n\u001b[0m\u001b[0;32m    661\u001b[0m     \u001b[0mc\u001b[0m \u001b[1;33m=\u001b[0m \u001b[1;33m(\u001b[0m\u001b[0mc\u001b[0m\u001b[1;33m.\u001b[0m\u001b[0mT\u001b[0m\u001b[1;33m/\u001b[0m\u001b[0mscale\u001b[0m\u001b[1;33m)\u001b[0m\u001b[1;33m.\u001b[0m\u001b[0mT\u001b[0m  \u001b[1;31m# broadcast scale coefficients\u001b[0m\u001b[1;33m\u001b[0m\u001b[1;33m\u001b[0m\u001b[0m\n\u001b[0;32m    662\u001b[0m \u001b[1;33m\u001b[0m\u001b[0m\n",
      "\u001b[1;32m<__array_function__ internals>\u001b[0m in \u001b[0;36mlstsq\u001b[1;34m(*args, **kwargs)\u001b[0m\n",
      "\u001b[1;32m~\\anaconda3\\lib\\site-packages\\numpy\\linalg\\linalg.py\u001b[0m in \u001b[0;36mlstsq\u001b[1;34m(a, b, rcond)\u001b[0m\n\u001b[0;32m   2303\u001b[0m         \u001b[1;31m# lapack can't handle n_rhs = 0 - so allocate the array one larger in that axis\u001b[0m\u001b[1;33m\u001b[0m\u001b[1;33m\u001b[0m\u001b[1;33m\u001b[0m\u001b[0m\n\u001b[0;32m   2304\u001b[0m         \u001b[0mb\u001b[0m \u001b[1;33m=\u001b[0m \u001b[0mzeros\u001b[0m\u001b[1;33m(\u001b[0m\u001b[0mb\u001b[0m\u001b[1;33m.\u001b[0m\u001b[0mshape\u001b[0m\u001b[1;33m[\u001b[0m\u001b[1;33m:\u001b[0m\u001b[1;33m-\u001b[0m\u001b[1;36m2\u001b[0m\u001b[1;33m]\u001b[0m \u001b[1;33m+\u001b[0m \u001b[1;33m(\u001b[0m\u001b[0mm\u001b[0m\u001b[1;33m,\u001b[0m \u001b[0mn_rhs\u001b[0m \u001b[1;33m+\u001b[0m \u001b[1;36m1\u001b[0m\u001b[1;33m)\u001b[0m\u001b[1;33m,\u001b[0m \u001b[0mdtype\u001b[0m\u001b[1;33m=\u001b[0m\u001b[0mb\u001b[0m\u001b[1;33m.\u001b[0m\u001b[0mdtype\u001b[0m\u001b[1;33m)\u001b[0m\u001b[1;33m\u001b[0m\u001b[1;33m\u001b[0m\u001b[0m\n\u001b[1;32m-> 2305\u001b[1;33m     \u001b[0mx\u001b[0m\u001b[1;33m,\u001b[0m \u001b[0mresids\u001b[0m\u001b[1;33m,\u001b[0m \u001b[0mrank\u001b[0m\u001b[1;33m,\u001b[0m \u001b[0ms\u001b[0m \u001b[1;33m=\u001b[0m \u001b[0mgufunc\u001b[0m\u001b[1;33m(\u001b[0m\u001b[0ma\u001b[0m\u001b[1;33m,\u001b[0m \u001b[0mb\u001b[0m\u001b[1;33m,\u001b[0m \u001b[0mrcond\u001b[0m\u001b[1;33m,\u001b[0m \u001b[0msignature\u001b[0m\u001b[1;33m=\u001b[0m\u001b[0msignature\u001b[0m\u001b[1;33m,\u001b[0m \u001b[0mextobj\u001b[0m\u001b[1;33m=\u001b[0m\u001b[0mextobj\u001b[0m\u001b[1;33m)\u001b[0m\u001b[1;33m\u001b[0m\u001b[1;33m\u001b[0m\u001b[0m\n\u001b[0m\u001b[0;32m   2306\u001b[0m     \u001b[1;32mif\u001b[0m \u001b[0mm\u001b[0m \u001b[1;33m==\u001b[0m \u001b[1;36m0\u001b[0m\u001b[1;33m:\u001b[0m\u001b[1;33m\u001b[0m\u001b[1;33m\u001b[0m\u001b[0m\n\u001b[0;32m   2307\u001b[0m         \u001b[0mx\u001b[0m\u001b[1;33m[\u001b[0m\u001b[1;33m...\u001b[0m\u001b[1;33m]\u001b[0m \u001b[1;33m=\u001b[0m \u001b[1;36m0\u001b[0m\u001b[1;33m\u001b[0m\u001b[1;33m\u001b[0m\u001b[0m\n",
      "\u001b[1;32m~\\anaconda3\\lib\\site-packages\\numpy\\linalg\\linalg.py\u001b[0m in \u001b[0;36m_raise_linalgerror_lstsq\u001b[1;34m(err, flag)\u001b[0m\n\u001b[0;32m     98\u001b[0m \u001b[1;33m\u001b[0m\u001b[0m\n\u001b[0;32m     99\u001b[0m \u001b[1;32mdef\u001b[0m \u001b[0m_raise_linalgerror_lstsq\u001b[0m\u001b[1;33m(\u001b[0m\u001b[0merr\u001b[0m\u001b[1;33m,\u001b[0m \u001b[0mflag\u001b[0m\u001b[1;33m)\u001b[0m\u001b[1;33m:\u001b[0m\u001b[1;33m\u001b[0m\u001b[1;33m\u001b[0m\u001b[0m\n\u001b[1;32m--> 100\u001b[1;33m     \u001b[1;32mraise\u001b[0m \u001b[0mLinAlgError\u001b[0m\u001b[1;33m(\u001b[0m\u001b[1;34m\"SVD did not converge in Linear Least Squares\"\u001b[0m\u001b[1;33m)\u001b[0m\u001b[1;33m\u001b[0m\u001b[1;33m\u001b[0m\u001b[0m\n\u001b[0m\u001b[0;32m    101\u001b[0m \u001b[1;33m\u001b[0m\u001b[0m\n\u001b[0;32m    102\u001b[0m \u001b[1;32mdef\u001b[0m \u001b[0mget_linalg_error_extobj\u001b[0m\u001b[1;33m(\u001b[0m\u001b[0mcallback\u001b[0m\u001b[1;33m)\u001b[0m\u001b[1;33m:\u001b[0m\u001b[1;33m\u001b[0m\u001b[1;33m\u001b[0m\u001b[0m\n",
      "\u001b[1;31mLinAlgError\u001b[0m: SVD did not converge in Linear Least Squares"
     ]
    }
   ],
   "source": [
    "print(argent)\n",
    "x = np.arange(len(evo))\n",
    "a,b = np.polyfit(x, evo, 1)"
   ]
  },
  {
   "cell_type": "code",
   "execution_count": 371,
   "id": "0a691414-8ffd-4522-bcd8-bdb7992a696b",
   "metadata": {
    "collapsed": true,
    "jupyter": {
     "outputs_hidden": true
    },
    "tags": []
   },
   "outputs": [
    {
     "data": {
      "text/plain": [
       "[100,\n",
       " 66.81869682945097,\n",
       " 44.4097109273812,\n",
       " 30.282347943507872,\n",
       " 20.569448074122395,\n",
       " 14.220341789332757,\n",
       " 10.330751584373031,\n",
       " 7.447531506561203,\n",
       " 5.547032223660887,\n",
       " 4.078491000345537,\n",
       " 2.8493396668062863,\n",
       " 2.1406705919217477,\n",
       " 1.5264938702121595,\n",
       " 0.9973610052746354,\n",
       " 0.6689008351838851,\n",
       " 0.45210729035045083,\n",
       " 0.32397768567000845,\n",
       " 0.5404775499737986,\n",
       " 0.39264452208162176,\n",
       " 1.3863533174128877,\n",
       " 0.9066281332053002,\n",
       " 0.666904988572487,\n",
       " 1.0787132107328166,\n",
       " 0.7776540320288818,\n",
       " 0.559847679155752,\n",
       " 4.798694392763587,\n",
       " 3.3963109699935834,\n",
       " 2.208069941924203,\n",
       " 1.6053569730826478,\n",
       " 1.2446643137563687,\n",
       " 0.8724176038622028,\n",
       " 10.955942001990454,\n",
       " 8.054772790868164,\n",
       " 5.9249961029297875,\n",
       " 4.30437353648291,\n",
       " 3.08449123996209,\n",
       " 2.166107456667729,\n",
       " 6.955008056977844,\n",
       " 5.291944114909797,\n",
       " 11.5481578244218,\n",
       " 7.663045850861112,\n",
       " 25.723405373827966,\n",
       " 17.22514538117484,\n",
       " 12.049335422836325,\n",
       " 53.52847908563325,\n",
       " 38.8915464826006,\n",
       " 26.619274479809878,\n",
       " 19.353299047820958,\n",
       " 134.32111124856687,\n",
       " 96.04490206383848,\n",
       " 64.16324127880227,\n",
       " 274.7023160066732,\n",
       " 180.14090694730322,\n",
       " 251.62859680205278,\n",
       " 172.22690509979844,\n",
       " 482.9679363824048,\n",
       " 1418.858177556087,\n",
       " 1043.224570292841,\n",
       " 684.1129808228404,\n",
       " 1380.9508266565576,\n",
       " 969.7832317231669,\n",
       " 678.3828634181112,\n",
       " 2329.490223559883,\n",
       " 1582.5085222727873,\n",
       " 3129.8816718039766,\n",
       " 5062.557283657946,\n",
       " 3766.9000417289403,\n",
       " 2736.566332284482,\n",
       " 4301.994242968795,\n",
       " 8874.421135451696,\n",
       " 6315.821795100687,\n",
       " 4481.510960247648,\n",
       " 3189.438969111313,\n",
       " 2161.82461186206,\n",
       " 1888.1822902458487,\n",
       " 1523.796234233492,\n",
       " 14092.067574191336,\n",
       " 39517.73267785764,\n",
       " 33019.74587712158,\n",
       " 44589.37640479099,\n",
       " 74386.47159998497,\n",
       " 49308.38155445746,\n",
       " 62280.996764683805,\n",
       " 219777.59146385337,\n",
       " 156621.33914691646,\n",
       " 103618.81841863615,\n",
       " 75276.69084242276,\n",
       " 415573.303948398,\n",
       " 275876.0711202622,\n",
       " 191578.88980939874,\n",
       " 137385.08821365613,\n",
       " 235972.9905910443,\n",
       " 165399.6091575367,\n",
       " 109799.62838246716,\n",
       " 79155.53724320474,\n",
       " 55964.92240226584,\n",
       " 50428.057933244105,\n",
       " 35959.81633619542,\n",
       " 64564.744670942455,\n",
       " 237690.01226850742,\n",
       " 183467.85808387207,\n",
       " 592515.8008194936,\n",
       " 1486719.8912619473,\n",
       " 1004867.7863644403,\n",
       " 4486851.511208664,\n",
       " 3417069.7851565983,\n",
       " 2497593.0053605554,\n",
       " 1927838.8464262558,\n",
       " 3531867.9141104296,\n",
       " 2530917.8093958516,\n",
       " 1649746.0053230277,\n",
       " 5537887.425534438,\n",
       " 3968420.748612464,\n",
       " 2856940.3031677534,\n",
       " 2471067.8466360047,\n",
       " 1634829.1484120379,\n",
       " 1204641.8191348254,\n",
       " 1626730.493512729,\n",
       " 2483704.60003124,\n",
       " 1706703.2628611405,\n",
       " 2605807.6379345697,\n",
       " 1893270.4722157544,\n",
       " 5140664.360032234,\n",
       " 17592763.657451466,\n",
       " 39035343.28065567,\n",
       " 28140929.203241386,\n",
       " 21721383.89885827,\n",
       " 27436094.994015306,\n",
       " 18205852.14579425,\n",
       " 14945260.108815867,\n",
       " 20876184.614320494,\n",
       " 13949194.506999299,\n",
       " 24490977.078558143,\n",
       " 19167122.988851186,\n",
       " 65595152.90627712,\n",
       " 135313758.7959515,\n",
       " 117363974.4658763,\n",
       " 85443649.5773924,\n",
       " 56262476.25559205,\n",
       " 444208451.27451736,\n",
       " 3051382435.6101117,\n",
       " 2186604464.654353,\n",
       " 1431650553.8973467,\n",
       " 4805037857.53429,\n",
       " 3443264636.219514,\n",
       " 2288496998.5464387,\n",
       " 1511685954.474915,\n",
       " 1088290985.924827,\n",
       " 792300653.2693048,\n",
       " 2604794105.751956,\n",
       " 5019775139.444386,\n",
       " 3331526553.639873,\n",
       " 14263276634.451326,\n",
       " 20503012419.7889,\n",
       " 13652062808.345573,\n",
       " 9919015902.63301,\n",
       " 6552089441.999491,\n",
       " 4632489273.208561,\n",
       " 3354330390.6002107,\n",
       " 8556256355.569857,\n",
       " 5729519770.086319,\n",
       " 4055109422.5303707,\n",
       " 2905869898.3413196,\n",
       " 9553434989.670164,\n",
       " 32582733472.923996,\n",
       " 21333116792.74147,\n",
       " 16052993201.182535,\n",
       " 53120813865.73129,\n",
       " 163151309369.31097,\n",
       " 109250893580.16075,\n",
       " 79368264045.10583,\n",
       " 56596829522.22432,\n",
       " 40556987768.67105,\n",
       " 223899340109.18246,\n",
       " 161230165644.3939,\n",
       " 111852693160.51523,\n",
       " 987176980003.8134,\n",
       " 701493489192.6492,\n",
       " 947286431322.7085,\n",
       " 4055620810602.8823,\n",
       " 3012157583463.5454,\n",
       " 10067557461653.158,\n",
       " 7401635377212.932,\n",
       " 22403370035030.83,\n",
       " 17038703105835.727,\n",
       " 26014822646588.34,\n",
       " 16859072234093.234,\n",
       " 67583851931857.34,\n",
       " 44641507546962.625,\n",
       " 30787414857213.29,\n",
       " 23870078261785.58,\n",
       " 17020046729742.154,\n",
       " 50758911865031.26,\n",
       " 33019094459779.72,\n",
       " 22771913745818.78,\n",
       " 43884423051484.84,\n",
       " 33022663857678.793,\n",
       " 22430822430179.03,\n",
       " 33176413931681.215,\n",
       " 24640515344821.86,\n",
       " 18156634446014.027,\n",
       " 31185883308028.625,\n",
       " 22927759592289.004,\n",
       " 16506122860952.773,\n",
       " 11951887263653.916,\n",
       " 24126085982167.65,\n",
       " 84335195606409.84,\n",
       " 60138705890641.8,\n",
       " 47311416159782.766,\n",
       " 32510528155992.027,\n",
       " 23618151745709.742,\n",
       " 16229456855153.127,\n",
       " 34815615685045.055,\n",
       " 26886639983870.277,\n",
       " 20448993790549.227,\n",
       " 112890933658971.0,\n",
       " 87138107309711.78,\n",
       " 660373997100506.2,\n",
       " 496925947984268.0,\n",
       " 3765941040777636.5,\n",
       " 8700948822743470.0,\n",
       " 5747282249136573.0,\n",
       " 2.203538505760876e+16,\n",
       " 1.721549043551503e+16,\n",
       " 6.600510367472295e+16,\n",
       " 9.219877872771637e+16,\n",
       " 6.698029439300182e+16,\n",
       " 4.865964494196194e+16,\n",
       " 3.3112038527403496e+16,\n",
       " 2.2207275107494576e+16,\n",
       " 1.6134874123984408e+16,\n",
       " 5.04020226398226e+16,\n",
       " 2.938934841251628e+17,\n",
       " 4.1052310812065766e+17,\n",
       " 2.982356058994712e+17,\n",
       " 2.0001789202977344e+17,\n",
       " 2.7010120273481274e+17,\n",
       " 2.1705987926876778e+17,\n",
       " 1.7818536198588794e+17,\n",
       " 1.4017930199272389e+17,\n",
       " 1.0552320458335523e+17,\n",
       " 1.7603966446222272e+17,\n",
       " 1.1836768389688624e+17,\n",
       " 8.878293672168874e+16,\n",
       " 6.030380879790315e+16,\n",
       " 1.8252838381912986e+17,\n",
       " 1.3079887146471392e+17,\n",
       " 9.372977735559019e+16,\n",
       " 6.261175689599226e+16,\n",
       " 4.696261232392728e+16,\n",
       " 3.279633256680862e+17,\n",
       " 1.1223804692734787e+18,\n",
       " 3.6037756034506127e+18,\n",
       " 2.5768419548952883e+18,\n",
       " 5.623222191610317e+18,\n",
       " 4.432616202653528e+18,\n",
       " 2.9618163820641823e+18,\n",
       " 2.1224219058641298e+18,\n",
       " 3.726393392927882e+18,\n",
       " 1.2251015451721863e+19,\n",
       " 2.8792949065409307e+19,\n",
       " 1.970730103515454e+19,\n",
       " 6.241003512114371e+19,\n",
       " 4.155612365149607e+19,\n",
       " 2.977889773817263e+19,\n",
       " 2.240837321493721e+19,\n",
       " 1.4968856811059462e+19,\n",
       " 1.0039174150295306e+19,\n",
       " 7.274609505378327e+18,\n",
       " 4.827234528171622e+18,\n",
       " 3.671314441494565e+18,\n",
       " 9.67736691569891e+18,\n",
       " 4.143174583462175e+19,\n",
       " 6.911873709302961e+19,\n",
       " 5.021877367693961e+19,\n",
       " 3.5505914934689513e+19,\n",
       " 2.1322845653713e+20,\n",
       " 1.4171803051585218e+20,\n",
       " 1.0216579971888521e+20,\n",
       " 6.9248711908852244e+19,\n",
       " 4.84408658925473e+19,\n",
       " 3.340767631351999e+19,\n",
       " 2.426990926934056e+19,\n",
       " 1.5728269957679722e+19,\n",
       " 1.1426226752625095e+19,\n",
       " 8.187973470604141e+18,\n",
       " 1.9243784649287377e+19,\n",
       " 1.3789993984338199e+19,\n",
       " 8.040926069740865e+19,\n",
       " 5.371361401908149e+19,\n",
       " 1.062346607797268e+20,\n",
       " 4.258684869769354e+20,\n",
       " 2.785035722779419e+20,\n",
       " 1.826336480431913e+20,\n",
       " 1.2549859714380979e+20,\n",
       " 8.904990622629205e+19,\n",
       " 1.6314252985316337e+20,\n",
       " 1.2296700408341465e+20,\n",
       " 8.590794056270312e+19,\n",
       " 6.254293962658239e+19,\n",
       " 4.3837973760852705e+19,\n",
       " 3.155977704490656e+19,\n",
       " 2.244889492382163e+19,\n",
       " 1.6008114757855865e+19,\n",
       " 1.0431451291802698e+19,\n",
       " 7.526586153464728e+18,\n",
       " 5.029166783491031e+18,\n",
       " 3.1484438135357444e+19,\n",
       " 2.5575051285336506e+19,\n",
       " 1.8100929154713973e+19,\n",
       " 2.6019517448915816e+19,\n",
       " 1.7381111393042076e+19,\n",
       " 1.277957356911491e+19,\n",
       " 8.784595579451504e+18,\n",
       " 6.612807050220684e+18,\n",
       " 4.5440586489797704e+18,\n",
       " 1.254042832014683e+19,\n",
       " 8.37935078035352e+18,\n",
       " 1.6148092718353203e+19,\n",
       " 2.6119404175865872e+19,\n",
       " 1.702032353920648e+19,\n",
       " 2.517398997497858e+19,\n",
       " 1.6820932041257316e+19,\n",
       " 1.0990245043036457e+19,\n",
       " 4.90727220526279e+19,\n",
       " 3.499025069509334e+19,\n",
       " 2.337358662380676e+19,\n",
       " 3.2649235001910112e+19,\n",
       " 2.221723418991124e+19,\n",
       " 4.9296254996444275e+19,\n",
       " 1.8934778246090274e+20,\n",
       " 7.590484408498333e+20,\n",
       " 5.3304754651112106e+20,\n",
       " 3.9189481589960606e+20,\n",
       " 2.8827321604850434e+20,\n",
       " 2.0612674020966125e+20,\n",
       " 1.5102861060547727e+20,\n",
       " 2.5195430749245492e+20,\n",
       " 1.714505057894707e+20,\n",
       " 3.677975776914245e+20,\n",
       " 2.851605763168686e+20,\n",
       " 6.459433821643757e+20,\n",
       " 4.7026151119767706e+20,\n",
       " 3.149008764520954e+20,\n",
       " 2.3696029407441728e+20,\n",
       " 1.5482208066475046e+20,\n",
       " 1.0367339817222056e+20,\n",
       " 6.833933052400687e+19,\n",
       " 4.905022297825524e+19,\n",
       " 6.195491886590978e+19,\n",
       " 4.125308156312686e+19,\n",
       " 2.956173938539677e+19,\n",
       " 7.058033869684693e+19,\n",
       " 5.8974659975796e+19,\n",
       " 3.9092391043474735e+19,\n",
       " 2.5429925605091455e+19,\n",
       " 1.7187980870095393e+19,\n",
       " 2.036114656918993e+20,\n",
       " 1.3991372115988867e+20,\n",
       " 1.0186037935627659e+20,\n",
       " 5.939464373732185e+20,\n",
       " 4.315365553413478e+20,\n",
       " 2.8195182505920004e+20,\n",
       " 2.041328347544446e+20,\n",
       " 1.3836269968956026e+20,\n",
       " 2.3082433217991462e+20,\n",
       " 1.501531484388427e+20,\n",
       " 3.097452480877127e+20,\n",
       " 2.069107035150768e+20,\n",
       " 1.5534724248036717e+20,\n",
       " 1.0499855459427792e+20,\n",
       " 7.72008603331005e+19,\n",
       " 1.3554363299717575e+20,\n",
       " 9.771462114985114e+19,\n",
       " 1.1311904377818061e+21,\n",
       " 8.217838628961919e+20,\n",
       " 5.425109729038275e+21,\n",
       " 1.9058974954047565e+22,\n",
       " 4.479335588575029e+22,\n",
       " 3.0790660891356523e+22,\n",
       " 2.2368707693501894e+22,\n",
       " 1.6125802072369135e+22,\n",
       " 3.789966632058556e+22,\n",
       " 8.756458305740652e+22,\n",
       " 6.3620751240822945e+22,\n",
       " 4.880000805404032e+22,\n",
       " 3.3076995513002788e+22,\n",
       " 2.6693715677160145e+22,\n",
       " 1.8518643685678347e+22,\n",
       " 3.738174398552786e+22,\n",
       " 2.6115856561492443e+22,\n",
       " 2.0294563365911762e+22,\n",
       " 1.3784624771889323e+22,\n",
       " 4.451792303575279e+22,\n",
       " 1.7099412535887234e+23,\n",
       " 1.2185650375719488e+23,\n",
       " 8.581567708208959e+22,\n",
       " 5.9593686675571505e+22,\n",
       " 4.6597608449262146e+22,\n",
       " 1.4311642233478661e+23,\n",
       " 9.328858691752527e+22,\n",
       " 3.090896232858202e+23,\n",
       " 2.272416819229238e+23,\n",
       " 1.474634638130638e+23,\n",
       " 8.140883742718147e+23,\n",
       " 2.776511752158826e+24,\n",
       " 1.064529336191678e+25,\n",
       " 7.734423407464693e+24,\n",
       " 5.263140044706137e+24,\n",
       " 1.6997493026754513e+25,\n",
       " 1.9677097809795812e+26,\n",
       " 1.3818391746154807e+26,\n",
       " 5.298044707116109e+26,\n",
       " 3.641841401214451e+26,\n",
       " 2.6774699082771674e+26,\n",
       " 1.9144967811014806e+26,\n",
       " 2.9230683760644346e+26,\n",
       " 2.092635867006832e+26,\n",
       " 8.023276936118111e+26,\n",
       " 5.784052329550996e+26,\n",
       " 4.3454807681404006e+26,\n",
       " 3.156891936592151e+26,\n",
       " 2.082206282522636e+26,\n",
       " 1.4990192383526784e+26,\n",
       " 1.0472537457560087e+26,\n",
       " 3.362556283628798e+26,\n",
       " 2.5044819270291e+26,\n",
       " 1.9048172402756537e+26,\n",
       " 1.3743793327018488e+26,\n",
       " 1.4110294482405648e+27,\n",
       " 8.893336969059639e+27,\n",
       " 5.185692260831959e+28,\n",
       " 1.0256250082927454e+29,\n",
       " 7.639007589803702e+28,\n",
       " 5.468187703057497e+28,\n",
       " 3.612057412526568e+28,\n",
       " 7.601318388975255e+28,\n",
       " 5.010629717562242e+28,\n",
       " 3.770457245939694e+28,\n",
       " 2.7449788500668073e+28,\n",
       " 1.8051968772182607e+28,\n",
       " 1.8206259103568783e+28,\n",
       " 1.3852824458052336e+28,\n",
       " 9.150599793814566e+27,\n",
       " 6.09298577991481e+27,\n",
       " 4.0310470501347054e+27,\n",
       " 3.1712445707659445e+27,\n",
       " 2.2861786640496297e+27,\n",
       " 3.286310063540955e+27,\n",
       " 1.1246654557431132e+28,\n",
       " 7.898048788012473e+27,\n",
       " 9.975958153691464e+27,\n",
       " 7.482573218793065e+27,\n",
       " 4.998767664988715e+27,\n",
       " 4.284657998561755e+28,\n",
       " 2.7920340333702277e+28,\n",
       " 1.811828737407348e+28,\n",
       " 1.0564747849107634e+29,\n",
       " 7.336564769207411e+28,\n",
       " 1.627858645992077e+29,\n",
       " 2.7960143123892228e+29,\n",
       " 7.268735998896142e+29,\n",
       " 1.8896370732988505e+30,\n",
       " 1.4371887599737738e+30,\n",
       " 3.9662698083833767e+30,\n",
       " 2.742013888786822e+30,\n",
       " 2.250930660192778e+30,\n",
       " 1.646607451031279e+30,\n",
       " 5.559096730312811e+30,\n",
       " 4.2814352291298064e+30,\n",
       " 2.790798120778263e+30,\n",
       " 2.0205350027517218e+30,\n",
       " 1.4134048475634107e+30,\n",
       " 9.330770213182841e+30,\n",
       " 7.340562888898026e+30,\n",
       " 5.074774628374438e+30,\n",
       " 8.466020590710454e+30,\n",
       " 6.066705439956364e+30,\n",
       " 3.994771670609072e+30,\n",
       " 2.6332697334005516e+30,\n",
       " 4.259291649508053e+30,\n",
       " 2.782881401758133e+30,\n",
       " 1.99205429255926e+30,\n",
       " 1.3308010885262526e+30,\n",
       " 9.806154029893893e+29,\n",
       " 2.621650050656595e+30,\n",
       " 6.815445119603793e+30,\n",
       " 2.0629081437597564e+31,\n",
       " 1.532146297545739e+31,\n",
       " 3.3434720529854473e+31,\n",
       " 2.3959143348228846e+31,\n",
       " 7.484342773230007e+31,\n",
       " 1.8162973376636666e+32,\n",
       " 4.114261727409821e+32,\n",
       " 2.8837930984429477e+32,\n",
       " 1.8791811338859743e+32,\n",
       " 1.3453129846613183e+32,\n",
       " 9.244457092288882e+31,\n",
       " 5.990929555858908e+31,\n",
       " 4.028253848828466e+31,\n",
       " 5.088053126406681e+31,\n",
       " 3.315554589722639e+31,\n",
       " 2.2521083271827e+31,\n",
       " 1.3524889682265673e+32,\n",
       " 9.682520422093571e+31,\n",
       " 7.118557402798908e+31,\n",
       " 5.56615589810779e+31,\n",
       " 1.4672056505746301e+32,\n",
       " 9.678320058610745e+31,\n",
       " 7.031861186094685e+31,\n",
       " 2.0345126667553858e+32,\n",
       " 8.155858217715244e+32,\n",
       " 1.8843551768202586e+33,\n",
       " 5.535839029145486e+33,\n",
       " 3.610628094468748e+33,\n",
       " 7.448228069151687e+33,\n",
       " 4.866427818364854e+33,\n",
       " 3.200338064792922e+33,\n",
       " 2.1822648423311146e+33,\n",
       " 1.8214452181619e+33,\n",
       " 1.2956185417226517e+33,\n",
       " 9.275382856484173e+32,\n",
       " 6.049662526720012e+32,\n",
       " 4.335156070967283e+32,\n",
       " 3.1874512906406884e+32,\n",
       " 7.36438787929761e+32,\n",
       " 1.3222532024059268e+33,\n",
       " 9.74316799189874e+32,\n",
       " 6.80683003525628e+32,\n",
       " 4.4278995677334626e+32,\n",
       " 3.1496246626788554e+32,\n",
       " 1.399202627924801e+33,\n",
       " 9.942812215360829e+32,\n",
       " 3.812126953637727e+33,\n",
       " 2.5894077820879268e+33,\n",
       " 1.8555558788854632e+33,\n",
       " 2.833076954284544e+33,\n",
       " 2.0597625815589158e+33,\n",
       " 7.072992340077233e+33,\n",
       " 5.0684687860787874e+33,\n",
       " 3.959820791936491e+33,\n",
       " 2.8345361758352345e+33,\n",
       " 1.842838946273045e+33,\n",
       " 1.2230561555133564e+33,\n",
       " 4.902929708753761e+33,\n",
       " 1.9654632880605886e+34,\n",
       " 1.2965041920230964e+34,\n",
       " 9.087535234206867e+33,\n",
       " 6.615932867027592e+33,\n",
       " 4.806323220685253e+33,\n",
       " 3.461038735682273e+33,\n",
       " 2.5802726058133072e+33,\n",
       " 1.8363498545268732e+33,\n",
       " 1.26229492143535e+33,\n",
       " 9.280351050946886e+32,\n",
       " 6.650250327439793e+32,\n",
       " 1.3718549753601878e+33,\n",
       " 4.939551240723961e+33,\n",
       " 2.205567065625583e+34,\n",
       " 5.890447248567831e+34,\n",
       " 3.862765065499044e+34,\n",
       " 2.6182098699206544e+34,\n",
       " 1.774641430869497e+34,\n",
       " 6.528246671637413e+34,\n",
       " 5.257468300527716e+34,\n",
       " 1.4275234475553645e+35,\n",
       " 1.037178628348187e+35,\n",
       " 6.732059074551396e+34,\n",
       " 4.626003908905392e+34,\n",
       " 3.15440603039659e+34,\n",
       " 1.0451376785112803e+35,\n",
       " 7.534491296045798e+34,\n",
       " 5.1569739445797e+34,\n",
       " 9.938155781525991e+34,\n",
       " 6.894550314264214e+34,\n",
       " 5.288433479691301e+34,\n",
       " 4.0221888437088765e+34,\n",
       " 3.0316834758770532e+34,\n",
       " 1.998422186933263e+34,\n",
       " 1.3266416685879519e+34,\n",
       " 2.7918232074735167e+34,\n",
       " 7.456171969219055e+34,\n",
       " 5.343053275413235e+34,\n",
       " 3.5349006090849988e+34,\n",
       " 6.2063203540994455e+34,\n",
       " 4.91484079621731e+34,\n",
       " 3.570917062203057e+34,\n",
       " 2.58534032339557e+34,\n",
       " 1.8617064632032094e+34,\n",
       " 1.4167257762182846e+34,\n",
       " 4.778484854262821e+34,\n",
       " 3.16750276465909e+34,\n",
       " 2.1765822326444765e+34,\n",
       " 1.4196274345644675e+34,\n",
       " 7.837210386847503e+34,\n",
       " 5.620221734332251e+34,\n",
       " 1.964605861334664e+35,\n",
       " 4.539087274931157e+35,\n",
       " 3.4079179064165674e+35,\n",
       " 1.2698581187820849e+36,\n",
       " 2.1184477672723054e+36,\n",
       " 1.5272080025262016e+36,\n",
       " 1.0943891522112498e+36,\n",
       " 8.238266902526498e+35,\n",
       " 5.939040525263976e+35,\n",
       " 4.276709735679155e+35,\n",
       " 2.804528122423581e+35,\n",
       " 1.8554425077081775e+35,\n",
       " 1.3480866590452639e+35,\n",
       " 9.726825249727217e+34,\n",
       " 7.833416533935427e+34,\n",
       " 5.122789205016395e+34,\n",
       " 3.670963566037659e+34,\n",
       " 6.305256722487335e+34,\n",
       " 2.3212305033688085e+35,\n",
       " 1.6733958963818498e+35,\n",
       " 1.2149270151063921e+35,\n",
       " 8.833015288401066e+34,\n",
       " 5.7833007453508955e+34,\n",
       " 4.201435114784458e+34,\n",
       " 2.630253273472205e+35,\n",
       " 1.9123014870907615e+35,\n",
       " 1.2392792117864027e+35,\n",
       " 8.921802780787476e+34,\n",
       " 2.1301312952021998e+35,\n",
       " 2.1461473199781562e+35,\n",
       " 1.4359000509655833e+35,\n",
       " 1.035153229898135e+35,\n",
       " 7.36318449112371e+34,\n",
       " 6.584386131485625e+35,\n",
       " 2.0222792923698427e+36,\n",
       " 3.179105790645119e+36,\n",
       " 5.824232538086096e+36,\n",
       " 1.1224049392797464e+37,\n",
       " 7.759557672659749e+36,\n",
       " 5.829651378419802e+36,\n",
       " 4.436261858361662e+36,\n",
       " 1.2835337195973848e+37,\n",
       " 1.7928953189121515e+37,\n",
       " 1.2324245568724235e+37,\n",
       " 9.061480555978652e+36,\n",
       " 1.977409536290134e+37,\n",
       " 1.3359217894367656e+37,\n",
       " 8.982632895039835e+36,\n",
       " 6.002078241439202e+36,\n",
       " 3.9828171266707896e+36,\n",
       " 1.278815837145877e+37,\n",
       " 3.053245742408348e+37,\n",
       " 2.1758516586494955e+37,\n",
       " 1.5439167494679584e+37,\n",
       " 5.675971174699856e+37,\n",
       " 3.978435885960375e+37,\n",
       " 9.654852438856025e+37,\n",
       " 7.0148105984427065e+37,\n",
       " 5.335208060787411e+37,\n",
       " 1.2947461774934006e+38,\n",
       " 1.4570453462214463e+39,\n",
       " 9.442475574023642e+38,\n",
       " 6.700087359919412e+38,\n",
       " 5.102612827346034e+38,\n",
       " 3.576554101430699e+38,\n",
       " 2.6038129394304208e+38,\n",
       " 1.739489283527981e+38,\n",
       " 1.9730097626865316e+39,\n",
       " 1.370133402232685e+39,\n",
       " 9.818303269793257e+38,\n",
       " 7.218384509123433e+38,\n",
       " 5.8635492627956505e+38,\n",
       " 1.2339423144654417e+39,\n",
       " 8.275689949271581e+38,\n",
       " 2.212484416274346e+39,\n",
       " 1.5476773205422752e+39,\n",
       " 1.1111315698888506e+39,\n",
       " 3.313729411088193e+39,\n",
       " 1.0494078745692597e+40,\n",
       " 6.942757902234413e+39,\n",
       " 1.122985252230708e+40,\n",
       " 7.627937858998462e+39,\n",
       " 3.405962950994662e+40,\n",
       " 1.2538783816678659e+41,\n",
       " 9.980809145691648e+40,\n",
       " 1.6143874860354682e+41,\n",
       " 1.0523175806986221e+41,\n",
       " 7.351763739354038e+40,\n",
       " 2.5392512746963642e+41,\n",
       " 2.5582009110746954e+41,\n",
       " 1.7339669281052824e+41,\n",
       " 1.132917093396318e+41,\n",
       " 3.2778436830585455e+41,\n",
       " 2.5737142992904138e+41,\n",
       " 1.6786480075068844e+41,\n",
       " 1.1401838260994031e+41,\n",
       " 8.283173528774657e+40,\n",
       " 5.490647318707952e+40,\n",
       " 1.8826122358868923e+41,\n",
       " 1.339127466128488e+41,\n",
       " 2.044590090931051e+41,\n",
       " 1.4855133550889842e+41,\n",
       " 2.135378815803452e+41,\n",
       " 1.5525075574081219e+41,\n",
       " 5.137388644514148e+41,\n",
       " 3.567599063734618e+41,\n",
       " 2.6238252025965673e+41,\n",
       " 1.9012822642088286e+41,\n",
       " 8.446337025584367e+41,\n",
       " 3.238370426527257e+42,\n",
       " 2.3544274784700723e+42,\n",
       " 7.354746381149004e+42,\n",
       " 1.9642452165681658e+43,\n",
       " 1.2777578550243966e+43,\n",
       " 4.488896293820143e+43,\n",
       " 3.718236222137747e+44,\n",
       " 6.811938266725775e+44,\n",
       " 4.95255715820624e+44,\n",
       " 3.6783228260952715e+44,\n",
       " 2.6358666223271237e+44,\n",
       " 7.03965593931042e+44,\n",
       " 1.356632748682882e+45,\n",
       " 4.762295582007081e+45,\n",
       " 3.405229516948334e+45,\n",
       " 2.3623624696908272e+45,\n",
       " 1.7368011750679924e+45,\n",
       " 1.250355642701388e+45,\n",
       " 4.2754798101099807e+45,\n",
       " 7.832827928925136e+45,\n",
       " 3.139987038466269e+46,\n",
       " 9.943862987683801e+46,\n",
       " 1.1429727572050345e+48,\n",
       " 3.510441356994179e+48,\n",
       " 2.314009344829697e+48,\n",
       " 1.6250306798394466e+48,\n",
       " 1.0734276933132999e+48,\n",
       " 7.2519901343880155e+47,\n",
       " 5.457062343650782e+47,\n",
       " 6.654423097244371e+47,\n",
       " 1.1683350136372714e+48,\n",
       " 4.68356618158311e+48,\n",
       " 3.0713314396577704e+48,\n",
       " 2.193593311375477e+48,\n",
       " 1.633820920809389e+48,\n",
       " 2.4945303188353877e+48,\n",
       " 5.763441436270282e+48,\n",
       " 1.8613233695281973e+49,\n",
       " 1.3400014989570884e+49,\n",
       " 8.75513009353658e+48,\n",
       " 2.3382481890523828e+49,\n",
       " 4.016181268935844e+49,\n",
       " 2.787421047368567e+50,\n",
       " 2.273661089618282e+50,\n",
       " 1.5188120512330045e+50,\n",
       " 2.7269803431199702e+50,\n",
       " 6.617825087843208e+50,\n",
       " 2.175698292129534e+51,\n",
       " 1.5941293682848048e+51,\n",
       " 1.8279350089665762e+52,\n",
       " 1.2637121084883942e+52,\n",
       " 8.565531320386156e+51,\n",
       " 6.10800704462506e+51,\n",
       " 4.596224570124838e+51,\n",
       " 6.606928538270862e+51,\n",
       " 4.5565273445508156e+51,\n",
       " 3.0056815811132514e+51,\n",
       " 2.0660859290718057e+51,\n",
       " 7.427176430741244e+51,\n",
       " 4.820788736121208e+51,\n",
       " 3.4545516322507065e+51,\n",
       " 2.733017292510059e+51,\n",
       " 1.924687827094843e+51,\n",
       " 1.377738428011553e+51,\n",
       " 9.087215109349932e+50,\n",
       " 6.071958714156592e+50,\n",
       " 8.481574102045414e+50,\n",
       " 6.716634661847342e+50,\n",
       " 4.366737686490283e+50,\n",
       " 3.210671875900228e+50,\n",
       " 2.080696447987209e+50,\n",
       " 4.7131764082872495e+50,\n",
       " 3.113328346900073e+50,\n",
       " 2.572241869497654e+50,\n",
       " 1.952998456470441e+50,\n",
       " 5.302839561336299e+50,\n",
       " 3.4495412519165175e+50,\n",
       " 9.98048053820738e+50,\n",
       " 5.993712497129976e+51,\n",
       " 3.9537107742053566e+51,\n",
       " 2.8352857876245895e+51,\n",
       " 2.0599996653081456e+51,\n",
       " 1.6590033257335245e+51,\n",
       " 5.682532359273271e+51,\n",
       " 1.3567370084164523e+52,\n",
       " 3.7442437515979145e+52,\n",
       " 2.680518469417185e+52,\n",
       " 1.9475522269936466e+52,\n",
       " 6.909854609706953e+52,\n",
       " 4.955196191201415e+52,\n",
       " 3.3491964807355625e+52,\n",
       " 2.4315998934518625e+52,\n",
       " 1.651609424763503e+52,\n",
       " 1.1893257970506218e+52,\n",
       " 1.5022272843503752e+52,\n",
       " 9.85112136576552e+51,\n",
       " 7.425181418362156e+51,\n",
       " 2.552681799990891e+52,\n",
       " 1.8272718104325847e+52,\n",
       " 1.315487144827686e+52,\n",
       " 3.140800580873535e+52,\n",
       " 7.114515534079018e+52,\n",
       " 4.272575904976802e+53,\n",
       " 3.5073754155082923e+53,\n",
       " 2.4109470010027044e+53,\n",
       " 1.6378451118821445e+53,\n",
       " 3.7100332195112057e+53,\n",
       " 3.2811852935999644e+53,\n",
       " 2.151695345141875e+53,\n",
       " 1.5305299097149902e+53,\n",
       " 1.2040754191684165e+53,\n",
       " 2.1618803966169495e+53,\n",
       " 1.4860624943950627e+53,\n",
       " 2.1979677560134735e+53,\n",
       " 1.5624510472396003e+53,\n",
       " 1.111392495998563e+53,\n",
       " 7.549193437397498e+52,\n",
       " 5.442281281759722e+52,\n",
       " 3.5632621891349235e+52,\n",
       " 1.1961201789501411e+53,\n",
       " 8.465627841033449e+52,\n",
       " 6.625367762439786e+52,\n",
       " 4.3703777780422577e+52,\n",
       " 1.3033784452829103e+53,\n",
       " 9.010687552715442e+52,\n",
       " 6.131615505205102e+52,\n",
       " 2.6251307548871245e+53,\n",
       " 1.9965783206183765e+53,\n",
       " 1.4870812257424935e+53,\n",
       " 1.0957721390762625e+53,\n",
       " 7.529711404046463e+52,\n",
       " 3.0184751186461973e+53,\n",
       " 7.2067814902426265e+53,\n",
       " 4.784182583579135e+53,\n",
       " 9.657353505736802e+53,\n",
       " 4.2902237095555485e+54,\n",
       " 1.4967697506641542e+55,\n",
       " 3.9453962051802734e+55,\n",
       " 2.827249988857129e+55,\n",
       " 4.716575291229719e+55,\n",
       " 3.056606789622272e+55,\n",
       " 7.669530681903541e+55,\n",
       " 5.302200976294106e+55,\n",
       " 3.601980444874281e+55,\n",
       " 2.5685414142997913e+55,\n",
       " 1.8419528849712222e+55,\n",
       " 2.979343301688195e+55,\n",
       " 4.282712470834563e+55,\n",
       " 2.851671668768384e+55,\n",
       " 1.879762177701315e+55,\n",
       " 2.452080013538036e+55,\n",
       " 1.6849721016941055e+55,\n",
       " 1.2074420686785151e+55,\n",
       " 8.003742205634564e+54,\n",
       " 5.295180815031042e+54,\n",
       " 1.7877012725053566e+55,\n",
       " 3.9666043501900025e+55,\n",
       " 2.833011331534834e+55,\n",
       " 2.0757411910559326e+55,\n",
       " 1.3866009981046874e+55,\n",
       " 2.1797935028168867e+55,\n",
       " 2.8434597446968387e+55,\n",
       " 2.2369637876739834e+55,\n",
       " 1.5628009606711677e+55,\n",
       " 1.136220086202252e+55,\n",
       " 7.8550663661356e+54,\n",
       " 1.0246642617828261e+55,\n",
       " 7.419472060815979e+54,\n",
       " 4.8793118367623e+54,\n",
       " 3.388380662827714e+54,\n",
       " 2.3672106737556673e+54,\n",
       " 1.5604156466927986e+54,\n",
       " 1.017746459630586e+54,\n",
       " 6.722572768462901e+53,\n",
       " 1.0568159451016642e+54,\n",
       " 7.206277071730286e+53,\n",
       " 4.90374568747638e+53,\n",
       " 1.8801221127492717e+54,\n",
       " 5.188651469837185e+54,\n",
       " 3.9479542489637734e+54,\n",
       " 2.892657422072027e+54,\n",
       " 3.632639553299755e+55,\n",
       " 2.6707047397325063e+55,\n",
       " 5.620308519806162e+55,\n",
       " 3.7987431352579864e+55,\n",
       " 2.967827698088296e+55,\n",
       " 1.9873443201988027e+55,\n",
       " 1.438835267798487e+55,\n",
       " 6.160090614794208e+55,\n",
       " 1.0815437262206474e+56,\n",
       " 2.71377163076138e+56,\n",
       " 1.7899353073842856e+56,\n",
       " 1.3003468753863957e+56,\n",
       " 5.806200001725301e+56,\n",
       " 4.218541253397614e+56,\n",
       " 3.0062827422617955e+56,\n",
       " 2.221391188863396e+56,\n",
       " 1.4742938729600522e+56,\n",
       " 1.0711600566403582e+56,\n",
       " 3.003804555339821e+56,\n",
       " 2.2083873022549174e+56,\n",
       " 1.5175161387437832e+56,\n",
       " 1.0814360474334322e+56,\n",
       " 7.241612401924331e+55,\n",
       " 2.4425288057796697e+56,\n",
       " 1.8379826395651004e+56,\n",
       " 1.275092085875912e+56,\n",
       " 8.40513970232417e+55,\n",
       " 6.106140877837253e+55,\n",
       " 3.972346241545473e+55,\n",
       " 2.846562241936596e+55,\n",
       " 2.0927832668060843e+55,\n",
       " 1.5007771159352023e+55,\n",
       " 9.913159879505099e+54,\n",
       " 3.50014868719838e+55,\n",
       " 5.839142233171749e+55,\n",
       " 4.179800239818054e+55,\n",
       " 2.872192895771713e+55,\n",
       " 9.442717350563424e+55,\n",
       " 6.751916022143904e+55,\n",
       " 4.838387200075484e+55,\n",
       " 3.514977134409323e+55,\n",
       " 1.3476608815764306e+56,\n",
       " 8.761652012452827e+55,\n",
       " 6.365138879943849e+55,\n",
       " 7.202823456201213e+55,\n",
       " 5.23326924354928e+55,\n",
       " 1.5141300834545544e+56,\n",
       " 1.12456233612973e+56,\n",
       " 7.3745166074343e+55,\n",
       " 5.323047042869023e+55,\n",
       " 3.8144672702015155e+55,\n",
       " 1.3098450289931596e+56,\n",
       " 9.150917332324731e+55,\n",
       " 5.939624514405762e+55,\n",
       " 4.0127619818979104e+55,\n",
       " 2.6423019948531057e+55,\n",
       " 3.9081092539795014e+55,\n",
       " 6.861572839326797e+55,\n",
       " 6.914763326453361e+55,\n",
       " 1.566326477399273e+56,\n",
       " 1.1379001980231044e+56,\n",
       " 1.5366035956046975e+56,\n",
       " 5.276523400683153e+56,\n",
       " 8.53473222811124e+56,\n",
       " 6.444593723267672e+57,\n",
       " 4.250691442222634e+57,\n",
       " 3.2810181918752816e+57,\n",
       " 4.4306384335277305e+57,\n",
       " 1.4308900245530708e+58,\n",
       " 1.0417205654299509e+58,\n",
       " 3.3447901688268826e+58,\n",
       " 2.40858714770094e+58,\n",
       " 1.8343175268370587e+58,\n",
       " 6.444148330241326e+58,\n",
       " 1.585767985744455e+59,\n",
       " 2.9051821828659295e+59,\n",
       " 2.3973657850479012e+60,\n",
       " 1.5860687395279513e+60,\n",
       " 1.0594984127926574e+60,\n",
       " 7.033422423969899e+59,\n",
       " 1.3215278910399519e+60,\n",
       " 3.705899482067068e+60,\n",
       " 9.897411757651206e+60,\n",
       " 6.735015839754078e+60,\n",
       " 4.4096631619269634e+60,\n",
       " 3.249308747837842e+60,\n",
       " 2.2327960587214515e+60,\n",
       " 3.611528848465356e+60,\n",
       " 2.5880024123240947e+60,\n",
       " 6.1790033539205394e+60,\n",
       " 6.231367789123256e+60,\n",
       " 6.979131923818047e+61,\n",
       " 5.131035004898338e+61,\n",
       " 1.1384891919265523e+62,\n",
       " 3.243288921687309e+62,\n",
       " 1.2434941794131167e+63,\n",
       " 9.360689404719157e+62,\n",
       " 6.3034945486324295e+62,\n",
       " 4.51269593553274e+62,\n",
       " 2.7100701134585205e+63,\n",
       " 1.80119391790624e+63,\n",
       " 1.2864410788728085e+63,\n",
       " 8.593462863549455e+62,\n",
       " 1.8434794406939613e+63,\n",
       " 2.2121753288327535e+64,\n",
       " 1.384903310700136e+65,\n",
       " 1.076204716030908e+65,\n",
       " 3.6830677690942873e+65,\n",
       " 2.6067180869588215e+65,\n",
       " 9.076734328785449e+65,\n",
       " 1.342498680897824e+66,\n",
       " 5.381745259091496e+66,\n",
       " 9.243699879655219e+66,\n",
       " 6.591603237613111e+66,\n",
       " ...]"
      ]
     },
     "execution_count": 371,
     "metadata": {},
     "output_type": "execute_result"
    }
   ],
   "source": [
    "evo"
   ]
  },
  {
   "cell_type": "code",
   "execution_count": 367,
   "id": "0d2dd5e9-223c-4507-b350-a82b11da7703",
   "metadata": {},
   "outputs": [
    {
     "data": {
      "image/png": "[encoded data removed]",
      "text/plain": [
       "<Figure size 432x288 with 1 Axes>"
      ]
     },
     "metadata": {
      "needs_background": "light"
     },
     "output_type": "display_data"
    }
   ],
   "source": [
    "plt.plot(evo)\n",
    "# plt.plot(a*x+b)\n",
    "plt.yscale(\"log\")"
   ]
  },
  {
   "cell_type": "code",
   "execution_count": 34,
   "id": "0af5d085-616d-4388-8404-fc482e0ce719",
   "metadata": {},
   "outputs": [
    {
     "data": {
      "text/html": [
       "<div>\n",
       "<style scoped>\n",
       "    .dataframe tbody tr th:only-of-type {\n",
       "        vertical-align: middle;\n",
       "    }\n",
       "\n",
       "    .dataframe tbody tr th {\n",
       "        vertical-align: top;\n",
       "    }\n",
       "\n",
       "    .dataframe thead th {\n",
       "        text-align: right;\n",
       "    }\n",
       "</style>\n",
       "<table border=\"1\" class=\"dataframe\">\n",
       "  <thead>\n",
       "    <tr style=\"text-align: right;\">\n",
       "      <th></th>\n",
       "      <th>classement</th>\n",
       "    </tr>\n",
       "  </thead>\n",
       "  <tbody>\n",
       "    <tr>\n",
       "      <th>36</th>\n",
       "      <td>3</td>\n",
       "    </tr>\n",
       "    <tr>\n",
       "      <th>37</th>\n",
       "      <td>2</td>\n",
       "    </tr>\n",
       "    <tr>\n",
       "      <th>38</th>\n",
       "      <td>4</td>\n",
       "    </tr>\n",
       "    <tr>\n",
       "      <th>39</th>\n",
       "      <td>6</td>\n",
       "    </tr>\n",
       "    <tr>\n",
       "      <th>40</th>\n",
       "      <td>10</td>\n",
       "    </tr>\n",
       "    <tr>\n",
       "      <th>...</th>\n",
       "      <td>...</td>\n",
       "    </tr>\n",
       "    <tr>\n",
       "      <th>32687</th>\n",
       "      <td>5</td>\n",
       "    </tr>\n",
       "    <tr>\n",
       "      <th>32688</th>\n",
       "      <td>0</td>\n",
       "    </tr>\n",
       "    <tr>\n",
       "      <th>32689</th>\n",
       "      <td>10</td>\n",
       "    </tr>\n",
       "    <tr>\n",
       "      <th>32690</th>\n",
       "      <td>1</td>\n",
       "    </tr>\n",
       "    <tr>\n",
       "      <th>32691</th>\n",
       "      <td>2</td>\n",
       "    </tr>\n",
       "  </tbody>\n",
       "</table>\n",
       "<p>13140 rows × 1 columns</p>\n",
       "</div>"
      ],
      "text/plain": [
       "      classement\n",
       "36             3\n",
       "37             2\n",
       "38             4\n",
       "39             6\n",
       "40            10\n",
       "...          ...\n",
       "32687          5\n",
       "32688          0\n",
       "32689         10\n",
       "32690          1\n",
       "32691          2\n",
       "\n",
       "[13140 rows x 1 columns]"
      ]
     },
     "execution_count": 34,
     "metadata": {},
     "output_type": "execute_result"
    }
   ],
   "source": [
    "y_test"
   ]
  },
  {
   "cell_type": "code",
   "execution_count": 59,
   "id": "d2ea6e61-f816-4ae4-8d26-c8b22695a246",
   "metadata": {},
   "outputs": [
    {
     "data": {
      "text/plain": [
       "35"
      ]
     },
     "execution_count": 59,
     "metadata": {},
     "output_type": "execute_result"
    }
   ],
   "source": [
    "list(X_test)"
   ]
  },
  {
   "cell_type": "code",
   "execution_count": 4,
   "id": "f1bcfb52-aa4e-4786-9395-3066d7644f59",
   "metadata": {
    "tags": []
   },
   "outputs": [],
   "source": [
    "features_pred = ['num',\n",
    " 'tpsLastRace',\n",
    " 'last_race_dist',\n",
    " 'fer',\n",
    " 'firstTimeFer',\n",
    " 'sex',\n",
    " 'age_x',\n",
    " 'dist',\n",
    " 'avisTrainer',\n",
    " 'lastPerf',\n",
    " 'meanPerf',\n",
    " 'medianPerf',\n",
    " 'modePerf',\n",
    " 'recordAbs',\n",
    " 'gain',\n",
    " 'nombreCourses',\n",
    " 'nombreVictoires',\n",
    " 'nombrePlaces',\n",
    " 'nombrePlacesSecond',\n",
    " 'nombrePlacesTroisieme',\n",
    " 'handicapDistance',\n",
    " 'gainsParticipant_gainsPlace',\n",
    " \"dernierRapportDirect_nombreIndicateurTendance\",\n",
    " \"dernierRapportReference_indicateurTendance\",\n",
    " 'gainsParticipant_gainsAnneeEnCours',\n",
    " 'gainsParticipant_gainsAnneePrecedente',\n",
    " 'dernierRapportDirect_rapport',\n",
    " 'dernierRapportReference_rapport',\n",
    " 'nbCourseCouple',\n",
    " 'nbVictoiresCouple',\n",
    " 'nb2emeCouple',\n",
    " 'nb3emeCouple',\n",
    " 'txReussiteCouple']"
   ]
  },
  {
   "cell_type": "markdown",
   "id": "8f524e9a-6474-4bc7-9dd0-b0c402ef9937",
   "metadata": {},
   "source": [
    "# Prédictions"
   ]
  },
  {
   "cell_type": "code",
   "execution_count": 2,
   "id": "c75f7e3b-3c94-469a-b25e-a7943037a987",
   "metadata": {},
   "outputs": [],
   "source": [
    "loaded_model = lgb.Booster(model_file=\"models/modelv1.txt\")"
   ]
  },
  {
   "cell_type": "code",
   "execution_count": 1,
   "id": "af3375cc-f51b-4608-99e8-b9f0065bf012",
   "metadata": {},
   "outputs": [
    {
     "ename": "NameError",
     "evalue": "name 'pd' is not defined",
     "output_type": "error",
     "traceback": [
      "\u001b[1;31m---------------------------------------------------------------------------\u001b[0m",
      "\u001b[1;31mNameError\u001b[0m                                 Traceback (most recent call last)",
      "\u001b[1;32m<ipython-input-1-51d738bcd7ca>\u001b[0m in \u001b[0;36m<module>\u001b[1;34m\u001b[0m\n\u001b[1;32m----> 1\u001b[1;33m \u001b[0mtoday\u001b[0m \u001b[1;33m=\u001b[0m \u001b[0mpd\u001b[0m\u001b[1;33m.\u001b[0m\u001b[0mread_csv\u001b[0m\u001b[1;33m(\u001b[0m\u001b[1;34m\"vincenne.csv\"\u001b[0m\u001b[1;33m,\u001b[0m \u001b[0mindex_col\u001b[0m\u001b[1;33m=\u001b[0m\u001b[1;36m0\u001b[0m\u001b[1;33m)\u001b[0m\u001b[1;33m\u001b[0m\u001b[1;33m\u001b[0m\u001b[0m\n\u001b[0m\u001b[0;32m      2\u001b[0m \u001b[0mtoday_feat\u001b[0m \u001b[1;33m=\u001b[0m \u001b[0mtoday\u001b[0m\u001b[1;33m.\u001b[0m\u001b[0mloc\u001b[0m\u001b[1;33m[\u001b[0m\u001b[1;33m:\u001b[0m\u001b[1;33m]\u001b[0m\u001b[1;33m[\u001b[0m\u001b[0mfeatures_pred\u001b[0m\u001b[1;33m]\u001b[0m\u001b[1;33m\u001b[0m\u001b[1;33m\u001b[0m\u001b[0m\n\u001b[0;32m      3\u001b[0m \u001b[0mtoday_feat\u001b[0m\u001b[1;33m[\u001b[0m\u001b[1;34m\"dernierRapportReference_indicateurTendance\"\u001b[0m\u001b[1;33m]\u001b[0m \u001b[1;33m=\u001b[0m \u001b[0mtoday_feat\u001b[0m\u001b[1;33m[\u001b[0m\u001b[1;34m\"dernierRapportReference_indicateurTendance\"\u001b[0m\u001b[1;33m]\u001b[0m\u001b[1;33m.\u001b[0m\u001b[0mreplace\u001b[0m\u001b[1;33m(\u001b[0m\u001b[1;33m[\u001b[0m\u001b[1;34m\"+\"\u001b[0m\u001b[1;33m,\u001b[0m \u001b[1;34m\" \"\u001b[0m\u001b[1;33m,\u001b[0m \u001b[1;34m\"-\"\u001b[0m\u001b[1;33m]\u001b[0m\u001b[1;33m,\u001b[0m \u001b[1;33m[\u001b[0m\u001b[1;36m1\u001b[0m\u001b[1;33m,\u001b[0m \u001b[1;36m0\u001b[0m\u001b[1;33m,\u001b[0m \u001b[1;33m-\u001b[0m\u001b[1;36m1\u001b[0m\u001b[1;33m]\u001b[0m\u001b[1;33m)\u001b[0m\u001b[1;33m.\u001b[0m\u001b[0mfillna\u001b[0m\u001b[1;33m(\u001b[0m\u001b[1;36m0\u001b[0m\u001b[1;33m)\u001b[0m\u001b[1;33m\u001b[0m\u001b[1;33m\u001b[0m\u001b[0m\n\u001b[0;32m      4\u001b[0m \u001b[0mtoday_feat\u001b[0m \u001b[1;33m=\u001b[0m \u001b[0mtoday_feat\u001b[0m\u001b[1;33m.\u001b[0m\u001b[0mapply\u001b[0m\u001b[1;33m(\u001b[0m\u001b[0mpd\u001b[0m\u001b[1;33m.\u001b[0m\u001b[0mto_numeric\u001b[0m\u001b[1;33m,\u001b[0m \u001b[0merrors\u001b[0m\u001b[1;33m=\u001b[0m\u001b[1;34m\"coerce\"\u001b[0m\u001b[1;33m)\u001b[0m\u001b[1;33m\u001b[0m\u001b[1;33m\u001b[0m\u001b[0m\n\u001b[0;32m      5\u001b[0m \u001b[0mtoday_feat\u001b[0m\u001b[1;33m\u001b[0m\u001b[1;33m\u001b[0m\u001b[0m\n",
      "\u001b[1;31mNameError\u001b[0m: name 'pd' is not defined"
     ]
    }
   ],
   "source": [
    "today = pd.read_csv(\"vincenne.csv\", index_col=0)\n",
    "today_feat = today.loc[:][features_pred]\n",
    "today_feat[\"dernierRapportReference_indicateurTendance\"] = today_feat[\"dernierRapportReference_indicateurTendance\"].replace([\"+\", \" \", \"-\"], [1, 0, -1]).fillna(0)\n",
    "today_feat = today_feat.apply(pd.to_numeric, errors=\"coerce\")\n",
    "today_feat"
   ]
  },
  {
   "cell_type": "code",
   "execution_count": 31,
   "id": "7c6e3ebc-0334-40fa-a207-9068bbccbe68",
   "metadata": {},
   "outputs": [
    {
     "data": {
      "text/plain": [
       "0     29.5\n",
       "1     61.1\n",
       "2     67.3\n",
       "3      6.3\n",
       "4      3.8\n",
       "5     68.7\n",
       "6      7.7\n",
       "7      6.5\n",
       "8     41.1\n",
       "9      5.0\n",
       "10    31.3\n",
       "11     8.0\n",
       "Name: dernierRapportDirect_rapport, dtype: float64"
      ]
     },
     "execution_count": 31,
     "metadata": {},
     "output_type": "execute_result"
    }
   ],
   "source": [
    "today.loc[today[\"numCoursePMU\"] == \"R10C3\"][\"dernierRapportDirect_rapport\"]"
   ]
  },
  {
   "cell_type": "code",
   "execution_count": 151,
   "id": "bcc61267-fd0a-4e43-8a6d-beac9bb14519",
   "metadata": {
    "collapsed": true,
    "jupyter": {
     "outputs_hidden": true
    },
    "tags": []
   },
   "outputs": [
    {
     "data": {
      "text/plain": [
       "['num',\n",
       " 'nom',\n",
       " 'id',\n",
       " 'date',\n",
       " 'url',\n",
       " 'tpsLastRace',\n",
       " 'last_race_dist',\n",
       " 'fer',\n",
       " 'firstTimeFer',\n",
       " 'sex',\n",
       " 'age_x',\n",
       " 'dist',\n",
       " 'driver_x',\n",
       " 'trainer',\n",
       " 'avisTrainer',\n",
       " 'music',\n",
       " 'nbArrivé',\n",
       " 'lastPerf',\n",
       " 'meanPerf',\n",
       " 'medianPerf',\n",
       " 'modePerf',\n",
       " 'recordAbs',\n",
       " 'gain',\n",
       " 'numPmu',\n",
       " 'age_y',\n",
       " 'sexe',\n",
       " 'race',\n",
       " 'statut',\n",
       " 'oeilleres',\n",
       " 'proprietaire',\n",
       " 'entraineur',\n",
       " 'driver_y',\n",
       " 'driverChange',\n",
       " 'indicateurInedit',\n",
       " 'musique',\n",
       " 'nombreCourses',\n",
       " 'nombreVictoires',\n",
       " 'nombrePlaces',\n",
       " 'nombrePlacesSecond',\n",
       " 'nombrePlacesTroisieme',\n",
       " 'nomPere',\n",
       " 'nomMere',\n",
       " 'jumentPleine',\n",
       " 'engagement',\n",
       " 'supplement',\n",
       " 'handicapDistance',\n",
       " 'poidsConditionMonteChange',\n",
       " 'urlCasaque',\n",
       " 'eleveur',\n",
       " 'allure',\n",
       " 'avisEntraineur',\n",
       " 'robe_code',\n",
       " 'robe_libelleCourt',\n",
       " 'robe_libelleLong',\n",
       " 'gainsParticipant_gainsCarriere',\n",
       " 'gainsParticipant_gainsVictoires',\n",
       " 'gainsParticipant_gainsPlace',\n",
       " 'gainsParticipant_gainsAnneeEnCours',\n",
       " 'gainsParticipant_gainsAnneePrecedente',\n",
       " 'dernierRapportDirect_typePari',\n",
       " 'dernierRapportDirect_rapport',\n",
       " 'dernierRapportDirect_typeRapport',\n",
       " 'dernierRapportDirect_indicateurTendance',\n",
       " 'dernierRapportDirect_nombreIndicateurTendance',\n",
       " 'dernierRapportDirect_dateRapport',\n",
       " 'dernierRapportDirect_permutation',\n",
       " 'dernierRapportDirect_favoris',\n",
       " 'dernierRapportDirect_numPmu1',\n",
       " 'dernierRapportDirect_grossePrise',\n",
       " 'dernierRapportReference_typePari',\n",
       " 'dernierRapportReference_rapport',\n",
       " 'dernierRapportReference_typeRapport',\n",
       " 'dernierRapportReference_indicateurTendance',\n",
       " 'dernierRapportReference_nombreIndicateurTendance',\n",
       " 'dernierRapportReference_dateRapport',\n",
       " 'dernierRapportReference_permutation',\n",
       " 'dernierRapportReference_favoris',\n",
       " 'dernierRapportReference_numPmu1',\n",
       " 'dernierRapportReference_grossePrise',\n",
       " 'deferre',\n",
       " 'numReunion',\n",
       " 'nbCourseCouple',\n",
       " 'nbVictoiresCouple',\n",
       " 'nb2emeCouple',\n",
       " 'nb3emeCouple',\n",
       " 'txReussiteCouple',\n",
       " 'nonPartant',\n",
       " 'ecurie',\n",
       " 'tauxReclamation',\n",
       " 'placeCorde',\n",
       " 'pred']"
      ]
     },
     "execution_count": 151,
     "metadata": {},
     "output_type": "execute_result"
    }
   ],
   "source": [
    "list(today)"
   ]
  },
  {
   "cell_type": "code",
   "execution_count": 45,
   "id": "7d46c685-ec04-460a-8367-9fb3ac5066fb",
   "metadata": {},
   "outputs": [],
   "source": [
    "pred_today = loaded_model.predict(today_feat)"
   ]
  },
  {
   "cell_type": "code",
   "execution_count": 46,
   "id": "53f99962-0422-46c4-abbc-65e1cbca237d",
   "metadata": {},
   "outputs": [],
   "source": [
    "today[\"pred\"] = pred_today\n",
    "today['pred'] = today.groupby(\"id\")[\"pred\"].rank(\"dense\",ascending=True).astype(int)\n",
    "today['pred'] = today.groupby(\"id\")[\"pred\"].rank(\"first\").astype(int)"
   ]
  },
  {
   "cell_type": "code",
   "execution_count": 11,
   "id": "0f79ae18-9dca-4519-8579-9d9d814292e2",
   "metadata": {},
   "outputs": [
    {
     "data": {
      "text/html": [
       "<div>\n",
       "<style scoped>\n",
       "    .dataframe tbody tr th:only-of-type {\n",
       "        vertical-align: middle;\n",
       "    }\n",
       "\n",
       "    .dataframe tbody tr th {\n",
       "        vertical-align: top;\n",
       "    }\n",
       "\n",
       "    .dataframe thead th {\n",
       "        text-align: right;\n",
       "    }\n",
       "</style>\n",
       "<table border=\"1\" class=\"dataframe\">\n",
       "  <thead>\n",
       "    <tr style=\"text-align: right;\">\n",
       "      <th></th>\n",
       "      <th>num</th>\n",
       "      <th>nom</th>\n",
       "      <th>pred</th>\n",
       "    </tr>\n",
       "  </thead>\n",
       "  <tbody>\n",
       "    <tr>\n",
       "      <th>12</th>\n",
       "      <td>13</td>\n",
       "      <td>HAPUNA BEACH</td>\n",
       "      <td>1</td>\n",
       "    </tr>\n",
       "    <tr>\n",
       "      <th>9</th>\n",
       "      <td>10</td>\n",
       "      <td>FILOU DE L'ELLE</td>\n",
       "      <td>1</td>\n",
       "    </tr>\n",
       "    <tr>\n",
       "      <th>9</th>\n",
       "      <td>10</td>\n",
       "      <td>JEMILLIA BELLA</td>\n",
       "      <td>1</td>\n",
       "    </tr>\n",
       "    <tr>\n",
       "      <th>1</th>\n",
       "      <td>2</td>\n",
       "      <td>I LOVE JAM</td>\n",
       "      <td>1</td>\n",
       "    </tr>\n",
       "    <tr>\n",
       "      <th>11</th>\n",
       "      <td>12</td>\n",
       "      <td>HELIO VAINE</td>\n",
       "      <td>1</td>\n",
       "    </tr>\n",
       "    <tr>\n",
       "      <th>...</th>\n",
       "      <td>...</td>\n",
       "      <td>...</td>\n",
       "      <td>...</td>\n",
       "    </tr>\n",
       "    <tr>\n",
       "      <th>15</th>\n",
       "      <td>16</td>\n",
       "      <td>EXPERT CASTELETS</td>\n",
       "      <td>16</td>\n",
       "    </tr>\n",
       "    <tr>\n",
       "      <th>1</th>\n",
       "      <td>2</td>\n",
       "      <td>FLORE MERITE</td>\n",
       "      <td>16</td>\n",
       "    </tr>\n",
       "    <tr>\n",
       "      <th>13</th>\n",
       "      <td>14</td>\n",
       "      <td>FOLIE BLONDE</td>\n",
       "      <td>17</td>\n",
       "    </tr>\n",
       "    <tr>\n",
       "      <th>13</th>\n",
       "      <td>14</td>\n",
       "      <td>FLORA VENESI</td>\n",
       "      <td>17</td>\n",
       "    </tr>\n",
       "    <tr>\n",
       "      <th>9</th>\n",
       "      <td>10</td>\n",
       "      <td>ELVIS D'AUVRECY</td>\n",
       "      <td>18</td>\n",
       "    </tr>\n",
       "  </tbody>\n",
       "</table>\n",
       "<p>168 rows × 3 columns</p>\n",
       "</div>"
      ],
      "text/plain": [
       "   num               nom  pred\n",
       "12  13      HAPUNA BEACH     1\n",
       "9   10   FILOU DE L'ELLE     1\n",
       "9   10    JEMILLIA BELLA     1\n",
       "1    2        I LOVE JAM     1\n",
       "11  12       HELIO VAINE     1\n",
       "..  ..               ...   ...\n",
       "15  16  EXPERT CASTELETS    16\n",
       "1    2      FLORE MERITE    16\n",
       "13  14      FOLIE BLONDE    17\n",
       "13  14      FLORA VENESI    17\n",
       "9   10   ELVIS D'AUVRECY    18\n",
       "\n",
       "[168 rows x 3 columns]"
      ]
     },
     "execution_count": 11,
     "metadata": {},
     "output_type": "execute_result"
    }
   ],
   "source": [
    "today.sort_values(by=\"pred\")[[\"num\", \"nom\", \"pred\"]]"
   ]
  },
  {
   "cell_type": "code",
   "execution_count": 160,
   "id": "df72e016-a072-4eaa-8bf6-80cd5ece95f1",
   "metadata": {},
   "outputs": [],
   "source": [
    "groupe_len = today[[\"num\", \"nom\",\"pred\",\"id\",\"url\"]].groupby(\"id\").size()"
   ]
  },
  {
   "cell_type": "code",
   "execution_count": 49,
   "id": "4b21ddfa-2627-4612-87ab-ae4350459389",
   "metadata": {
    "tags": []
   },
   "outputs": [
    {
     "data": {
      "text/html": [
       "<div>\n",
       "<style scoped>\n",
       "    .dataframe tbody tr th:only-of-type {\n",
       "        vertical-align: middle;\n",
       "    }\n",
       "\n",
       "    .dataframe tbody tr th {\n",
       "        vertical-align: top;\n",
       "    }\n",
       "\n",
       "    .dataframe thead th {\n",
       "        text-align: right;\n",
       "    }\n",
       "</style>\n",
       "<table border=\"1\" class=\"dataframe\">\n",
       "  <thead>\n",
       "    <tr style=\"text-align: right;\">\n",
       "      <th></th>\n",
       "      <th>numCoursePMU</th>\n",
       "      <th>num</th>\n",
       "      <th>nom</th>\n",
       "      <th>dernierRapportReference_rapport</th>\n",
       "      <th>pred</th>\n",
       "    </tr>\n",
       "  </thead>\n",
       "  <tbody>\n",
       "    <tr>\n",
       "      <th>10</th>\n",
       "      <td>R4C1</td>\n",
       "      <td>11</td>\n",
       "      <td>ETINCELLE DE NIEUL</td>\n",
       "      <td>24.0</td>\n",
       "      <td>1</td>\n",
       "    </tr>\n",
       "    <tr>\n",
       "      <th>3</th>\n",
       "      <td>R4C4</td>\n",
       "      <td>4</td>\n",
       "      <td>IN BEETWEEN US</td>\n",
       "      <td>8.5</td>\n",
       "      <td>1</td>\n",
       "    </tr>\n",
       "    <tr>\n",
       "      <th>9</th>\n",
       "      <td>R4C8</td>\n",
       "      <td>10</td>\n",
       "      <td>JEMILLIA BELLA</td>\n",
       "      <td>13.0</td>\n",
       "      <td>1</td>\n",
       "    </tr>\n",
       "  </tbody>\n",
       "</table>\n",
       "</div>"
      ],
      "text/plain": [
       "   numCoursePMU num                 nom  dernierRapportReference_rapport  pred\n",
       "10         R4C1  11  ETINCELLE DE NIEUL                             24.0     1\n",
       "3          R4C4   4      IN BEETWEEN US                              8.5     1\n",
       "9          R4C8  10      JEMILLIA BELLA                             13.0     1"
      ]
     },
     "execution_count": 49,
     "metadata": {},
     "output_type": "execute_result"
    }
   ],
   "source": [
    "winners = today[[\"numCoursePMU\",\"num\", \"nom\",\"dernierRapportReference_rapport\",\"pred\"]].loc[today[\"pred\"]==1]\n",
    "winners"
   ]
  },
  {
   "cell_type": "code",
   "execution_count": 36,
   "id": "a087124e-2c0a-4e1d-bade-c7d90fa14153",
   "metadata": {},
   "outputs": [
    {
     "data": {
      "text/html": [
       "<div>\n",
       "<style scoped>\n",
       "    .dataframe tbody tr th:only-of-type {\n",
       "        vertical-align: middle;\n",
       "    }\n",
       "\n",
       "    .dataframe tbody tr th {\n",
       "        vertical-align: top;\n",
       "    }\n",
       "\n",
       "    .dataframe thead th {\n",
       "        text-align: right;\n",
       "    }\n",
       "</style>\n",
       "<table border=\"1\" class=\"dataframe\">\n",
       "  <thead>\n",
       "    <tr style=\"text-align: right;\">\n",
       "      <th></th>\n",
       "      <th>numCoursePMU</th>\n",
       "      <th>num</th>\n",
       "      <th>nom</th>\n",
       "      <th>dernierRapportDirect_rapport</th>\n",
       "      <th>pred</th>\n",
       "    </tr>\n",
       "  </thead>\n",
       "  <tbody>\n",
       "    <tr>\n",
       "      <th>10</th>\n",
       "      <td>R4C1</td>\n",
       "      <td>11</td>\n",
       "      <td>ETINCELLE DE NIEUL</td>\n",
       "      <td>24.0</td>\n",
       "      <td>1</td>\n",
       "    </tr>\n",
       "    <tr>\n",
       "      <th>3</th>\n",
       "      <td>R4C4</td>\n",
       "      <td>4</td>\n",
       "      <td>IN BEETWEEN US</td>\n",
       "      <td>8.5</td>\n",
       "      <td>1</td>\n",
       "    </tr>\n",
       "    <tr>\n",
       "      <th>9</th>\n",
       "      <td>R4C8</td>\n",
       "      <td>10</td>\n",
       "      <td>JEMILLIA BELLA</td>\n",
       "      <td>13.0</td>\n",
       "      <td>1</td>\n",
       "    </tr>\n",
       "    <tr>\n",
       "      <th>1</th>\n",
       "      <td>R10C3</td>\n",
       "      <td>2</td>\n",
       "      <td>I LOVE JAM</td>\n",
       "      <td>61.1</td>\n",
       "      <td>1</td>\n",
       "    </tr>\n",
       "    <tr>\n",
       "      <th>7</th>\n",
       "      <td>R10C4</td>\n",
       "      <td>8</td>\n",
       "      <td>INSTINCT DU RENARD</td>\n",
       "      <td>9.6</td>\n",
       "      <td>1</td>\n",
       "    </tr>\n",
       "    <tr>\n",
       "      <th>12</th>\n",
       "      <td>R10C5</td>\n",
       "      <td>13</td>\n",
       "      <td>FEDORA DU CHATELET</td>\n",
       "      <td>7.5</td>\n",
       "      <td>1</td>\n",
       "    </tr>\n",
       "    <tr>\n",
       "      <th>5</th>\n",
       "      <td>R10C8</td>\n",
       "      <td>6</td>\n",
       "      <td>FOREVER DES NOELS</td>\n",
       "      <td>9.0</td>\n",
       "      <td>1</td>\n",
       "    </tr>\n",
       "    <tr>\n",
       "      <th>5</th>\n",
       "      <td>R13C3</td>\n",
       "      <td>6</td>\n",
       "      <td>IRENE FLASH</td>\n",
       "      <td>2.6</td>\n",
       "      <td>1</td>\n",
       "    </tr>\n",
       "  </tbody>\n",
       "</table>\n",
       "</div>"
      ],
      "text/plain": [
       "   numCoursePMU num                 nom  dernierRapportDirect_rapport  pred\n",
       "10         R4C1  11  ETINCELLE DE NIEUL                          24.0     1\n",
       "3          R4C4   4      IN BEETWEEN US                           8.5     1\n",
       "9          R4C8  10      JEMILLIA BELLA                          13.0     1\n",
       "1         R10C3   2          I LOVE JAM                          61.1     1\n",
       "7         R10C4   8  INSTINCT DU RENARD                           9.6     1\n",
       "12        R10C5  13  FEDORA DU CHATELET                           7.5     1\n",
       "5         R10C8   6   FOREVER DES NOELS                           9.0     1\n",
       "5         R13C3   6         IRENE FLASH                           2.6     1"
      ]
     },
     "execution_count": 36,
     "metadata": {},
     "output_type": "execute_result"
    }
   ],
   "source": [
    "winners = winners.dropna()\n",
    "winners"
   ]
  },
  {
   "cell_type": "code",
   "execution_count": 37,
   "id": "ec7c9c5c-6c81-4d01-a287-087e4191a88f",
   "metadata": {},
   "outputs": [],
   "source": [
    "def kelly(rapport, capital, p):\n",
    "    return p-(1-p)/rapport"
   ]
  },
  {
   "cell_type": "code",
   "execution_count": 42,
   "id": "bb169231-41cc-4d24-abce-aaf17e07f9d8",
   "metadata": {},
   "outputs": [
    {
     "name": "stderr",
     "output_type": "stream",
     "text": [
      "<ipython-input-42-352da2f34dbd>:2: SettingWithCopyWarning: \n",
      "A value is trying to be set on a copy of a slice from a DataFrame.\n",
      "Try using .loc[row_indexer,col_indexer] = value instead\n",
      "\n",
      "See the caveats in the documentation: https://pandas.pydata.org/pandas-docs/stable/user_guide/indexing.html#returning-a-view-versus-a-copy\n",
      "  winners[\"mises\"] = winners[\"dernierRapportDirect_rapport\"].apply(lambda x: kelly(x, capital, 0.3) * capital)\n"
     ]
    },
    {
     "data": {
      "text/html": [
       "<div>\n",
       "<style scoped>\n",
       "    .dataframe tbody tr th:only-of-type {\n",
       "        vertical-align: middle;\n",
       "    }\n",
       "\n",
       "    .dataframe tbody tr th {\n",
       "        vertical-align: top;\n",
       "    }\n",
       "\n",
       "    .dataframe thead th {\n",
       "        text-align: right;\n",
       "    }\n",
       "</style>\n",
       "<table border=\"1\" class=\"dataframe\">\n",
       "  <thead>\n",
       "    <tr style=\"text-align: right;\">\n",
       "      <th></th>\n",
       "      <th>numCoursePMU</th>\n",
       "      <th>num</th>\n",
       "      <th>nom</th>\n",
       "      <th>dernierRapportDirect_rapport</th>\n",
       "      <th>pred</th>\n",
       "      <th>mises</th>\n",
       "    </tr>\n",
       "  </thead>\n",
       "  <tbody>\n",
       "    <tr>\n",
       "      <th>10</th>\n",
       "      <td>R4C1</td>\n",
       "      <td>11</td>\n",
       "      <td>ETINCELLE DE NIEUL</td>\n",
       "      <td>24.0</td>\n",
       "      <td>1</td>\n",
       "      <td>5.416667</td>\n",
       "    </tr>\n",
       "    <tr>\n",
       "      <th>3</th>\n",
       "      <td>R4C4</td>\n",
       "      <td>4</td>\n",
       "      <td>IN BEETWEEN US</td>\n",
       "      <td>8.5</td>\n",
       "      <td>1</td>\n",
       "      <td>4.352941</td>\n",
       "    </tr>\n",
       "    <tr>\n",
       "      <th>9</th>\n",
       "      <td>R4C8</td>\n",
       "      <td>10</td>\n",
       "      <td>JEMILLIA BELLA</td>\n",
       "      <td>13.0</td>\n",
       "      <td>1</td>\n",
       "      <td>4.923077</td>\n",
       "    </tr>\n",
       "    <tr>\n",
       "      <th>1</th>\n",
       "      <td>R10C3</td>\n",
       "      <td>2</td>\n",
       "      <td>I LOVE JAM</td>\n",
       "      <td>61.1</td>\n",
       "      <td>1</td>\n",
       "      <td>5.770867</td>\n",
       "    </tr>\n",
       "    <tr>\n",
       "      <th>7</th>\n",
       "      <td>R10C4</td>\n",
       "      <td>8</td>\n",
       "      <td>INSTINCT DU RENARD</td>\n",
       "      <td>9.6</td>\n",
       "      <td>1</td>\n",
       "      <td>4.541667</td>\n",
       "    </tr>\n",
       "    <tr>\n",
       "      <th>12</th>\n",
       "      <td>R10C5</td>\n",
       "      <td>13</td>\n",
       "      <td>FEDORA DU CHATELET</td>\n",
       "      <td>7.5</td>\n",
       "      <td>1</td>\n",
       "      <td>4.133333</td>\n",
       "    </tr>\n",
       "    <tr>\n",
       "      <th>5</th>\n",
       "      <td>R10C8</td>\n",
       "      <td>6</td>\n",
       "      <td>FOREVER DES NOELS</td>\n",
       "      <td>9.0</td>\n",
       "      <td>1</td>\n",
       "      <td>4.444444</td>\n",
       "    </tr>\n",
       "    <tr>\n",
       "      <th>5</th>\n",
       "      <td>R13C3</td>\n",
       "      <td>6</td>\n",
       "      <td>IRENE FLASH</td>\n",
       "      <td>2.6</td>\n",
       "      <td>1</td>\n",
       "      <td>0.615385</td>\n",
       "    </tr>\n",
       "  </tbody>\n",
       "</table>\n",
       "</div>"
      ],
      "text/plain": [
       "   numCoursePMU num                 nom  dernierRapportDirect_rapport  pred  \\\n",
       "10         R4C1  11  ETINCELLE DE NIEUL                          24.0     1   \n",
       "3          R4C4   4      IN BEETWEEN US                           8.5     1   \n",
       "9          R4C8  10      JEMILLIA BELLA                          13.0     1   \n",
       "1         R10C3   2          I LOVE JAM                          61.1     1   \n",
       "7         R10C4   8  INSTINCT DU RENARD                           9.6     1   \n",
       "12        R10C5  13  FEDORA DU CHATELET                           7.5     1   \n",
       "5         R10C8   6   FOREVER DES NOELS                           9.0     1   \n",
       "5         R13C3   6         IRENE FLASH                           2.6     1   \n",
       "\n",
       "       mises  \n",
       "10  5.416667  \n",
       "3   4.352941  \n",
       "9   4.923077  \n",
       "1   5.770867  \n",
       "7   4.541667  \n",
       "12  4.133333  \n",
       "5   4.444444  \n",
       "5   0.615385  "
      ]
     },
     "execution_count": 42,
     "metadata": {},
     "output_type": "execute_result"
    }
   ],
   "source": [
    "capital = 20\n",
    "winners[\"mises\"] = winners[\"dernierRapportDirect_rapport\"].apply(lambda x: kelly(x, capital, 0.3) * capital)\n",
    "winners"
   ]
  },
  {
   "cell_type": "code",
   "execution_count": 139,
   "id": "3d326aaf-ceb7-47e9-a7f9-62c43cb73c3b",
   "metadata": {},
   "outputs": [
    {
     "data": {
      "text/plain": [
       "11     28.188602\n",
       "10     16.208354\n",
       "0     150.000000\n",
       "13     77.932422\n",
       "10     20.670172\n",
       "11    144.349776\n",
       "6      31.152423\n",
       "dtype: float64"
      ]
     },
     "execution_count": 139,
     "metadata": {},
     "output_type": "execute_result"
    }
   ],
   "source": [
    "winners[\"mises\"] * winners[\"dernierRapportDirect_rapport\"]"
   ]
  },
  {
   "cell_type": "code",
   "execution_count": 142,
   "id": "03b41516-49f4-4698-841d-c203cd569768",
   "metadata": {},
   "outputs": [
    {
     "data": {
      "text/plain": [
       "23.95458126218623"
      ]
     },
     "execution_count": 142,
     "metadata": {},
     "output_type": "execute_result"
    }
   ],
   "source": [
    "winners[\"mises\"].sum()"
   ]
  }
 ],
 "metadata": {
  "kernelspec": {
   "display_name": "Python 3",
   "language": "python",
   "name": "python3"
  },
  "language_info": {
   "codemirror_mode": {
    "name": "ipython",
    "version": 3
   },
   "file_extension": ".py",
   "mimetype": "text/x-python",
   "name": "python",
   "nbconvert_exporter": "python",
   "pygments_lexer": "ipython3",
   "version": "3.8.8"
  },
  "vscode": {
   "interpreter": {
    "hash": "79e075de7c98916d60496b9489bf1fe5c50569748fa1dcacf5e2ed9dac0edc73"
   }
  }
 },
 "nbformat": 4,
 "nbformat_minor": 5
}
